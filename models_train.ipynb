{
 "cells": [
  {
   "cell_type": "code",
   "execution_count": 1,
   "metadata": {},
   "outputs": [],
   "source": [
    "from pathlib import Path\n",
    "\n",
    "import numpy as np\n",
    "import pandas as pd\n",
    "from pandas_profiling import ProfileReport\n",
    "\n",
    "import geopandas as gpd\n",
    "import matplotlib\n",
    "import matplotlib.pyplot as plt\n",
    "from mpl_toolkits.axes_grid1 import make_axes_locatable\n",
    "import plotly.graph_objects as go\n",
    "\n",
    "import pandas as pd\n",
    "import numpy as np\n",
    "import sklearn\n",
    "import seaborn as sns\n",
    "from sklearn.model_selection import train_test_split\n",
    "from sklearn.ensemble import RandomForestRegressor, RandomForestClassifier\n",
    "from sklearn.linear_model import LogisticRegressionCV\n",
    "from sklearn.metrics import confusion_matrix\n",
    "from math import floor\n",
    "from sklearn.preprocessing import StandardScaler, OneHotEncoder\n",
    "from sklearn.metrics import accuracy_score,plot_confusion_matrix,roc_auc_score, classification_report, confusion_matrix, precision_recall_curve, auc\n",
    "import pandas as pd\n",
    "import numpy as np\n",
    "import seaborn as sns\n",
    "from sklearn.model_selection import train_test_split\n",
    "from sklearn.ensemble import RandomForestClassifier\n",
    "from sklearn.linear_model import LogisticRegressionCV\n",
    "from sklearn.preprocessing import StandardScaler\n",
    "from sklearn.metrics import accuracy_score,plot_confusion_matrix, classification_report, confusion_matrix\n",
    "from sklearn.base import clone\n",
    "from sklearn.preprocessing import StandardScaler\n",
    "from sklearn.svm import SVC \n",
    "from sklearn.svm import LinearSVC\n",
    "import matplotlib.pyplot as plt\n",
    "from imblearn.over_sampling import SMOTE\n",
    "from collections import Counter\n",
    "from sklearn.tree import DecisionTreeRegressor\n",
    "from matplotlib import pyplot\n",
    "from sklearn import svm\n",
    "from sklearn.linear_model import LinearRegression\n",
    "from sklearn.metrics import mean_squared_error\n",
    "from sklearn.neighbors import KNeighborsRegressor\n",
    "\n"
   ]
  },
  {
   "cell_type": "markdown",
   "metadata": {},
   "source": [
    "Lectura de datos"
   ]
  },
  {
   "cell_type": "code",
   "execution_count": 2,
   "metadata": {},
   "outputs": [],
   "source": [
    "data_dir = Path('')\n",
    "full_df = pd.concat(\n",
    "    pd.read_parquet(parquet_file)\n",
    "    for parquet_file in data_dir.glob('processed_data.parquet')\n",
    ")\n"
   ]
  },
  {
   "cell_type": "code",
   "execution_count": 3,
   "metadata": {},
   "outputs": [],
   "source": [
    "reduced_df = full_df[['airport_fee', 'PULocationID', 'DOLocationID', 'trip_distance', 'congestion_surcharge', 'pickup_day', 'pickup_month', 'pickup_hour', 'payment_type_1', 'payment_type_2', 'payment_type_3', 'payment_type_4', 'payment_type_5']]"
   ]
  },
  {
   "cell_type": "code",
   "execution_count": 4,
   "metadata": {},
   "outputs": [
    {
     "data": {
      "text/plain": [
       "((16686406, 13), (7151318, 13))"
      ]
     },
     "execution_count": 4,
     "metadata": {},
     "output_type": "execute_result"
    }
   ],
   "source": [
    "X_train, X_test, y_train, y_test = train_test_split(\n",
    "    reduced_df, \n",
    "    full_df['total_amount'],  \n",
    "    test_size=0.3,\n",
    "    random_state=42)\n",
    "\n",
    "X_train.shape, X_test.shape"
   ]
  },
  {
   "cell_type": "code",
   "execution_count": 5,
   "metadata": {},
   "outputs": [],
   "source": [
    "X_train_discretized, X_test_discretized, y_train_discretized, y_test_discretized = train_test_split(\n",
    "    reduced_df, \n",
    "    full_df['cost_caterogy'],  \n",
    "    test_size=0.3,\n",
    "    random_state=42)"
   ]
  },
  {
   "cell_type": "code",
   "execution_count": 11,
   "metadata": {},
   "outputs": [
    {
     "name": "stdout",
     "output_type": "stream",
     "text": [
      "LinearSVC\n",
      "amount\n"
     ]
    },
    {
     "name": "stderr",
     "output_type": "stream",
     "text": [
      "/Users/ezefernandez/opt/anaconda3/lib/python3.9/site-packages/sklearn/svm/_base.py:301: ConvergenceWarning: Solver terminated early (max_iter=5).  Consider pre-processing your data with StandardScaler or MinMaxScaler.\n",
      "  warnings.warn(\n"
     ]
    },
    {
     "name": "stdout",
     "output_type": "stream",
     "text": [
      "LinearRegression\n",
      "amount\n",
      "RandomForest\n",
      "amount\n",
      "                  amount_err\n",
      "LinearRegression    6.594202\n",
      "RandomForest        5.518615\n",
      "           amount_err  amountscore\n",
      "LinearSVC   27.552925    -3.249111\n"
     ]
    }
   ],
   "source": [
    "# Modelos a ensayar.\n",
    "models = [\n",
    "    #(\"KNeighborsRegressor\", KNeighborsRegressor()),\n",
    "    (\"LinearRegression\", LinearRegression()),\n",
    "    (\"RandomForest\", RandomForestRegressor(n_estimators=20, random_state=42)),\n",
    "    \n",
    "]\n",
    "models_svc = [\n",
    "    (\"LinearSVC\", svm.SVR(max_iter=5))\n",
    "]\n",
    "\n",
    "scaler = StandardScaler()\n",
    "X_train_scaled = scaler.fit_transform(X_train)\n",
    "X_test_scaled = scaler.fit_transform(X_test)\n",
    "\n",
    "X_train_scaled_classification = scaler.fit_transform(X_train_discretized)\n",
    "X_test_scaled_classification = scaler.fit_transform(X_test_discretized)\n",
    "\n",
    "# Aquí almacenaremos los resultados.\n",
    "results_regression = {}\n",
    "models_trained_regression = {}\n",
    "results_svc_regression = {}\n",
    "models_trained_svc_regression = {}\n",
    "\n",
    "# Etrenamos cada modelo svc y almacenamos los resultados.\n",
    "for m in models_svc:\n",
    "    model_name = m[0]\n",
    "    results_svc_regression[model_name] = {}\n",
    "    models_trained_svc_regression[model_name] = {}\n",
    "    model = clone(m[1])\n",
    "    \n",
    "    scenario = \"amount\"\n",
    "    print(model_name)\n",
    "    print(scenario)\n",
    "    model.fit(X_train_scaled[:100000], y_train[:100000])\n",
    "    predictions = model.predict(X_test_scaled)\n",
    "    err = mean_squared_error(y_test, predictions, squared=False)\n",
    "    results_svc_regression[model_name][scenario + \"_err\"] = err\n",
    "    results_svc_regression[model_name][scenario + \"score\"] = model.score(X_test_scaled,y_test)\n",
    "    models_trained_svc_regression[model_name][scenario] = model\n",
    "\n",
    "    \n",
    "# Etrenamos cada modelo y almacenamos los resultados.\n",
    "for m in models:\n",
    "    model_name = m[0]\n",
    "    results_regression[model_name] = {}\n",
    "    models_trained_regression[model_name] = {}\n",
    "    model = clone(m[1])\n",
    "    \n",
    "    scenario = \"amount\"\n",
    "    print(model_name)\n",
    "    print(scenario)\n",
    "    model.fit(X_train[:100000], y_train[:100000])\n",
    "    predictions = model.predict(X_test)\n",
    "    err = mean_squared_error(y_test, predictions, squared=False)\n",
    "    results_regression[model_name][scenario + \"_err\"] = err\n",
    "    models_trained_regression[model_name][scenario] = model\n",
    "\n",
    "df_results = pd.DataFrame(results_regression).T\n",
    "print(df_results)\n",
    "\n",
    "df_results_svc = pd.DataFrame(results_svc_regression).T\n",
    "print(df_results_svc)"
   ]
  },
  {
   "cell_type": "code",
   "execution_count": 16,
   "metadata": {},
   "outputs": [
    {
     "name": "stdout",
     "output_type": "stream",
     "text": [
      "Feature: airport_fee, Score: 0.00000\n",
      "Feature: PULocationID, Score: 0.03694\n",
      "Feature: DOLocationID, Score: 0.03891\n",
      "Feature: trip_distance, Score: 0.79719\n",
      "Feature: congestion_surcharge, Score: 0.02618\n",
      "Feature: pickup_day, Score: 0.02423\n",
      "Feature: pickup_month, Score: 0.01613\n",
      "Feature: pickup_hour, Score: 0.02389\n",
      "Feature: payment_type_1, Score: 0.03182\n",
      "Feature: payment_type_2, Score: 0.00155\n",
      "Feature: payment_type_3, Score: 0.00094\n",
      "Feature: payment_type_4, Score: 0.00224\n",
      "Feature: payment_type_5, Score: 0.00000\n"
     ]
    },
    {
     "data": {
      "image/png": "[encoded data removed]",
      "text/plain": [
       "<Figure size 432x288 with 1 Axes>"
      ]
     },
     "metadata": {
      "needs_background": "light"
     },
     "output_type": "display_data"
    }
   ],
   "source": [
    "importance = models_trained_regression['RandomForest']['amount'].feature_importances_\n",
    "for i,v in zip(X_train.columns, importance):\n",
    "\tprint('Feature: %s, Score: %.5f' % (i,v))\n",
    "# plot feature importance\n",
    "pyplot.bar(list(X_train.columns), list(importance))\n",
    "pyplot.show()"
   ]
  },
  {
   "cell_type": "code",
   "execution_count": 10,
   "metadata": {},
   "outputs": [
    {
     "name": "stdout",
     "output_type": "stream",
     "text": [
      "LinearSVC\n",
      "classification\n"
     ]
    },
    {
     "name": "stderr",
     "output_type": "stream",
     "text": [
      "/Users/ezefernandez/opt/anaconda3/lib/python3.9/site-packages/sklearn/svm/_base.py:1225: ConvergenceWarning: Liblinear failed to converge, increase the number of iterations.\n",
      "  warnings.warn(\n"
     ]
    },
    {
     "data": {
      "image/png": "[encoded data removed]",
      "text/plain": [
       "<Figure size 432x288 with 2 Axes>"
      ]
     },
     "metadata": {
      "needs_background": "light"
     },
     "output_type": "display_data"
    },
    {
     "name": "stdout",
     "output_type": "stream",
     "text": [
      "LogisticRegressionCV\n",
      "classification\n"
     ]
    },
    {
     "name": "stderr",
     "output_type": "stream",
     "text": [
      "/Users/ezefernandez/opt/anaconda3/lib/python3.9/site-packages/sklearn/linear_model/_logistic.py:444: ConvergenceWarning: lbfgs failed to converge (status=1):\n",
      "STOP: TOTAL NO. of ITERATIONS REACHED LIMIT.\n",
      "\n",
      "Increase the number of iterations (max_iter) or scale the data as shown in:\n",
      "    https://scikit-learn.org/stable/modules/preprocessing.html\n",
      "Please also refer to the documentation for alternative solver options:\n",
      "    https://scikit-learn.org/stable/modules/linear_model.html#logistic-regression\n",
      "  n_iter_i = _check_optimize_result(\n",
      "/Users/ezefernandez/opt/anaconda3/lib/python3.9/site-packages/sklearn/linear_model/_logistic.py:444: ConvergenceWarning: lbfgs failed to converge (status=1):\n",
      "STOP: TOTAL NO. of ITERATIONS REACHED LIMIT.\n",
      "\n",
      "Increase the number of iterations (max_iter) or scale the data as shown in:\n",
      "    https://scikit-learn.org/stable/modules/preprocessing.html\n",
      "Please also refer to the documentation for alternative solver options:\n",
      "    https://scikit-learn.org/stable/modules/linear_model.html#logistic-regression\n",
      "  n_iter_i = _check_optimize_result(\n",
      "/Users/ezefernandez/opt/anaconda3/lib/python3.9/site-packages/sklearn/linear_model/_logistic.py:444: ConvergenceWarning: lbfgs failed to converge (status=1):\n",
      "STOP: TOTAL NO. of ITERATIONS REACHED LIMIT.\n",
      "\n",
      "Increase the number of iterations (max_iter) or scale the data as shown in:\n",
      "    https://scikit-learn.org/stable/modules/preprocessing.html\n",
      "Please also refer to the documentation for alternative solver options:\n",
      "    https://scikit-learn.org/stable/modules/linear_model.html#logistic-regression\n",
      "  n_iter_i = _check_optimize_result(\n",
      "/Users/ezefernandez/opt/anaconda3/lib/python3.9/site-packages/sklearn/linear_model/_logistic.py:444: ConvergenceWarning: lbfgs failed to converge (status=1):\n",
      "STOP: TOTAL NO. of ITERATIONS REACHED LIMIT.\n",
      "\n",
      "Increase the number of iterations (max_iter) or scale the data as shown in:\n",
      "    https://scikit-learn.org/stable/modules/preprocessing.html\n",
      "Please also refer to the documentation for alternative solver options:\n",
      "    https://scikit-learn.org/stable/modules/linear_model.html#logistic-regression\n",
      "  n_iter_i = _check_optimize_result(\n",
      "/Users/ezefernandez/opt/anaconda3/lib/python3.9/site-packages/sklearn/linear_model/_logistic.py:444: ConvergenceWarning: lbfgs failed to converge (status=1):\n",
      "STOP: TOTAL NO. of ITERATIONS REACHED LIMIT.\n",
      "\n",
      "Increase the number of iterations (max_iter) or scale the data as shown in:\n",
      "    https://scikit-learn.org/stable/modules/preprocessing.html\n",
      "Please also refer to the documentation for alternative solver options:\n",
      "    https://scikit-learn.org/stable/modules/linear_model.html#logistic-regression\n",
      "  n_iter_i = _check_optimize_result(\n",
      "/Users/ezefernandez/opt/anaconda3/lib/python3.9/site-packages/sklearn/linear_model/_logistic.py:444: ConvergenceWarning: lbfgs failed to converge (status=1):\n",
      "STOP: TOTAL NO. of ITERATIONS REACHED LIMIT.\n",
      "\n",
      "Increase the number of iterations (max_iter) or scale the data as shown in:\n",
      "    https://scikit-learn.org/stable/modules/preprocessing.html\n",
      "Please also refer to the documentation for alternative solver options:\n",
      "    https://scikit-learn.org/stable/modules/linear_model.html#logistic-regression\n",
      "  n_iter_i = _check_optimize_result(\n"
     ]
    },
    {
     "data": {
      "image/png": "[encoded data removed]",
      "text/plain": [
       "<Figure size 432x288 with 2 Axes>"
      ]
     },
     "metadata": {
      "needs_background": "light"
     },
     "output_type": "display_data"
    },
    {
     "name": "stdout",
     "output_type": "stream",
     "text": [
      "RandomForest\n",
      "classification\n"
     ]
    },
    {
     "data": {
      "image/png": "[encoded data removed]",
      "text/plain": [
       "<Figure size 432x288 with 2 Axes>"
      ]
     },
     "metadata": {
      "needs_background": "light"
     },
     "output_type": "display_data"
    },
    {
     "name": "stdout",
     "output_type": "stream",
     "text": [
      "                     classification_accuracy_score classificationscore  \\\n",
      "LogisticRegressionCV                      0.781947            0.781947   \n",
      "RandomForest                              0.908282            0.908282   \n",
      "\n",
      "                                         classificationconfusion_matrix  \n",
      "LogisticRegressionCV  [[6, 58, 1242610], [0, 8387, 316346], [2, 351,...  \n",
      "RandomForest          [[936967, 2651, 303056], [11875, 263359, 49499...  \n",
      "          classification_accuracy_score  \\\n",
      "LinearSVC                      0.827284   \n",
      "\n",
      "                              classificationconfusion_matrix  \\\n",
      "LinearSVC  [[697993, 2405, 542276], [23166, 461, 301106],...   \n",
      "\n",
      "          classificationscore  \n",
      "LinearSVC            0.827284  \n"
     ]
    }
   ],
   "source": [
    "# Modelos a ensayar.\n",
    "models = [\n",
    "    (\"LogisticRegressionCV\", LogisticRegressionCV(random_state=42, solver='lbfgs', max_iter=5)),\n",
    "    (\"RandomForest\", RandomForestClassifier(n_estimators=5, random_state=42)),\n",
    "    \n",
    "]\n",
    "models_svc = [\n",
    "    (\"LinearSVC\", LinearSVC(random_state=42, tol=1e-5,max_iter=5))\n",
    "]\n",
    "\n",
    "scaler = StandardScaler()\n",
    "X_train_scaled = scaler.fit_transform(X_train)\n",
    "X_test_scaled = scaler.fit_transform(X_test)\n",
    "\n",
    "X_train_scaled_classification = scaler.fit_transform(X_train_discretized)\n",
    "X_test_scaled_classification = scaler.fit_transform(X_test_discretized)\n",
    "\n",
    "# Aquí almacenaremos los resultados.\n",
    "results = {}\n",
    "models_trained = {}\n",
    "results_svc = {}\n",
    "models_trained_svc = {}\n",
    "\n",
    "# Etrenamos cada modelo svc y almacenamos los resultados.\n",
    "for m in models_svc:\n",
    "    model_name = m[0]\n",
    "    results_svc[model_name] = {}\n",
    "    models_trained_svc[model_name] = {}\n",
    "    model = clone(m[1])\n",
    "    \n",
    "    scenario = \"classification\"\n",
    "    print(model_name)\n",
    "    print(scenario)\n",
    "    model.fit(X_train_scaled_classification[:100000], y_train_discretized[:100000])\n",
    "    predictions = model.predict(X_test_scaled_classification)\n",
    "    acc = accuracy_score(y_test_discretized, predictions)\n",
    "    results_svc[model_name][scenario + \"_accuracy_score\"] = accuracy_score(y_test_discretized, predictions)\n",
    "    results_svc[model_name][scenario + \"score\"] = model.score(X_test_scaled_classification, y_test_discretized)\n",
    "    models_trained_svc[model_name][scenario] = model\n",
    "    results_svc[model_name][scenario + \"confusion_matrix\"] = confusion_matrix(y_test_discretized, predictions)\n",
    "    sns.heatmap(confusion_matrix(y_test_discretized, predictions), annot=True)\n",
    "    plt.ylabel('Verdaderos')\n",
    "    plt.xlabel('Predichos')\n",
    "    plt.show()\n",
    "    \n",
    "# Etrenamos cada modelo y almacenamos los resultados.\n",
    "for m in models:\n",
    "    model_name = m[0]\n",
    "    results[model_name] = {}\n",
    "    models_trained[model_name] = {}\n",
    "    model = clone(m[1])\n",
    "\n",
    "    scenario = \"classification\"\n",
    "    print(model_name)\n",
    "    print(scenario)\n",
    "    model.fit(X_train_discretized[:100000], y_train_discretized[:100000])\n",
    "    predictions = model.predict(X_test_discretized)\n",
    "    acc = accuracy_score(y_test_discretized, predictions)\n",
    "    results[model_name][scenario + \"_accuracy_score\"] = accuracy_score(y_test_discretized, predictions)\n",
    "    results[model_name][scenario + \"score\"] = model.score(X_test_discretized, y_test_discretized)\n",
    "    models_trained[model_name][scenario] = model\n",
    "    results[model_name][scenario + \"confusion_matrix\"] = confusion_matrix(y_test_discretized, predictions)\n",
    "    sns.heatmap(confusion_matrix(y_test_discretized, predictions), annot=True)\n",
    "    plt.ylabel('Verdaderos')\n",
    "    plt.xlabel('Predichos')\n",
    "    plt.show()\n",
    "\n",
    "df_results = pd.DataFrame(results).T\n",
    "print(df_results)\n",
    "\n",
    "df_results_svc = pd.DataFrame(results_svc).T\n",
    "print(df_results_svc)"
   ]
  },
  {
   "cell_type": "code",
   "execution_count": 18,
   "metadata": {},
   "outputs": [
    {
     "name": "stdout",
     "output_type": "stream",
     "text": [
      "Feature: airport_fee, Score: 0.00000\n",
      "Feature: PULocationID, Score: 0.08435\n",
      "Feature: DOLocationID, Score: 0.07638\n",
      "Feature: trip_distance, Score: 0.57473\n",
      "Feature: congestion_surcharge, Score: 0.03657\n",
      "Feature: pickup_day, Score: 0.06763\n",
      "Feature: pickup_month, Score: 0.03729\n",
      "Feature: pickup_hour, Score: 0.05836\n",
      "Feature: payment_type_1, Score: 0.05250\n",
      "Feature: payment_type_2, Score: 0.00986\n",
      "Feature: payment_type_3, Score: 0.00102\n",
      "Feature: payment_type_4, Score: 0.00132\n",
      "Feature: payment_type_5, Score: 0.00000\n"
     ]
    },
    {
     "data": {
      "image/png": "[encoded data removed]",
      "text/plain": [
       "<Figure size 432x288 with 1 Axes>"
      ]
     },
     "metadata": {
      "needs_background": "light"
     },
     "output_type": "display_data"
    }
   ],
   "source": [
    "importance = models_trained['RandomForest']['classification'].feature_importances_\n",
    "for i,v in zip(X_train.columns, importance):\n",
    "\tprint('Feature: %s, Score: %.5f' % (i,v))\n",
    "# plot feature importance\n",
    "pyplot.bar(list(X_train.columns), list(importance))\n",
    "pyplot.show()"
   ]
  }
 ],
 "metadata": {
  "kernelspec": {
   "display_name": "Python 3.9.12 ('base')",
   "language": "python",
   "name": "python3"
  },
  "language_info": {
   "codemirror_mode": {
    "name": "ipython",
    "version": 3
   },
   "file_extension": ".py",
   "mimetype": "text/x-python",
   "name": "python",
   "nbconvert_exporter": "python",
   "pygments_lexer": "ipython3",
   "version": "3.9.12"
  },
  "orig_nbformat": 4,
  "vscode": {
   "interpreter": {
    "hash": "2694cdbf4718a5ec247b545273d596d40a2acbca35541806ef80a95b7d0be348"
   }
  }
 },
 "nbformat": 4,
 "nbformat_minor": 2
}

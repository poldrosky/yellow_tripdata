{
 "cells": [
  {
   "cell_type": "code",
   "execution_count": null,
   "id": "d179d0c2-10e4-4703-a976-099a1c670ab8",
   "metadata": {},
   "outputs": [],
   "source": []
  },
  {
   "cell_type": "code",
   "execution_count": 1,
   "id": "adbc5c8c-8589-4580-9c08-739bb3125782",
   "metadata": {},
   "outputs": [],
   "source": [
    "from pathlib import Path\n",
    "\n",
    "import numpy as np\n",
    "import pandas as pd\n",
    "from pandas_profiling import ProfileReport\n",
    "\n",
    "import geopandas as gpd\n",
    "import matplotlib\n",
    "import matplotlib.pyplot as plt\n",
    "from mpl_toolkits.axes_grid1 import make_axes_locatable\n",
    "import plotly.graph_objects as go"
   ]
  },
  {
   "cell_type": "code",
   "execution_count": null,
   "id": "0fe753e6-4793-4812-bb70-451eeb282f01",
   "metadata": {},
   "outputs": [],
   "source": []
  },
  {
   "cell_type": "code",
   "execution_count": 2,
   "id": "81ec5041-94f6-40b5-9a14-460710ed5b41",
   "metadata": {},
   "outputs": [],
   "source": [
    "data_dir = Path('data')\n",
    "full_df = pd.concat(\n",
    "    pd.read_parquet(parquet_file)\n",
    "    for parquet_file in data_dir.glob('*.parquet')\n",
    ")"
   ]
  },
  {
   "cell_type": "code",
   "execution_count": 3,
   "id": "3b482fc1-1987-4437-b554-55244ead8539",
   "metadata": {},
   "outputs": [
    {
     "data": {
      "text/html": [
       "<div>\n",
       "<style scoped>\n",
       "    .dataframe tbody tr th:only-of-type {\n",
       "        vertical-align: middle;\n",
       "    }\n",
       "\n",
       "    .dataframe tbody tr th {\n",
       "        vertical-align: top;\n",
       "    }\n",
       "\n",
       "    .dataframe thead th {\n",
       "        text-align: right;\n",
       "    }\n",
       "</style>\n",
       "<table border=\"1\" class=\"dataframe\">\n",
       "  <thead>\n",
       "    <tr style=\"text-align: right;\">\n",
       "      <th></th>\n",
       "      <th>VendorID</th>\n",
       "      <th>tpep_pickup_datetime</th>\n",
       "      <th>tpep_dropoff_datetime</th>\n",
       "      <th>passenger_count</th>\n",
       "      <th>trip_distance</th>\n",
       "      <th>RatecodeID</th>\n",
       "      <th>store_and_fwd_flag</th>\n",
       "      <th>PULocationID</th>\n",
       "      <th>DOLocationID</th>\n",
       "      <th>payment_type</th>\n",
       "      <th>fare_amount</th>\n",
       "      <th>extra</th>\n",
       "      <th>mta_tax</th>\n",
       "      <th>tip_amount</th>\n",
       "      <th>tolls_amount</th>\n",
       "      <th>improvement_surcharge</th>\n",
       "      <th>total_amount</th>\n",
       "      <th>congestion_surcharge</th>\n",
       "      <th>airport_fee</th>\n",
       "    </tr>\n",
       "  </thead>\n",
       "  <tbody>\n",
       "    <tr>\n",
       "      <th>0</th>\n",
       "      <td>1</td>\n",
       "      <td>2020-03-01 00:31:13</td>\n",
       "      <td>2020-03-01 01:01:42</td>\n",
       "      <td>1.0</td>\n",
       "      <td>4.70</td>\n",
       "      <td>1.0</td>\n",
       "      <td>N</td>\n",
       "      <td>88</td>\n",
       "      <td>255</td>\n",
       "      <td>1</td>\n",
       "      <td>22.0</td>\n",
       "      <td>3.0</td>\n",
       "      <td>0.5</td>\n",
       "      <td>2.00</td>\n",
       "      <td>0.0</td>\n",
       "      <td>0.3</td>\n",
       "      <td>27.80</td>\n",
       "      <td>2.5</td>\n",
       "      <td>None</td>\n",
       "    </tr>\n",
       "    <tr>\n",
       "      <th>1</th>\n",
       "      <td>2</td>\n",
       "      <td>2020-03-01 00:08:22</td>\n",
       "      <td>2020-03-01 00:08:49</td>\n",
       "      <td>1.0</td>\n",
       "      <td>0.00</td>\n",
       "      <td>1.0</td>\n",
       "      <td>N</td>\n",
       "      <td>193</td>\n",
       "      <td>193</td>\n",
       "      <td>2</td>\n",
       "      <td>2.5</td>\n",
       "      <td>0.5</td>\n",
       "      <td>0.5</td>\n",
       "      <td>0.00</td>\n",
       "      <td>0.0</td>\n",
       "      <td>0.3</td>\n",
       "      <td>3.80</td>\n",
       "      <td>0.0</td>\n",
       "      <td>None</td>\n",
       "    </tr>\n",
       "    <tr>\n",
       "      <th>2</th>\n",
       "      <td>1</td>\n",
       "      <td>2020-03-01 00:52:18</td>\n",
       "      <td>2020-03-01 00:59:16</td>\n",
       "      <td>1.0</td>\n",
       "      <td>1.10</td>\n",
       "      <td>1.0</td>\n",
       "      <td>N</td>\n",
       "      <td>246</td>\n",
       "      <td>90</td>\n",
       "      <td>1</td>\n",
       "      <td>6.0</td>\n",
       "      <td>3.0</td>\n",
       "      <td>0.5</td>\n",
       "      <td>1.95</td>\n",
       "      <td>0.0</td>\n",
       "      <td>0.3</td>\n",
       "      <td>11.75</td>\n",
       "      <td>2.5</td>\n",
       "      <td>None</td>\n",
       "    </tr>\n",
       "    <tr>\n",
       "      <th>3</th>\n",
       "      <td>2</td>\n",
       "      <td>2020-03-01 00:47:53</td>\n",
       "      <td>2020-03-01 00:50:57</td>\n",
       "      <td>2.0</td>\n",
       "      <td>0.87</td>\n",
       "      <td>1.0</td>\n",
       "      <td>N</td>\n",
       "      <td>151</td>\n",
       "      <td>238</td>\n",
       "      <td>1</td>\n",
       "      <td>5.0</td>\n",
       "      <td>0.5</td>\n",
       "      <td>0.5</td>\n",
       "      <td>1.76</td>\n",
       "      <td>0.0</td>\n",
       "      <td>0.3</td>\n",
       "      <td>10.56</td>\n",
       "      <td>2.5</td>\n",
       "      <td>None</td>\n",
       "    </tr>\n",
       "    <tr>\n",
       "      <th>4</th>\n",
       "      <td>1</td>\n",
       "      <td>2020-03-01 00:43:19</td>\n",
       "      <td>2020-03-01 00:58:27</td>\n",
       "      <td>0.0</td>\n",
       "      <td>4.40</td>\n",
       "      <td>1.0</td>\n",
       "      <td>N</td>\n",
       "      <td>79</td>\n",
       "      <td>261</td>\n",
       "      <td>1</td>\n",
       "      <td>16.5</td>\n",
       "      <td>3.0</td>\n",
       "      <td>0.5</td>\n",
       "      <td>4.05</td>\n",
       "      <td>0.0</td>\n",
       "      <td>0.3</td>\n",
       "      <td>24.35</td>\n",
       "      <td>2.5</td>\n",
       "      <td>None</td>\n",
       "    </tr>\n",
       "  </tbody>\n",
       "</table>\n",
       "</div>"
      ],
      "text/plain": [
       "   VendorID tpep_pickup_datetime tpep_dropoff_datetime  passenger_count  \\\n",
       "0         1  2020-03-01 00:31:13   2020-03-01 01:01:42              1.0   \n",
       "1         2  2020-03-01 00:08:22   2020-03-01 00:08:49              1.0   \n",
       "2         1  2020-03-01 00:52:18   2020-03-01 00:59:16              1.0   \n",
       "3         2  2020-03-01 00:47:53   2020-03-01 00:50:57              2.0   \n",
       "4         1  2020-03-01 00:43:19   2020-03-01 00:58:27              0.0   \n",
       "\n",
       "   trip_distance  RatecodeID store_and_fwd_flag  PULocationID  DOLocationID  \\\n",
       "0           4.70         1.0                  N            88           255   \n",
       "1           0.00         1.0                  N           193           193   \n",
       "2           1.10         1.0                  N           246            90   \n",
       "3           0.87         1.0                  N           151           238   \n",
       "4           4.40         1.0                  N            79           261   \n",
       "\n",
       "   payment_type  fare_amount  extra  mta_tax  tip_amount  tolls_amount  \\\n",
       "0             1         22.0    3.0      0.5        2.00           0.0   \n",
       "1             2          2.5    0.5      0.5        0.00           0.0   \n",
       "2             1          6.0    3.0      0.5        1.95           0.0   \n",
       "3             1          5.0    0.5      0.5        1.76           0.0   \n",
       "4             1         16.5    3.0      0.5        4.05           0.0   \n",
       "\n",
       "   improvement_surcharge  total_amount  congestion_surcharge airport_fee  \n",
       "0                    0.3         27.80                   2.5        None  \n",
       "1                    0.3          3.80                   0.0        None  \n",
       "2                    0.3         11.75                   2.5        None  \n",
       "3                    0.3         10.56                   2.5        None  \n",
       "4                    0.3         24.35                   2.5        None  "
      ]
     },
     "execution_count": 3,
     "metadata": {},
     "output_type": "execute_result"
    }
   ],
   "source": [
    "full_df.head()"
   ]
  },
  {
   "cell_type": "code",
   "execution_count": 4,
   "id": "11e03eaf-ddfe-4896-96f0-96d8eef0e378",
   "metadata": {},
   "outputs": [
    {
     "data": {
      "text/plain": [
       "(24649092, 19)"
      ]
     },
     "execution_count": 4,
     "metadata": {},
     "output_type": "execute_result"
    }
   ],
   "source": [
    "full_df.shape"
   ]
  },
  {
   "cell_type": "code",
   "execution_count": 5,
   "id": "b9910e41-5f4a-486c-8672-4b71b05edd7b",
   "metadata": {},
   "outputs": [
    {
     "data": {
      "text/plain": [
       "VendorID                          int64\n",
       "tpep_pickup_datetime     datetime64[ns]\n",
       "tpep_dropoff_datetime    datetime64[ns]\n",
       "passenger_count                 float64\n",
       "trip_distance                   float64\n",
       "RatecodeID                      float64\n",
       "store_and_fwd_flag               object\n",
       "PULocationID                      int64\n",
       "DOLocationID                      int64\n",
       "payment_type                      int64\n",
       "fare_amount                     float64\n",
       "extra                           float64\n",
       "mta_tax                         float64\n",
       "tip_amount                      float64\n",
       "tolls_amount                    float64\n",
       "improvement_surcharge           float64\n",
       "total_amount                    float64\n",
       "congestion_surcharge            float64\n",
       "airport_fee                      object\n",
       "dtype: object"
      ]
     },
     "execution_count": 5,
     "metadata": {},
     "output_type": "execute_result"
    }
   ],
   "source": [
    "full_df.dtypes"
   ]
  },
  {
   "cell_type": "code",
   "execution_count": 6,
   "id": "7ceef96d-6671-4582-a9d2-359249932569",
   "metadata": {},
   "outputs": [
    {
     "data": {
      "text/html": [
       "<div>\n",
       "<style scoped>\n",
       "    .dataframe tbody tr th:only-of-type {\n",
       "        vertical-align: middle;\n",
       "    }\n",
       "\n",
       "    .dataframe tbody tr th {\n",
       "        vertical-align: top;\n",
       "    }\n",
       "\n",
       "    .dataframe thead th {\n",
       "        text-align: right;\n",
       "    }\n",
       "</style>\n",
       "<table border=\"1\" class=\"dataframe\">\n",
       "  <thead>\n",
       "    <tr style=\"text-align: right;\">\n",
       "      <th></th>\n",
       "      <th>VendorID</th>\n",
       "      <th>passenger_count</th>\n",
       "      <th>trip_distance</th>\n",
       "      <th>RatecodeID</th>\n",
       "      <th>PULocationID</th>\n",
       "      <th>DOLocationID</th>\n",
       "      <th>payment_type</th>\n",
       "      <th>fare_amount</th>\n",
       "      <th>extra</th>\n",
       "      <th>mta_tax</th>\n",
       "      <th>tip_amount</th>\n",
       "      <th>tolls_amount</th>\n",
       "      <th>improvement_surcharge</th>\n",
       "      <th>total_amount</th>\n",
       "      <th>congestion_surcharge</th>\n",
       "    </tr>\n",
       "  </thead>\n",
       "  <tbody>\n",
       "    <tr>\n",
       "      <th>count</th>\n",
       "      <td>2.464909e+07</td>\n",
       "      <td>2.383912e+07</td>\n",
       "      <td>2.464909e+07</td>\n",
       "      <td>2.383912e+07</td>\n",
       "      <td>2.464909e+07</td>\n",
       "      <td>2.464909e+07</td>\n",
       "      <td>2.464909e+07</td>\n",
       "      <td>2.464909e+07</td>\n",
       "      <td>2.464909e+07</td>\n",
       "      <td>2.464909e+07</td>\n",
       "      <td>2.464909e+07</td>\n",
       "      <td>2.464909e+07</td>\n",
       "      <td>2.464909e+07</td>\n",
       "      <td>2.464909e+07</td>\n",
       "      <td>2.383912e+07</td>\n",
       "    </tr>\n",
       "    <tr>\n",
       "      <th>mean</th>\n",
       "      <td>1.682583e+00</td>\n",
       "      <td>1.467983e+00</td>\n",
       "      <td>3.527101e+00</td>\n",
       "      <td>1.048557e+00</td>\n",
       "      <td>1.639707e+02</td>\n",
       "      <td>1.611703e+02</td>\n",
       "      <td>1.238331e+00</td>\n",
       "      <td>1.266778e+01</td>\n",
       "      <td>1.071846e+00</td>\n",
       "      <td>5.127966e-01</td>\n",
       "      <td>2.082027e+00</td>\n",
       "      <td>3.038690e-01</td>\n",
       "      <td>2.975556e-01</td>\n",
       "      <td>1.842175e+01</td>\n",
       "      <td>2.271167e+00</td>\n",
       "    </tr>\n",
       "    <tr>\n",
       "      <th>std</th>\n",
       "      <td>5.033062e-01</td>\n",
       "      <td>1.112779e+00</td>\n",
       "      <td>3.250320e+02</td>\n",
       "      <td>7.610835e-01</td>\n",
       "      <td>6.675226e+01</td>\n",
       "      <td>7.095647e+01</td>\n",
       "      <td>5.282318e-01</td>\n",
       "      <td>2.740882e+02</td>\n",
       "      <td>1.007169e+02</td>\n",
       "      <td>1.007093e+02</td>\n",
       "      <td>2.610753e+00</td>\n",
       "      <td>1.604902e+00</td>\n",
       "      <td>3.745082e-02</td>\n",
       "      <td>3.402245e+02</td>\n",
       "      <td>7.473421e-01</td>\n",
       "    </tr>\n",
       "    <tr>\n",
       "      <th>min</th>\n",
       "      <td>1.000000e+00</td>\n",
       "      <td>0.000000e+00</td>\n",
       "      <td>-3.062000e+01</td>\n",
       "      <td>1.000000e+00</td>\n",
       "      <td>1.000000e+00</td>\n",
       "      <td>1.000000e+00</td>\n",
       "      <td>0.000000e+00</td>\n",
       "      <td>-1.259000e+03</td>\n",
       "      <td>-2.700000e+01</td>\n",
       "      <td>-5.000000e-01</td>\n",
       "      <td>-4.932200e+02</td>\n",
       "      <td>-4.000000e+01</td>\n",
       "      <td>-3.000000e-01</td>\n",
       "      <td>-1.260300e+03</td>\n",
       "      <td>-2.500000e+00</td>\n",
       "    </tr>\n",
       "    <tr>\n",
       "      <th>25%</th>\n",
       "      <td>1.000000e+00</td>\n",
       "      <td>1.000000e+00</td>\n",
       "      <td>9.900000e-01</td>\n",
       "      <td>1.000000e+00</td>\n",
       "      <td>1.140000e+02</td>\n",
       "      <td>1.070000e+02</td>\n",
       "      <td>1.000000e+00</td>\n",
       "      <td>6.500000e+00</td>\n",
       "      <td>0.000000e+00</td>\n",
       "      <td>5.000000e-01</td>\n",
       "      <td>0.000000e+00</td>\n",
       "      <td>0.000000e+00</td>\n",
       "      <td>3.000000e-01</td>\n",
       "      <td>1.116000e+01</td>\n",
       "      <td>2.500000e+00</td>\n",
       "    </tr>\n",
       "    <tr>\n",
       "      <th>50%</th>\n",
       "      <td>2.000000e+00</td>\n",
       "      <td>1.000000e+00</td>\n",
       "      <td>1.650000e+00</td>\n",
       "      <td>1.000000e+00</td>\n",
       "      <td>1.620000e+02</td>\n",
       "      <td>1.620000e+02</td>\n",
       "      <td>1.000000e+00</td>\n",
       "      <td>9.000000e+00</td>\n",
       "      <td>5.000000e-01</td>\n",
       "      <td>5.000000e-01</td>\n",
       "      <td>1.920000e+00</td>\n",
       "      <td>0.000000e+00</td>\n",
       "      <td>3.000000e-01</td>\n",
       "      <td>1.430000e+01</td>\n",
       "      <td>2.500000e+00</td>\n",
       "    </tr>\n",
       "    <tr>\n",
       "      <th>75%</th>\n",
       "      <td>2.000000e+00</td>\n",
       "      <td>1.000000e+00</td>\n",
       "      <td>3.000000e+00</td>\n",
       "      <td>1.000000e+00</td>\n",
       "      <td>2.340000e+02</td>\n",
       "      <td>2.340000e+02</td>\n",
       "      <td>2.000000e+00</td>\n",
       "      <td>1.400000e+01</td>\n",
       "      <td>2.500000e+00</td>\n",
       "      <td>5.000000e-01</td>\n",
       "      <td>2.760000e+00</td>\n",
       "      <td>0.000000e+00</td>\n",
       "      <td>3.000000e-01</td>\n",
       "      <td>1.980000e+01</td>\n",
       "      <td>2.500000e+00</td>\n",
       "    </tr>\n",
       "    <tr>\n",
       "      <th>max</th>\n",
       "      <td>6.000000e+00</td>\n",
       "      <td>9.000000e+00</td>\n",
       "      <td>3.509149e+05</td>\n",
       "      <td>9.900000e+01</td>\n",
       "      <td>2.650000e+02</td>\n",
       "      <td>2.650000e+02</td>\n",
       "      <td>5.000000e+00</td>\n",
       "      <td>9.983100e+05</td>\n",
       "      <td>5.000008e+05</td>\n",
       "      <td>5.000005e+05</td>\n",
       "      <td>1.393560e+03</td>\n",
       "      <td>9.255000e+02</td>\n",
       "      <td>3.000000e-01</td>\n",
       "      <td>1.000004e+06</td>\n",
       "      <td>3.000000e+00</td>\n",
       "    </tr>\n",
       "  </tbody>\n",
       "</table>\n",
       "</div>"
      ],
      "text/plain": [
       "           VendorID  passenger_count  trip_distance    RatecodeID  \\\n",
       "count  2.464909e+07     2.383912e+07   2.464909e+07  2.383912e+07   \n",
       "mean   1.682583e+00     1.467983e+00   3.527101e+00  1.048557e+00   \n",
       "std    5.033062e-01     1.112779e+00   3.250320e+02  7.610835e-01   \n",
       "min    1.000000e+00     0.000000e+00  -3.062000e+01  1.000000e+00   \n",
       "25%    1.000000e+00     1.000000e+00   9.900000e-01  1.000000e+00   \n",
       "50%    2.000000e+00     1.000000e+00   1.650000e+00  1.000000e+00   \n",
       "75%    2.000000e+00     1.000000e+00   3.000000e+00  1.000000e+00   \n",
       "max    6.000000e+00     9.000000e+00   3.509149e+05  9.900000e+01   \n",
       "\n",
       "       PULocationID  DOLocationID  payment_type   fare_amount         extra  \\\n",
       "count  2.464909e+07  2.464909e+07  2.464909e+07  2.464909e+07  2.464909e+07   \n",
       "mean   1.639707e+02  1.611703e+02  1.238331e+00  1.266778e+01  1.071846e+00   \n",
       "std    6.675226e+01  7.095647e+01  5.282318e-01  2.740882e+02  1.007169e+02   \n",
       "min    1.000000e+00  1.000000e+00  0.000000e+00 -1.259000e+03 -2.700000e+01   \n",
       "25%    1.140000e+02  1.070000e+02  1.000000e+00  6.500000e+00  0.000000e+00   \n",
       "50%    1.620000e+02  1.620000e+02  1.000000e+00  9.000000e+00  5.000000e-01   \n",
       "75%    2.340000e+02  2.340000e+02  2.000000e+00  1.400000e+01  2.500000e+00   \n",
       "max    2.650000e+02  2.650000e+02  5.000000e+00  9.983100e+05  5.000008e+05   \n",
       "\n",
       "            mta_tax    tip_amount  tolls_amount  improvement_surcharge  \\\n",
       "count  2.464909e+07  2.464909e+07  2.464909e+07           2.464909e+07   \n",
       "mean   5.127966e-01  2.082027e+00  3.038690e-01           2.975556e-01   \n",
       "std    1.007093e+02  2.610753e+00  1.604902e+00           3.745082e-02   \n",
       "min   -5.000000e-01 -4.932200e+02 -4.000000e+01          -3.000000e-01   \n",
       "25%    5.000000e-01  0.000000e+00  0.000000e+00           3.000000e-01   \n",
       "50%    5.000000e-01  1.920000e+00  0.000000e+00           3.000000e-01   \n",
       "75%    5.000000e-01  2.760000e+00  0.000000e+00           3.000000e-01   \n",
       "max    5.000005e+05  1.393560e+03  9.255000e+02           3.000000e-01   \n",
       "\n",
       "       total_amount  congestion_surcharge  \n",
       "count  2.464909e+07          2.383912e+07  \n",
       "mean   1.842175e+01          2.271167e+00  \n",
       "std    3.402245e+02          7.473421e-01  \n",
       "min   -1.260300e+03         -2.500000e+00  \n",
       "25%    1.116000e+01          2.500000e+00  \n",
       "50%    1.430000e+01          2.500000e+00  \n",
       "75%    1.980000e+01          2.500000e+00  \n",
       "max    1.000004e+06          3.000000e+00  "
      ]
     },
     "execution_count": 6,
     "metadata": {},
     "output_type": "execute_result"
    }
   ],
   "source": [
    "full_df.describe()"
   ]
  },
  {
   "cell_type": "code",
   "execution_count": 7,
   "id": "e6ea78be-0307-48a4-8e35-64a2858404ec",
   "metadata": {},
   "outputs": [],
   "source": [
    "# profile = ProfileReport(full_df, title=\"Pandas Profiling Report\")"
   ]
  },
  {
   "cell_type": "code",
   "execution_count": 8,
   "id": "27fe895c-543d-4961-b9cf-d75300aee539",
   "metadata": {},
   "outputs": [],
   "source": [
    "# profile.to_file(\"your_report.html\")"
   ]
  },
  {
   "cell_type": "code",
   "execution_count": 9,
   "id": "58737f50-5840-44dc-a712-acca00a6f8b2",
   "metadata": {},
   "outputs": [],
   "source": [
    "# profile.to_notebook_iframe()"
   ]
  },
  {
   "cell_type": "code",
   "execution_count": 10,
   "id": "ad02c95d-af55-4312-8bb7-20d2dbe94441",
   "metadata": {},
   "outputs": [
    {
     "data": {
      "text/plain": [
       "2    16599044\n",
       "1     8004823\n",
       "6       45097\n",
       "5         128\n",
       "Name: VendorID, dtype: int64"
      ]
     },
     "execution_count": 10,
     "metadata": {},
     "output_type": "execute_result"
    }
   ],
   "source": [
    "full_df['VendorID'].value_counts()"
   ]
  },
  {
   "cell_type": "code",
   "execution_count": null,
   "id": "d263776c-de2e-4064-810d-dfe3b8e685ba",
   "metadata": {},
   "outputs": [],
   "source": []
  },
  {
   "cell_type": "markdown",
   "id": "a2e1ddc8-3536-42c0-af17-6720931275af",
   "metadata": {},
   "source": [
    "## Regiones donde más suben y bajan pasajeros"
   ]
  },
  {
   "cell_type": "code",
   "execution_count": 11,
   "id": "aad07dd5-90b4-4f91-8ce4-2ec1f531072f",
   "metadata": {},
   "outputs": [],
   "source": [
    "df_pickup = pd.DataFrame(\n",
    "    full_df['PULocationID'].value_counts().reset_index().values, columns=['LocationID', 'count_pickup'])"
   ]
  },
  {
   "cell_type": "code",
   "execution_count": 12,
   "id": "9999d0a2-3e3b-4a08-a4f1-3f3002e186eb",
   "metadata": {},
   "outputs": [],
   "source": [
    "df_dropoff = pd.DataFrame(\n",
    "    full_df['DOLocationID'].value_counts().reset_index().values, columns=['LocationID', 'count_df_dropoff'])"
   ]
  },
  {
   "cell_type": "code",
   "execution_count": 13,
   "id": "17fe237b-9677-4802-8ae2-3e82734a6b31",
   "metadata": {},
   "outputs": [],
   "source": [
    "pickup_dropoff = pd.merge(df_pickup, df_dropoff, on='LocationID', how='inner')"
   ]
  },
  {
   "cell_type": "code",
   "execution_count": 14,
   "id": "38ff2608-ad53-4b2c-b9b6-5681e3bf9aa9",
   "metadata": {},
   "outputs": [],
   "source": [
    "pickup_dropoff['total'] = pickup_dropoff['count_pickup'] + pickup_dropoff['count_pickup']"
   ]
  },
  {
   "cell_type": "code",
   "execution_count": 15,
   "id": "5ad37487-5b90-493d-956b-c9419a82695f",
   "metadata": {},
   "outputs": [],
   "source": [
    "df_geom_ny = pd.read_csv('data/taxi_zones.csv')"
   ]
  },
  {
   "cell_type": "code",
   "execution_count": null,
   "id": "7deea8ee-2656-45c8-81e7-feb10cbf4194",
   "metadata": {},
   "outputs": [],
   "source": []
  },
  {
   "cell_type": "code",
   "execution_count": 16,
   "id": "a6ff9282-1405-47d5-9203-a95014f47be3",
   "metadata": {},
   "outputs": [],
   "source": [
    "pickup_dropoff = pd.merge(pickup_dropoff, df_geom_ny, on='LocationID', how='inner')"
   ]
  },
  {
   "cell_type": "code",
   "execution_count": null,
   "id": "342c3498-ec8b-4f52-8ba1-2d8c370e56b0",
   "metadata": {},
   "outputs": [],
   "source": []
  },
  {
   "cell_type": "code",
   "execution_count": 17,
   "id": "83c5bd8f-a9b4-4cdc-bcd2-683f1cda0485",
   "metadata": {},
   "outputs": [
    {
     "data": {
      "text/html": [
       "<div>\n",
       "<style scoped>\n",
       "    .dataframe tbody tr th:only-of-type {\n",
       "        vertical-align: middle;\n",
       "    }\n",
       "\n",
       "    .dataframe tbody tr th {\n",
       "        vertical-align: top;\n",
       "    }\n",
       "\n",
       "    .dataframe thead th {\n",
       "        text-align: right;\n",
       "    }\n",
       "</style>\n",
       "<table border=\"1\" class=\"dataframe\">\n",
       "  <thead>\n",
       "    <tr style=\"text-align: right;\">\n",
       "      <th></th>\n",
       "      <th>LocationID</th>\n",
       "      <th>count_pickup</th>\n",
       "      <th>count_df_dropoff</th>\n",
       "      <th>total</th>\n",
       "      <th>zone</th>\n",
       "      <th>borough</th>\n",
       "      <th>the_geom</th>\n",
       "    </tr>\n",
       "  </thead>\n",
       "  <tbody>\n",
       "    <tr>\n",
       "      <th>0</th>\n",
       "      <td>237</td>\n",
       "      <td>1145412</td>\n",
       "      <td>1015502</td>\n",
       "      <td>2290824</td>\n",
       "      <td>Upper East Side South</td>\n",
       "      <td>Manhattan</td>\n",
       "      <td>MULTIPOLYGON (((-73.96612747299989 40.76217929...</td>\n",
       "    </tr>\n",
       "    <tr>\n",
       "      <th>1</th>\n",
       "      <td>236</td>\n",
       "      <td>1089583</td>\n",
       "      <td>1126419</td>\n",
       "      <td>2179166</td>\n",
       "      <td>Upper East Side North</td>\n",
       "      <td>Manhattan</td>\n",
       "      <td>MULTIPOLYGON (((-73.95779380499984 40.77359989...</td>\n",
       "    </tr>\n",
       "    <tr>\n",
       "      <th>2</th>\n",
       "      <td>161</td>\n",
       "      <td>946854</td>\n",
       "      <td>843739</td>\n",
       "      <td>1893708</td>\n",
       "      <td>Midtown Center</td>\n",
       "      <td>Manhattan</td>\n",
       "      <td>MULTIPOLYGON (((-73.97534377999993 40.75529969...</td>\n",
       "    </tr>\n",
       "    <tr>\n",
       "      <th>3</th>\n",
       "      <td>186</td>\n",
       "      <td>862321</td>\n",
       "      <td>553455</td>\n",
       "      <td>1724642</td>\n",
       "      <td>Penn Station/Madison Sq West</td>\n",
       "      <td>Manhattan</td>\n",
       "      <td>MULTIPOLYGON (((-73.99096832799995 40.74542088...</td>\n",
       "    </tr>\n",
       "    <tr>\n",
       "      <th>4</th>\n",
       "      <td>162</td>\n",
       "      <td>831592</td>\n",
       "      <td>666196</td>\n",
       "      <td>1663184</td>\n",
       "      <td>Midtown East</td>\n",
       "      <td>Manhattan</td>\n",
       "      <td>MULTIPOLYGON (((-73.9712170449999 40.755193323...</td>\n",
       "    </tr>\n",
       "  </tbody>\n",
       "</table>\n",
       "</div>"
      ],
      "text/plain": [
       "   LocationID  count_pickup  count_df_dropoff    total  \\\n",
       "0         237       1145412           1015502  2290824   \n",
       "1         236       1089583           1126419  2179166   \n",
       "2         161        946854            843739  1893708   \n",
       "3         186        862321            553455  1724642   \n",
       "4         162        831592            666196  1663184   \n",
       "\n",
       "                           zone    borough  \\\n",
       "0         Upper East Side South  Manhattan   \n",
       "1         Upper East Side North  Manhattan   \n",
       "2                Midtown Center  Manhattan   \n",
       "3  Penn Station/Madison Sq West  Manhattan   \n",
       "4                  Midtown East  Manhattan   \n",
       "\n",
       "                                            the_geom  \n",
       "0  MULTIPOLYGON (((-73.96612747299989 40.76217929...  \n",
       "1  MULTIPOLYGON (((-73.95779380499984 40.77359989...  \n",
       "2  MULTIPOLYGON (((-73.97534377999993 40.75529969...  \n",
       "3  MULTIPOLYGON (((-73.99096832799995 40.74542088...  \n",
       "4  MULTIPOLYGON (((-73.9712170449999 40.755193323...  "
      ]
     },
     "execution_count": 17,
     "metadata": {},
     "output_type": "execute_result"
    }
   ],
   "source": [
    "pickup_dropoff[[\n",
    "    'LocationID', 'count_pickup', 'count_df_dropoff', 'total', 'zone', 'borough', 'the_geom']].head()"
   ]
  },
  {
   "cell_type": "code",
   "execution_count": 18,
   "id": "b51849e2-0c66-44ee-b474-cbaf5c030f63",
   "metadata": {},
   "outputs": [],
   "source": [
    "# Map create\n",
    "# https://medium.com/analytics-vidhya/mapping-indonesias-village-border-with-plotly-from-long-lat-coordinates-to-wkt-strings-975fd002326e"
   ]
  },
  {
   "cell_type": "code",
   "execution_count": 19,
   "id": "c2cca05f-09d9-4298-83e9-463495966f6e",
   "metadata": {},
   "outputs": [],
   "source": [
    "pickup_dropoff['geometry'] = gpd.GeoSeries.from_wkt(pickup_dropoff['the_geom'])"
   ]
  },
  {
   "cell_type": "code",
   "execution_count": 20,
   "id": "7a6c10dd-8a1b-42b3-9c26-a797c86c2d9e",
   "metadata": {},
   "outputs": [],
   "source": [
    "pickup_dropoff = gpd.GeoDataFrame(pickup_dropoff)"
   ]
  },
  {
   "cell_type": "code",
   "execution_count": 21,
   "id": "c386f1e4-224a-4998-883f-6636e81670fd",
   "metadata": {},
   "outputs": [
    {
     "data": {
      "text/html": [
       "<div>\n",
       "<style scoped>\n",
       "    .dataframe tbody tr th:only-of-type {\n",
       "        vertical-align: middle;\n",
       "    }\n",
       "\n",
       "    .dataframe tbody tr th {\n",
       "        vertical-align: top;\n",
       "    }\n",
       "\n",
       "    .dataframe thead th {\n",
       "        text-align: right;\n",
       "    }\n",
       "</style>\n",
       "<table border=\"1\" class=\"dataframe\">\n",
       "  <thead>\n",
       "    <tr style=\"text-align: right;\">\n",
       "      <th></th>\n",
       "      <th>LocationID</th>\n",
       "      <th>count_pickup</th>\n",
       "      <th>count_df_dropoff</th>\n",
       "      <th>total</th>\n",
       "      <th>OBJECTID</th>\n",
       "      <th>Shape_Leng</th>\n",
       "      <th>the_geom</th>\n",
       "      <th>Shape_Area</th>\n",
       "      <th>zone</th>\n",
       "      <th>borough</th>\n",
       "      <th>geometry</th>\n",
       "    </tr>\n",
       "  </thead>\n",
       "  <tbody>\n",
       "    <tr>\n",
       "      <th>254</th>\n",
       "      <td>176</td>\n",
       "      <td>29</td>\n",
       "      <td>236</td>\n",
       "      <td>58</td>\n",
       "      <td>176</td>\n",
       "      <td>0.151995</td>\n",
       "      <td>MULTIPOLYGON (((-74.12187198599999 40.57510757...</td>\n",
       "      <td>0.000658</td>\n",
       "      <td>Oakwood</td>\n",
       "      <td>Staten Island</td>\n",
       "      <td>MULTIPOLYGON (((-74.12187 40.57511, -74.12187 ...</td>\n",
       "    </tr>\n",
       "    <tr>\n",
       "      <th>255</th>\n",
       "      <td>111</td>\n",
       "      <td>26</td>\n",
       "      <td>318</td>\n",
       "      <td>52</td>\n",
       "      <td>111</td>\n",
       "      <td>0.059931</td>\n",
       "      <td>MULTIPOLYGON (((-73.99516890099986 40.65966952...</td>\n",
       "      <td>0.000209</td>\n",
       "      <td>Green-Wood Cemetery</td>\n",
       "      <td>Brooklyn</td>\n",
       "      <td>MULTIPOLYGON (((-73.99517 40.65967, -73.99296 ...</td>\n",
       "    </tr>\n",
       "    <tr>\n",
       "      <th>256</th>\n",
       "      <td>2</td>\n",
       "      <td>25</td>\n",
       "      <td>45</td>\n",
       "      <td>50</td>\n",
       "      <td>2</td>\n",
       "      <td>0.433470</td>\n",
       "      <td>MULTIPOLYGON (((-73.82337597260663 40.63898704...</td>\n",
       "      <td>0.004866</td>\n",
       "      <td>Jamaica Bay</td>\n",
       "      <td>Queens</td>\n",
       "      <td>MULTIPOLYGON (((-73.82338 40.63899, -73.82277 ...</td>\n",
       "    </tr>\n",
       "    <tr>\n",
       "      <th>257</th>\n",
       "      <td>30</td>\n",
       "      <td>20</td>\n",
       "      <td>164</td>\n",
       "      <td>40</td>\n",
       "      <td>30</td>\n",
       "      <td>0.094510</td>\n",
       "      <td>MULTIPOLYGON (((-73.82075892499992 40.61523267...</td>\n",
       "      <td>0.000146</td>\n",
       "      <td>Broad Channel</td>\n",
       "      <td>Queens</td>\n",
       "      <td>MULTIPOLYGON (((-73.82076 40.61523, -73.81769 ...</td>\n",
       "    </tr>\n",
       "    <tr>\n",
       "      <th>258</th>\n",
       "      <td>199</td>\n",
       "      <td>11</td>\n",
       "      <td>2</td>\n",
       "      <td>22</td>\n",
       "      <td>199</td>\n",
       "      <td>0.077809</td>\n",
       "      <td>MULTIPOLYGON (((-73.88885148496313 40.79870632...</td>\n",
       "      <td>0.000289</td>\n",
       "      <td>Rikers Island</td>\n",
       "      <td>Bronx</td>\n",
       "      <td>MULTIPOLYGON (((-73.88885 40.79871, -73.88860 ...</td>\n",
       "    </tr>\n",
       "  </tbody>\n",
       "</table>\n",
       "</div>"
      ],
      "text/plain": [
       "     LocationID  count_pickup  count_df_dropoff  total  OBJECTID  Shape_Leng  \\\n",
       "254         176            29               236     58       176    0.151995   \n",
       "255         111            26               318     52       111    0.059931   \n",
       "256           2            25                45     50         2    0.433470   \n",
       "257          30            20               164     40        30    0.094510   \n",
       "258         199            11                 2     22       199    0.077809   \n",
       "\n",
       "                                              the_geom  Shape_Area  \\\n",
       "254  MULTIPOLYGON (((-74.12187198599999 40.57510757...    0.000658   \n",
       "255  MULTIPOLYGON (((-73.99516890099986 40.65966952...    0.000209   \n",
       "256  MULTIPOLYGON (((-73.82337597260663 40.63898704...    0.004866   \n",
       "257  MULTIPOLYGON (((-73.82075892499992 40.61523267...    0.000146   \n",
       "258  MULTIPOLYGON (((-73.88885148496313 40.79870632...    0.000289   \n",
       "\n",
       "                    zone        borough  \\\n",
       "254              Oakwood  Staten Island   \n",
       "255  Green-Wood Cemetery       Brooklyn   \n",
       "256          Jamaica Bay         Queens   \n",
       "257        Broad Channel         Queens   \n",
       "258        Rikers Island          Bronx   \n",
       "\n",
       "                                              geometry  \n",
       "254  MULTIPOLYGON (((-74.12187 40.57511, -74.12187 ...  \n",
       "255  MULTIPOLYGON (((-73.99517 40.65967, -73.99296 ...  \n",
       "256  MULTIPOLYGON (((-73.82338 40.63899, -73.82277 ...  \n",
       "257  MULTIPOLYGON (((-73.82076 40.61523, -73.81769 ...  \n",
       "258  MULTIPOLYGON (((-73.88885 40.79871, -73.88860 ...  "
      ]
     },
     "execution_count": 21,
     "metadata": {},
     "output_type": "execute_result"
    }
   ],
   "source": [
    "pickup_dropoff.tail()"
   ]
  },
  {
   "cell_type": "code",
   "execution_count": 22,
   "id": "7c368c4a-7816-47cc-a9bf-6c3187611dbf",
   "metadata": {},
   "outputs": [
    {
     "data": {
      "text/plain": [
       "(-74.28337047811293, -73.67222994897456, 40.47514452607875, 40.936503646094195)"
      ]
     },
     "execution_count": 22,
     "metadata": {},
     "output_type": "execute_result"
    },
    {
     "data": {
      "image/png": "[encoded data removed]",
      "text/plain": [
       "<Figure size 720x1440 with 2 Axes>"
      ]
     },
     "metadata": {
      "needs_background": "light"
     },
     "output_type": "display_data"
    }
   ],
   "source": [
    "fig, ax = plt.subplots(1,1, figsize=(10,20))\n",
    "divider = make_axes_locatable(ax)\n",
    "tmpx = pickup_dropoff.copy()\n",
    "\n",
    "#To display values\n",
    "tmpx['total'] = tmpx['total'] \n",
    "\n",
    "#resize the colorbar\n",
    "cax = divider.append_axes(\"left\", size=\"3%\", pad=0) \n",
    "tmpx.plot(column='total', ax=ax,cax=cax,  legend=True, \n",
    "         legend_kwds={'label': \"Quantity pickups and dropoff\"})\n",
    "\n",
    "#Add some borders to the geometries\n",
    "tmpx['geometry'].boundary.plot(color='#BABABA', ax=ax, linewidth=0.3) \n",
    "ax.axis('off')"
   ]
  },
  {
   "cell_type": "code",
   "execution_count": null,
   "id": "5ced70ec-21b6-4cb3-9411-84bc4d9d7c32",
   "metadata": {},
   "outputs": [],
   "source": []
  },
  {
   "cell_type": "markdown",
   "id": "1431824f-d5d4-42cf-aa49-9323cd1493ce",
   "metadata": {
    "tags": []
   },
   "source": [
    "# Cuales son las horas y dias pico"
   ]
  },
  {
   "cell_type": "code",
   "execution_count": 23,
   "id": "6bd52550-4590-4c8b-898a-8e9ed0607b72",
   "metadata": {},
   "outputs": [],
   "source": [
    "full_df['pickup_hour'] = full_df['tpep_pickup_datetime'].map(lambda x: x.hour)\n",
    "full_df['dropoff_hour'] = full_df['tpep_dropoff_datetime'].map(lambda x: x.hour)"
   ]
  },
  {
   "cell_type": "code",
   "execution_count": 24,
   "id": "985cafd9-4f1e-4a77-92d7-f0fdbc9f081b",
   "metadata": {},
   "outputs": [],
   "source": [
    "df_pickup_hour = pd.DataFrame(\n",
    "    full_df['pickup_hour'].value_counts().reset_index().values, columns=['hour', 'count_pickup'])"
   ]
  },
  {
   "cell_type": "code",
   "execution_count": 25,
   "id": "3942aa0f-a604-4f6a-a2dc-2729127a00ca",
   "metadata": {},
   "outputs": [],
   "source": [
    "df_dropoff_hour = pd.DataFrame(\n",
    "    full_df['dropoff_hour'].value_counts().reset_index().values, columns=['hour', 'count_dropoff'])"
   ]
  },
  {
   "cell_type": "code",
   "execution_count": 26,
   "id": "ac1252f8-177e-42e4-8e0e-faae79efdcfa",
   "metadata": {},
   "outputs": [],
   "source": [
    "df_hour = pd.merge(df_pickup_hour, df_dropoff_hour, on='hour', how='inner')"
   ]
  },
  {
   "cell_type": "code",
   "execution_count": 27,
   "id": "e214c9d5-46eb-4037-8ff9-80f8638e5793",
   "metadata": {},
   "outputs": [],
   "source": [
    "df_hour = df_hour.sort_values(by='hour').set_index('hour')"
   ]
  },
  {
   "cell_type": "code",
   "execution_count": 28,
   "id": "ad78d714-14a2-47ba-867a-b8f299ffc93f",
   "metadata": {},
   "outputs": [
    {
     "data": {
      "text/html": [
       "<div>\n",
       "<style scoped>\n",
       "    .dataframe tbody tr th:only-of-type {\n",
       "        vertical-align: middle;\n",
       "    }\n",
       "\n",
       "    .dataframe tbody tr th {\n",
       "        vertical-align: top;\n",
       "    }\n",
       "\n",
       "    .dataframe thead th {\n",
       "        text-align: right;\n",
       "    }\n",
       "</style>\n",
       "<table border=\"1\" class=\"dataframe\">\n",
       "  <thead>\n",
       "    <tr style=\"text-align: right;\">\n",
       "      <th></th>\n",
       "      <th>count_pickup</th>\n",
       "      <th>count_dropoff</th>\n",
       "    </tr>\n",
       "    <tr>\n",
       "      <th>hour</th>\n",
       "      <th></th>\n",
       "      <th></th>\n",
       "    </tr>\n",
       "  </thead>\n",
       "  <tbody>\n",
       "    <tr>\n",
       "      <th>0</th>\n",
       "      <td>537873</td>\n",
       "      <td>588741</td>\n",
       "    </tr>\n",
       "    <tr>\n",
       "      <th>1</th>\n",
       "      <td>372574</td>\n",
       "      <td>401178</td>\n",
       "    </tr>\n",
       "    <tr>\n",
       "      <th>2</th>\n",
       "      <td>253311</td>\n",
       "      <td>272493</td>\n",
       "    </tr>\n",
       "    <tr>\n",
       "      <th>3</th>\n",
       "      <td>189633</td>\n",
       "      <td>197220</td>\n",
       "    </tr>\n",
       "    <tr>\n",
       "      <th>4</th>\n",
       "      <td>161500</td>\n",
       "      <td>165075</td>\n",
       "    </tr>\n",
       "  </tbody>\n",
       "</table>\n",
       "</div>"
      ],
      "text/plain": [
       "      count_pickup  count_dropoff\n",
       "hour                             \n",
       "0           537873         588741\n",
       "1           372574         401178\n",
       "2           253311         272493\n",
       "3           189633         197220\n",
       "4           161500         165075"
      ]
     },
     "execution_count": 28,
     "metadata": {},
     "output_type": "execute_result"
    }
   ],
   "source": [
    "df_hour.head()"
   ]
  },
  {
   "cell_type": "code",
   "execution_count": null,
   "id": "4abcd9dc-7b3c-4782-b18c-f842a10047b4",
   "metadata": {},
   "outputs": [],
   "source": []
  },
  {
   "cell_type": "code",
   "execution_count": 29,
   "id": "66ea4883-98b7-4345-9ef9-b273041689bc",
   "metadata": {},
   "outputs": [
    {
     "data": {
      "image/png": "[encoded data removed]",
      "text/plain": [
       "<Figure size 864x360 with 2 Axes>"
      ]
     },
     "metadata": {
      "needs_background": "light"
     },
     "output_type": "display_data"
    }
   ],
   "source": [
    "plt.figure(figsize=(12,5))\n",
    "plt.xlabel('hour')\n",
    "\n",
    "ax1 = df_hour.count_pickup.plot(color='blue', grid=True, label='count_pickup')\n",
    "ax2 = df_hour.count_dropoff.plot(color='red', grid=True, secondary_y=True, label='count_dropoff')\n",
    "\n",
    "h1, l1 = ax1.get_legend_handles_labels()\n",
    "h2, l2 = ax2.get_legend_handles_labels()\n",
    "\n",
    "\n",
    "plt.legend(h1+h2, l1+l2, loc=2)\n",
    "plt.show()"
   ]
  },
  {
   "cell_type": "code",
   "execution_count": null,
   "id": "e1136969-fd23-4e33-bf55-e971414243ca",
   "metadata": {},
   "outputs": [],
   "source": []
  },
  {
   "cell_type": "code",
   "execution_count": 30,
   "id": "0de93857-a5ac-4d2e-9b8c-02c8619d4ba5",
   "metadata": {},
   "outputs": [],
   "source": [
    "full_df['pickup_day'] = full_df['tpep_pickup_datetime'].map(lambda x: x.day)\n",
    "full_df['dropoff_day'] = full_df['tpep_dropoff_datetime'].map(lambda x: x.day)"
   ]
  },
  {
   "cell_type": "code",
   "execution_count": 31,
   "id": "222a1983-1ef3-48b4-ab32-12f967ffd615",
   "metadata": {},
   "outputs": [],
   "source": [
    "df_pickup_day = pd.DataFrame(\n",
    "    full_df['pickup_day'].value_counts().reset_index().values, columns=['day', 'count_pickup'])"
   ]
  },
  {
   "cell_type": "code",
   "execution_count": 32,
   "id": "b0c76949-3395-4a11-b6bb-80fbefb5690e",
   "metadata": {},
   "outputs": [],
   "source": [
    "df_dropoff_day = pd.DataFrame(\n",
    "    full_df['dropoff_day'].value_counts().reset_index().values, columns=['day', 'count_dropoff'])"
   ]
  },
  {
   "cell_type": "code",
   "execution_count": 33,
   "id": "19ebe980-4d9f-43ba-9fa5-fbb690c9fde6",
   "metadata": {},
   "outputs": [],
   "source": [
    "df_day = pd.merge(df_pickup_day, df_dropoff_day, on='day', how='inner')"
   ]
  },
  {
   "cell_type": "code",
   "execution_count": 34,
   "id": "0a7bc935-0b80-45fc-b5d3-cc262e5d0d5b",
   "metadata": {},
   "outputs": [],
   "source": [
    "df_day = df_day.sort_values(by='day').set_index('day')"
   ]
  },
  {
   "cell_type": "code",
   "execution_count": 35,
   "id": "45ade0ef-c39e-480e-b406-f8ebfdd7e379",
   "metadata": {},
   "outputs": [
    {
     "data": {
      "image/png": "[encoded data removed]",
      "text/plain": [
       "<Figure size 864x360 with 2 Axes>"
      ]
     },
     "metadata": {
      "needs_background": "light"
     },
     "output_type": "display_data"
    }
   ],
   "source": [
    "plt.figure(figsize=(12,5))\n",
    "plt.xlabel('day')\n",
    "\n",
    "ax1 = df_day.count_pickup.plot(color='blue', grid=True, label='count_pickup')\n",
    "ax2 = df_day.count_dropoff.plot(color='red', grid=True, secondary_y=True, label='count_dropoff')\n",
    "\n",
    "h1, l1 = ax1.get_legend_handles_labels()\n",
    "h2, l2 = ax2.get_legend_handles_labels()\n",
    "\n",
    "\n",
    "plt.legend(h1+h2, l1+l2, loc=2)\n",
    "plt.show()"
   ]
  },
  {
   "cell_type": "code",
   "execution_count": null,
   "id": "76982ef8-8b16-42e8-bcea-2cfee9bdceb4",
   "metadata": {},
   "outputs": [],
   "source": []
  }
 ],
 "metadata": {
  "kernelspec": {
   "display_name": "Python 3 (ipykernel)",
   "language": "python",
   "name": "python3"
  },
  "language_info": {
   "codemirror_mode": {
    "name": "ipython",
    "version": 3
   },
   "file_extension": ".py",
   "mimetype": "text/x-python",
   "name": "python",
   "nbconvert_exporter": "python",
   "pygments_lexer": "ipython3",
   "version": "3.7.13"
  }
 },
 "nbformat": 4,
 "nbformat_minor": 5
}

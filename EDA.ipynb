{
 "cells": [
  {
   "cell_type": "code",
   "execution_count": null,
   "id": "d179d0c2-10e4-4703-a976-099a1c670ab8",
   "metadata": {},
   "outputs": [],
   "source": []
  },
  {
   "cell_type": "code",
   "execution_count": 1,
   "id": "adbc5c8c-8589-4580-9c08-739bb3125782",
   "metadata": {},
   "outputs": [],
   "source": [
    "from pathlib import Path\n",
    "\n",
    "import numpy as np\n",
    "import pandas as pd\n",
    "pd.set_option('display.max_rows', 500)\n",
    "pd.set_option('display.max_columns', 500)\n",
    "pd.set_option('display.width', 500)\n",
    "from pandas_profiling import ProfileReport\n",
    "\n",
    "import geopandas as gpd\n",
    "import matplotlib\n",
    "import matplotlib.pyplot as plt\n",
    "from mpl_toolkits.axes_grid1 import make_axes_locatable\n",
    "import plotly.graph_objects as go"
   ]
  },
  {
   "cell_type": "code",
   "execution_count": null,
   "id": "0fe753e6-4793-4812-bb70-451eeb282f01",
   "metadata": {},
   "outputs": [],
   "source": []
  },
  {
   "cell_type": "code",
   "execution_count": 2,
   "id": "81ec5041-94f6-40b5-9a14-460710ed5b41",
   "metadata": {},
   "outputs": [],
   "source": [
    "data_dir = Path('data')\n",
    "full_df = pd.concat(\n",
    "    pd.read_parquet(parquet_file)\n",
    "    for parquet_file in data_dir.glob('*.parquet')\n",
    ")"
   ]
  },
  {
   "cell_type": "code",
   "execution_count": 3,
   "id": "3b482fc1-1987-4437-b554-55244ead8539",
   "metadata": {},
   "outputs": [
    {
     "data": {
      "text/html": [
       "<div>\n",
       "<style scoped>\n",
       "    .dataframe tbody tr th:only-of-type {\n",
       "        vertical-align: middle;\n",
       "    }\n",
       "\n",
       "    .dataframe tbody tr th {\n",
       "        vertical-align: top;\n",
       "    }\n",
       "\n",
       "    .dataframe thead th {\n",
       "        text-align: right;\n",
       "    }\n",
       "</style>\n",
       "<table border=\"1\" class=\"dataframe\">\n",
       "  <thead>\n",
       "    <tr style=\"text-align: right;\">\n",
       "      <th></th>\n",
       "      <th>VendorID</th>\n",
       "      <th>tpep_pickup_datetime</th>\n",
       "      <th>tpep_dropoff_datetime</th>\n",
       "      <th>passenger_count</th>\n",
       "      <th>trip_distance</th>\n",
       "      <th>RatecodeID</th>\n",
       "      <th>store_and_fwd_flag</th>\n",
       "      <th>PULocationID</th>\n",
       "      <th>DOLocationID</th>\n",
       "      <th>payment_type</th>\n",
       "      <th>fare_amount</th>\n",
       "      <th>extra</th>\n",
       "      <th>mta_tax</th>\n",
       "      <th>tip_amount</th>\n",
       "      <th>tolls_amount</th>\n",
       "      <th>improvement_surcharge</th>\n",
       "      <th>total_amount</th>\n",
       "      <th>congestion_surcharge</th>\n",
       "      <th>airport_fee</th>\n",
       "    </tr>\n",
       "  </thead>\n",
       "  <tbody>\n",
       "    <tr>\n",
       "      <th>0</th>\n",
       "      <td>1</td>\n",
       "      <td>2020-03-01 00:31:13</td>\n",
       "      <td>2020-03-01 01:01:42</td>\n",
       "      <td>1.0</td>\n",
       "      <td>4.70</td>\n",
       "      <td>1.0</td>\n",
       "      <td>N</td>\n",
       "      <td>88</td>\n",
       "      <td>255</td>\n",
       "      <td>1</td>\n",
       "      <td>22.0</td>\n",
       "      <td>3.0</td>\n",
       "      <td>0.5</td>\n",
       "      <td>2.00</td>\n",
       "      <td>0.0</td>\n",
       "      <td>0.3</td>\n",
       "      <td>27.80</td>\n",
       "      <td>2.5</td>\n",
       "      <td>None</td>\n",
       "    </tr>\n",
       "    <tr>\n",
       "      <th>1</th>\n",
       "      <td>2</td>\n",
       "      <td>2020-03-01 00:08:22</td>\n",
       "      <td>2020-03-01 00:08:49</td>\n",
       "      <td>1.0</td>\n",
       "      <td>0.00</td>\n",
       "      <td>1.0</td>\n",
       "      <td>N</td>\n",
       "      <td>193</td>\n",
       "      <td>193</td>\n",
       "      <td>2</td>\n",
       "      <td>2.5</td>\n",
       "      <td>0.5</td>\n",
       "      <td>0.5</td>\n",
       "      <td>0.00</td>\n",
       "      <td>0.0</td>\n",
       "      <td>0.3</td>\n",
       "      <td>3.80</td>\n",
       "      <td>0.0</td>\n",
       "      <td>None</td>\n",
       "    </tr>\n",
       "    <tr>\n",
       "      <th>2</th>\n",
       "      <td>1</td>\n",
       "      <td>2020-03-01 00:52:18</td>\n",
       "      <td>2020-03-01 00:59:16</td>\n",
       "      <td>1.0</td>\n",
       "      <td>1.10</td>\n",
       "      <td>1.0</td>\n",
       "      <td>N</td>\n",
       "      <td>246</td>\n",
       "      <td>90</td>\n",
       "      <td>1</td>\n",
       "      <td>6.0</td>\n",
       "      <td>3.0</td>\n",
       "      <td>0.5</td>\n",
       "      <td>1.95</td>\n",
       "      <td>0.0</td>\n",
       "      <td>0.3</td>\n",
       "      <td>11.75</td>\n",
       "      <td>2.5</td>\n",
       "      <td>None</td>\n",
       "    </tr>\n",
       "    <tr>\n",
       "      <th>3</th>\n",
       "      <td>2</td>\n",
       "      <td>2020-03-01 00:47:53</td>\n",
       "      <td>2020-03-01 00:50:57</td>\n",
       "      <td>2.0</td>\n",
       "      <td>0.87</td>\n",
       "      <td>1.0</td>\n",
       "      <td>N</td>\n",
       "      <td>151</td>\n",
       "      <td>238</td>\n",
       "      <td>1</td>\n",
       "      <td>5.0</td>\n",
       "      <td>0.5</td>\n",
       "      <td>0.5</td>\n",
       "      <td>1.76</td>\n",
       "      <td>0.0</td>\n",
       "      <td>0.3</td>\n",
       "      <td>10.56</td>\n",
       "      <td>2.5</td>\n",
       "      <td>None</td>\n",
       "    </tr>\n",
       "    <tr>\n",
       "      <th>4</th>\n",
       "      <td>1</td>\n",
       "      <td>2020-03-01 00:43:19</td>\n",
       "      <td>2020-03-01 00:58:27</td>\n",
       "      <td>0.0</td>\n",
       "      <td>4.40</td>\n",
       "      <td>1.0</td>\n",
       "      <td>N</td>\n",
       "      <td>79</td>\n",
       "      <td>261</td>\n",
       "      <td>1</td>\n",
       "      <td>16.5</td>\n",
       "      <td>3.0</td>\n",
       "      <td>0.5</td>\n",
       "      <td>4.05</td>\n",
       "      <td>0.0</td>\n",
       "      <td>0.3</td>\n",
       "      <td>24.35</td>\n",
       "      <td>2.5</td>\n",
       "      <td>None</td>\n",
       "    </tr>\n",
       "  </tbody>\n",
       "</table>\n",
       "</div>"
      ],
      "text/plain": [
       "   VendorID tpep_pickup_datetime tpep_dropoff_datetime  passenger_count  trip_distance  RatecodeID store_and_fwd_flag  PULocationID  DOLocationID  payment_type  fare_amount  extra  mta_tax  tip_amount  tolls_amount  improvement_surcharge  total_amount  congestion_surcharge airport_fee\n",
       "0         1  2020-03-01 00:31:13   2020-03-01 01:01:42              1.0           4.70         1.0                  N            88           255             1         22.0    3.0      0.5        2.00           0.0                    0.3         27.80                   2.5        None\n",
       "1         2  2020-03-01 00:08:22   2020-03-01 00:08:49              1.0           0.00         1.0                  N           193           193             2          2.5    0.5      0.5        0.00           0.0                    0.3          3.80                   0.0        None\n",
       "2         1  2020-03-01 00:52:18   2020-03-01 00:59:16              1.0           1.10         1.0                  N           246            90             1          6.0    3.0      0.5        1.95           0.0                    0.3         11.75                   2.5        None\n",
       "3         2  2020-03-01 00:47:53   2020-03-01 00:50:57              2.0           0.87         1.0                  N           151           238             1          5.0    0.5      0.5        1.76           0.0                    0.3         10.56                   2.5        None\n",
       "4         1  2020-03-01 00:43:19   2020-03-01 00:58:27              0.0           4.40         1.0                  N            79           261             1         16.5    3.0      0.5        4.05           0.0                    0.3         24.35                   2.5        None"
      ]
     },
     "execution_count": 3,
     "metadata": {},
     "output_type": "execute_result"
    }
   ],
   "source": [
    "full_df.head()"
   ]
  },
  {
   "cell_type": "code",
   "execution_count": 4,
   "id": "6bb3c862-e94e-441e-8919-129fefb84c3e",
   "metadata": {},
   "outputs": [
    {
     "data": {
      "text/plain": [
       "(24649092, 19)"
      ]
     },
     "execution_count": 4,
     "metadata": {},
     "output_type": "execute_result"
    }
   ],
   "source": [
    "full_df.shape"
   ]
  },
  {
   "cell_type": "code",
   "execution_count": null,
   "id": "8ad019d2-d14b-4d2c-b32e-bd9d14fcd9cf",
   "metadata": {},
   "outputs": [],
   "source": []
  },
  {
   "cell_type": "markdown",
   "id": "95eb61bb-4133-4d78-bbdf-0062477a4628",
   "metadata": {},
   "source": [
    "# Análisis de fechas "
   ]
  },
  {
   "cell_type": "markdown",
   "id": "109a3956-f42e-4bca-8291-80b1c260db58",
   "metadata": {},
   "source": [
    "## Fechas que no corresponden al año"
   ]
  },
  {
   "cell_type": "code",
   "execution_count": 5,
   "id": "af29ebb9-fca5-4e9d-9ceb-cb55a3f14c6f",
   "metadata": {},
   "outputs": [
    {
     "data": {
      "text/plain": [
       "Timestamp('2002-12-31 23:06:55')"
      ]
     },
     "execution_count": 5,
     "metadata": {},
     "output_type": "execute_result"
    }
   ],
   "source": [
    "full_df.tpep_pickup_datetime.min()"
   ]
  },
  {
   "cell_type": "code",
   "execution_count": 6,
   "id": "4549dbce-6618-404f-ad33-0229946e4f57",
   "metadata": {},
   "outputs": [
    {
     "data": {
      "text/html": [
       "<div>\n",
       "<style scoped>\n",
       "    .dataframe tbody tr th:only-of-type {\n",
       "        vertical-align: middle;\n",
       "    }\n",
       "\n",
       "    .dataframe tbody tr th {\n",
       "        vertical-align: top;\n",
       "    }\n",
       "\n",
       "    .dataframe thead th {\n",
       "        text-align: right;\n",
       "    }\n",
       "</style>\n",
       "<table border=\"1\" class=\"dataframe\">\n",
       "  <thead>\n",
       "    <tr style=\"text-align: right;\">\n",
       "      <th></th>\n",
       "      <th>VendorID</th>\n",
       "      <th>tpep_pickup_datetime</th>\n",
       "      <th>tpep_dropoff_datetime</th>\n",
       "      <th>passenger_count</th>\n",
       "      <th>trip_distance</th>\n",
       "      <th>RatecodeID</th>\n",
       "      <th>store_and_fwd_flag</th>\n",
       "      <th>PULocationID</th>\n",
       "      <th>DOLocationID</th>\n",
       "      <th>payment_type</th>\n",
       "      <th>fare_amount</th>\n",
       "      <th>extra</th>\n",
       "      <th>mta_tax</th>\n",
       "      <th>tip_amount</th>\n",
       "      <th>tolls_amount</th>\n",
       "      <th>improvement_surcharge</th>\n",
       "      <th>total_amount</th>\n",
       "      <th>congestion_surcharge</th>\n",
       "      <th>airport_fee</th>\n",
       "    </tr>\n",
       "  </thead>\n",
       "  <tbody>\n",
       "    <tr>\n",
       "      <th>697117</th>\n",
       "      <td>2</td>\n",
       "      <td>2002-12-31 23:06:55</td>\n",
       "      <td>2002-12-31 23:08:03</td>\n",
       "      <td>1.0</td>\n",
       "      <td>0.0</td>\n",
       "      <td>1.0</td>\n",
       "      <td>N</td>\n",
       "      <td>264</td>\n",
       "      <td>264</td>\n",
       "      <td>2</td>\n",
       "      <td>0.0</td>\n",
       "      <td>0.0</td>\n",
       "      <td>0.0</td>\n",
       "      <td>0.0</td>\n",
       "      <td>0.0</td>\n",
       "      <td>0.0</td>\n",
       "      <td>0.0</td>\n",
       "      <td>0.0</td>\n",
       "      <td>NaN</td>\n",
       "    </tr>\n",
       "  </tbody>\n",
       "</table>\n",
       "</div>"
      ],
      "text/plain": [
       "        VendorID tpep_pickup_datetime tpep_dropoff_datetime  passenger_count  trip_distance  RatecodeID store_and_fwd_flag  PULocationID  DOLocationID  payment_type  fare_amount  extra  mta_tax  tip_amount  tolls_amount  improvement_surcharge  total_amount  congestion_surcharge airport_fee\n",
       "697117         2  2002-12-31 23:06:55   2002-12-31 23:08:03              1.0            0.0         1.0                  N           264           264             2          0.0    0.0      0.0         0.0           0.0                    0.0           0.0                   0.0         NaN"
      ]
     },
     "execution_count": 6,
     "metadata": {},
     "output_type": "execute_result"
    }
   ],
   "source": [
    "full_df[full_df.tpep_pickup_datetime == full_df.tpep_pickup_datetime.min()]"
   ]
  },
  {
   "cell_type": "code",
   "execution_count": 7,
   "id": "4fa10571-70e8-43d1-b7f3-ab220b0fd5f6",
   "metadata": {},
   "outputs": [
    {
     "data": {
      "text/plain": [
       "Timestamp('2021-06-10 10:10:48')"
      ]
     },
     "execution_count": 7,
     "metadata": {},
     "output_type": "execute_result"
    }
   ],
   "source": [
    "full_df.tpep_pickup_datetime.max()"
   ]
  },
  {
   "cell_type": "code",
   "execution_count": 8,
   "id": "181f0fde-b91e-4f6f-a38c-c3f737ebad2f",
   "metadata": {},
   "outputs": [
    {
     "data": {
      "text/html": [
       "<div>\n",
       "<style scoped>\n",
       "    .dataframe tbody tr th:only-of-type {\n",
       "        vertical-align: middle;\n",
       "    }\n",
       "\n",
       "    .dataframe tbody tr th {\n",
       "        vertical-align: top;\n",
       "    }\n",
       "\n",
       "    .dataframe thead th {\n",
       "        text-align: right;\n",
       "    }\n",
       "</style>\n",
       "<table border=\"1\" class=\"dataframe\">\n",
       "  <thead>\n",
       "    <tr style=\"text-align: right;\">\n",
       "      <th></th>\n",
       "      <th>VendorID</th>\n",
       "      <th>tpep_pickup_datetime</th>\n",
       "      <th>tpep_dropoff_datetime</th>\n",
       "      <th>passenger_count</th>\n",
       "      <th>trip_distance</th>\n",
       "      <th>RatecodeID</th>\n",
       "      <th>store_and_fwd_flag</th>\n",
       "      <th>PULocationID</th>\n",
       "      <th>DOLocationID</th>\n",
       "      <th>payment_type</th>\n",
       "      <th>fare_amount</th>\n",
       "      <th>extra</th>\n",
       "      <th>mta_tax</th>\n",
       "      <th>tip_amount</th>\n",
       "      <th>tolls_amount</th>\n",
       "      <th>improvement_surcharge</th>\n",
       "      <th>total_amount</th>\n",
       "      <th>congestion_surcharge</th>\n",
       "      <th>airport_fee</th>\n",
       "    </tr>\n",
       "  </thead>\n",
       "  <tbody>\n",
       "    <tr>\n",
       "      <th>1015665</th>\n",
       "      <td>2</td>\n",
       "      <td>2021-06-10 10:10:48</td>\n",
       "      <td>2021-06-10 10:41:42</td>\n",
       "      <td>1.0</td>\n",
       "      <td>5.85</td>\n",
       "      <td>1.0</td>\n",
       "      <td>N</td>\n",
       "      <td>13</td>\n",
       "      <td>239</td>\n",
       "      <td>1</td>\n",
       "      <td>24.0</td>\n",
       "      <td>0.0</td>\n",
       "      <td>0.5</td>\n",
       "      <td>4.1</td>\n",
       "      <td>0.0</td>\n",
       "      <td>0.3</td>\n",
       "      <td>31.4</td>\n",
       "      <td>2.5</td>\n",
       "      <td>NaN</td>\n",
       "    </tr>\n",
       "  </tbody>\n",
       "</table>\n",
       "</div>"
      ],
      "text/plain": [
       "         VendorID tpep_pickup_datetime tpep_dropoff_datetime  passenger_count  trip_distance  RatecodeID store_and_fwd_flag  PULocationID  DOLocationID  payment_type  fare_amount  extra  mta_tax  tip_amount  tolls_amount  improvement_surcharge  total_amount  congestion_surcharge airport_fee\n",
       "1015665         2  2021-06-10 10:10:48   2021-06-10 10:41:42              1.0           5.85         1.0                  N            13           239             1         24.0    0.0      0.5         4.1           0.0                    0.3          31.4                   2.5         NaN"
      ]
     },
     "execution_count": 8,
     "metadata": {},
     "output_type": "execute_result"
    }
   ],
   "source": [
    "full_df[full_df.tpep_pickup_datetime == full_df.tpep_pickup_datetime.max()]"
   ]
  },
  {
   "cell_type": "code",
   "execution_count": 9,
   "id": "0a520541-b7eb-464e-807b-2782a5ef38dc",
   "metadata": {},
   "outputs": [
    {
     "data": {
      "text/plain": [
       "Timestamp('2002-12-31 23:08:03')"
      ]
     },
     "execution_count": 9,
     "metadata": {},
     "output_type": "execute_result"
    }
   ],
   "source": [
    "full_df.tpep_dropoff_datetime.min()"
   ]
  },
  {
   "cell_type": "code",
   "execution_count": 10,
   "id": "ef5ee2a7-2424-4670-afaa-9c8e4297c54e",
   "metadata": {},
   "outputs": [
    {
     "data": {
      "text/html": [
       "<div>\n",
       "<style scoped>\n",
       "    .dataframe tbody tr th:only-of-type {\n",
       "        vertical-align: middle;\n",
       "    }\n",
       "\n",
       "    .dataframe tbody tr th {\n",
       "        vertical-align: top;\n",
       "    }\n",
       "\n",
       "    .dataframe thead th {\n",
       "        text-align: right;\n",
       "    }\n",
       "</style>\n",
       "<table border=\"1\" class=\"dataframe\">\n",
       "  <thead>\n",
       "    <tr style=\"text-align: right;\">\n",
       "      <th></th>\n",
       "      <th>VendorID</th>\n",
       "      <th>tpep_pickup_datetime</th>\n",
       "      <th>tpep_dropoff_datetime</th>\n",
       "      <th>passenger_count</th>\n",
       "      <th>trip_distance</th>\n",
       "      <th>RatecodeID</th>\n",
       "      <th>store_and_fwd_flag</th>\n",
       "      <th>PULocationID</th>\n",
       "      <th>DOLocationID</th>\n",
       "      <th>payment_type</th>\n",
       "      <th>fare_amount</th>\n",
       "      <th>extra</th>\n",
       "      <th>mta_tax</th>\n",
       "      <th>tip_amount</th>\n",
       "      <th>tolls_amount</th>\n",
       "      <th>improvement_surcharge</th>\n",
       "      <th>total_amount</th>\n",
       "      <th>congestion_surcharge</th>\n",
       "      <th>airport_fee</th>\n",
       "    </tr>\n",
       "  </thead>\n",
       "  <tbody>\n",
       "    <tr>\n",
       "      <th>697117</th>\n",
       "      <td>2</td>\n",
       "      <td>2002-12-31 23:06:55</td>\n",
       "      <td>2002-12-31 23:08:03</td>\n",
       "      <td>1.0</td>\n",
       "      <td>0.0</td>\n",
       "      <td>1.0</td>\n",
       "      <td>N</td>\n",
       "      <td>264</td>\n",
       "      <td>264</td>\n",
       "      <td>2</td>\n",
       "      <td>0.0</td>\n",
       "      <td>0.0</td>\n",
       "      <td>0.0</td>\n",
       "      <td>0.0</td>\n",
       "      <td>0.0</td>\n",
       "      <td>0.0</td>\n",
       "      <td>0.0</td>\n",
       "      <td>0.0</td>\n",
       "      <td>NaN</td>\n",
       "    </tr>\n",
       "  </tbody>\n",
       "</table>\n",
       "</div>"
      ],
      "text/plain": [
       "        VendorID tpep_pickup_datetime tpep_dropoff_datetime  passenger_count  trip_distance  RatecodeID store_and_fwd_flag  PULocationID  DOLocationID  payment_type  fare_amount  extra  mta_tax  tip_amount  tolls_amount  improvement_surcharge  total_amount  congestion_surcharge airport_fee\n",
       "697117         2  2002-12-31 23:06:55   2002-12-31 23:08:03              1.0            0.0         1.0                  N           264           264             2          0.0    0.0      0.0         0.0           0.0                    0.0           0.0                   0.0         NaN"
      ]
     },
     "execution_count": 10,
     "metadata": {},
     "output_type": "execute_result"
    }
   ],
   "source": [
    "full_df[full_df.tpep_dropoff_datetime == full_df.tpep_dropoff_datetime.min()]"
   ]
  },
  {
   "cell_type": "code",
   "execution_count": 11,
   "id": "7fe4889c-3e9b-4ca0-be84-9e1cf8fe38a7",
   "metadata": {},
   "outputs": [
    {
     "data": {
      "text/plain": [
       "Timestamp('2021-06-10 10:41:42')"
      ]
     },
     "execution_count": 11,
     "metadata": {},
     "output_type": "execute_result"
    }
   ],
   "source": [
    "full_df.tpep_dropoff_datetime.max()"
   ]
  },
  {
   "cell_type": "code",
   "execution_count": 12,
   "id": "a0bade60-45ec-4fd9-9bb7-9371f1700aa2",
   "metadata": {},
   "outputs": [
    {
     "data": {
      "text/html": [
       "<div>\n",
       "<style scoped>\n",
       "    .dataframe tbody tr th:only-of-type {\n",
       "        vertical-align: middle;\n",
       "    }\n",
       "\n",
       "    .dataframe tbody tr th {\n",
       "        vertical-align: top;\n",
       "    }\n",
       "\n",
       "    .dataframe thead th {\n",
       "        text-align: right;\n",
       "    }\n",
       "</style>\n",
       "<table border=\"1\" class=\"dataframe\">\n",
       "  <thead>\n",
       "    <tr style=\"text-align: right;\">\n",
       "      <th></th>\n",
       "      <th>VendorID</th>\n",
       "      <th>tpep_pickup_datetime</th>\n",
       "      <th>tpep_dropoff_datetime</th>\n",
       "      <th>passenger_count</th>\n",
       "      <th>trip_distance</th>\n",
       "      <th>RatecodeID</th>\n",
       "      <th>store_and_fwd_flag</th>\n",
       "      <th>PULocationID</th>\n",
       "      <th>DOLocationID</th>\n",
       "      <th>payment_type</th>\n",
       "      <th>fare_amount</th>\n",
       "      <th>extra</th>\n",
       "      <th>mta_tax</th>\n",
       "      <th>tip_amount</th>\n",
       "      <th>tolls_amount</th>\n",
       "      <th>improvement_surcharge</th>\n",
       "      <th>total_amount</th>\n",
       "      <th>congestion_surcharge</th>\n",
       "      <th>airport_fee</th>\n",
       "    </tr>\n",
       "  </thead>\n",
       "  <tbody>\n",
       "    <tr>\n",
       "      <th>1015665</th>\n",
       "      <td>2</td>\n",
       "      <td>2021-06-10 10:10:48</td>\n",
       "      <td>2021-06-10 10:41:42</td>\n",
       "      <td>1.0</td>\n",
       "      <td>5.85</td>\n",
       "      <td>1.0</td>\n",
       "      <td>N</td>\n",
       "      <td>13</td>\n",
       "      <td>239</td>\n",
       "      <td>1</td>\n",
       "      <td>24.0</td>\n",
       "      <td>0.0</td>\n",
       "      <td>0.5</td>\n",
       "      <td>4.1</td>\n",
       "      <td>0.0</td>\n",
       "      <td>0.3</td>\n",
       "      <td>31.4</td>\n",
       "      <td>2.5</td>\n",
       "      <td>NaN</td>\n",
       "    </tr>\n",
       "  </tbody>\n",
       "</table>\n",
       "</div>"
      ],
      "text/plain": [
       "         VendorID tpep_pickup_datetime tpep_dropoff_datetime  passenger_count  trip_distance  RatecodeID store_and_fwd_flag  PULocationID  DOLocationID  payment_type  fare_amount  extra  mta_tax  tip_amount  tolls_amount  improvement_surcharge  total_amount  congestion_surcharge airport_fee\n",
       "1015665         2  2021-06-10 10:10:48   2021-06-10 10:41:42              1.0           5.85         1.0                  N            13           239             1         24.0    0.0      0.5         4.1           0.0                    0.3          31.4                   2.5         NaN"
      ]
     },
     "execution_count": 12,
     "metadata": {},
     "output_type": "execute_result"
    }
   ],
   "source": [
    "full_df[full_df.tpep_dropoff_datetime == full_df.tpep_dropoff_datetime.max()]"
   ]
  },
  {
   "cell_type": "code",
   "execution_count": 13,
   "id": "8f96605f-7907-4a27-a0eb-6bfc41d829cb",
   "metadata": {},
   "outputs": [],
   "source": [
    "# Only 2020\n",
    "full_df = full_df[\n",
    "    (full_df.tpep_pickup_datetime >= '2020-01-01 00:00:00') & (full_df.tpep_pickup_datetime < '2021-01-01 00:00:00')\n",
    "].reset_index(drop=True)\n",
    "full_df = full_df[\n",
    "    (full_df.tpep_dropoff_datetime >= '2020-01-01 00:00:00') & (full_df.tpep_dropoff_datetime < '2021-01-01 00:00:00')\n",
    "].reset_index(drop=True)"
   ]
  },
  {
   "cell_type": "code",
   "execution_count": null,
   "id": "6a0f7dcf-3b42-4178-b853-6d89c0decec6",
   "metadata": {},
   "outputs": [],
   "source": []
  },
  {
   "cell_type": "markdown",
   "id": "9b691ab7-1af3-48a7-b9a2-cc69c02782a9",
   "metadata": {},
   "source": [
    "## Pickup date greater than dropoff "
   ]
  },
  {
   "cell_type": "code",
   "execution_count": 14,
   "id": "3f2f8f5b-eea4-402b-b3fe-495705f94945",
   "metadata": {},
   "outputs": [
    {
     "data": {
      "text/plain": [
       "(20009, 19)"
      ]
     },
     "execution_count": 14,
     "metadata": {},
     "output_type": "execute_result"
    }
   ],
   "source": [
    "full_df[full_df.tpep_pickup_datetime > full_df.tpep_dropoff_datetime].shape"
   ]
  },
  {
   "cell_type": "code",
   "execution_count": 15,
   "id": "7f14f7b8-32ff-400f-959d-e19f794c1eb7",
   "metadata": {},
   "outputs": [],
   "source": [
    "full_df = full_df[full_df.tpep_pickup_datetime <= full_df.tpep_dropoff_datetime].reset_index(drop=True)"
   ]
  },
  {
   "cell_type": "code",
   "execution_count": 16,
   "id": "b9910e41-5f4a-486c-8672-4b71b05edd7b",
   "metadata": {},
   "outputs": [
    {
     "data": {
      "text/plain": [
       "VendorID                          int64\n",
       "tpep_pickup_datetime     datetime64[ns]\n",
       "tpep_dropoff_datetime    datetime64[ns]\n",
       "passenger_count                 float64\n",
       "trip_distance                   float64\n",
       "RatecodeID                      float64\n",
       "store_and_fwd_flag               object\n",
       "PULocationID                      int64\n",
       "DOLocationID                      int64\n",
       "payment_type                      int64\n",
       "fare_amount                     float64\n",
       "extra                           float64\n",
       "mta_tax                         float64\n",
       "tip_amount                      float64\n",
       "tolls_amount                    float64\n",
       "improvement_surcharge           float64\n",
       "total_amount                    float64\n",
       "congestion_surcharge            float64\n",
       "airport_fee                      object\n",
       "dtype: object"
      ]
     },
     "execution_count": 16,
     "metadata": {},
     "output_type": "execute_result"
    }
   ],
   "source": [
    "full_df.dtypes"
   ]
  },
  {
   "cell_type": "code",
   "execution_count": 17,
   "id": "7ceef96d-6671-4582-a9d2-359249932569",
   "metadata": {},
   "outputs": [
    {
     "data": {
      "text/html": [
       "<div>\n",
       "<style scoped>\n",
       "    .dataframe tbody tr th:only-of-type {\n",
       "        vertical-align: middle;\n",
       "    }\n",
       "\n",
       "    .dataframe tbody tr th {\n",
       "        vertical-align: top;\n",
       "    }\n",
       "\n",
       "    .dataframe thead th {\n",
       "        text-align: right;\n",
       "    }\n",
       "</style>\n",
       "<table border=\"1\" class=\"dataframe\">\n",
       "  <thead>\n",
       "    <tr style=\"text-align: right;\">\n",
       "      <th></th>\n",
       "      <th>VendorID</th>\n",
       "      <th>passenger_count</th>\n",
       "      <th>trip_distance</th>\n",
       "      <th>RatecodeID</th>\n",
       "      <th>PULocationID</th>\n",
       "      <th>DOLocationID</th>\n",
       "      <th>payment_type</th>\n",
       "      <th>fare_amount</th>\n",
       "      <th>extra</th>\n",
       "      <th>mta_tax</th>\n",
       "      <th>tip_amount</th>\n",
       "      <th>tolls_amount</th>\n",
       "      <th>improvement_surcharge</th>\n",
       "      <th>total_amount</th>\n",
       "      <th>congestion_surcharge</th>\n",
       "    </tr>\n",
       "  </thead>\n",
       "  <tbody>\n",
       "    <tr>\n",
       "      <th>count</th>\n",
       "      <td>2.462862e+07</td>\n",
       "      <td>2.383849e+07</td>\n",
       "      <td>2.462862e+07</td>\n",
       "      <td>2.383849e+07</td>\n",
       "      <td>2.462862e+07</td>\n",
       "      <td>2.462862e+07</td>\n",
       "      <td>2.462862e+07</td>\n",
       "      <td>2.462862e+07</td>\n",
       "      <td>2.462862e+07</td>\n",
       "      <td>2.462862e+07</td>\n",
       "      <td>2.462862e+07</td>\n",
       "      <td>2.462862e+07</td>\n",
       "      <td>2.462862e+07</td>\n",
       "      <td>2.462862e+07</td>\n",
       "      <td>2.383849e+07</td>\n",
       "    </tr>\n",
       "    <tr>\n",
       "      <th>mean</th>\n",
       "      <td>1.679106e+00</td>\n",
       "      <td>1.467979e+00</td>\n",
       "      <td>3.525521e+00</td>\n",
       "      <td>1.048556e+00</td>\n",
       "      <td>1.638896e+02</td>\n",
       "      <td>1.611976e+02</td>\n",
       "      <td>1.239321e+00</td>\n",
       "      <td>1.265831e+01</td>\n",
       "      <td>1.072686e+00</td>\n",
       "      <td>5.128094e-01</td>\n",
       "      <td>2.083705e+00</td>\n",
       "      <td>3.041013e-01</td>\n",
       "      <td>2.975546e-01</td>\n",
       "      <td>1.841622e+01</td>\n",
       "      <td>2.271175e+00</td>\n",
       "    </tr>\n",
       "    <tr>\n",
       "      <th>std</th>\n",
       "      <td>4.883798e-01</td>\n",
       "      <td>1.112775e+00</td>\n",
       "      <td>3.251670e+02</td>\n",
       "      <td>7.610877e-01</td>\n",
       "      <td>6.671749e+01</td>\n",
       "      <td>7.094569e+01</td>\n",
       "      <td>5.272710e-01</td>\n",
       "      <td>2.742017e+02</td>\n",
       "      <td>1.007588e+02</td>\n",
       "      <td>1.007512e+02</td>\n",
       "      <td>2.611118e+00</td>\n",
       "      <td>1.605496e+00</td>\n",
       "      <td>3.746049e-02</td>\n",
       "      <td>3.403657e+02</td>\n",
       "      <td>7.473299e-01</td>\n",
       "    </tr>\n",
       "    <tr>\n",
       "      <th>min</th>\n",
       "      <td>1.000000e+00</td>\n",
       "      <td>0.000000e+00</td>\n",
       "      <td>-3.062000e+01</td>\n",
       "      <td>1.000000e+00</td>\n",
       "      <td>1.000000e+00</td>\n",
       "      <td>1.000000e+00</td>\n",
       "      <td>0.000000e+00</td>\n",
       "      <td>-1.259000e+03</td>\n",
       "      <td>-2.700000e+01</td>\n",
       "      <td>-5.000000e-01</td>\n",
       "      <td>-4.932200e+02</td>\n",
       "      <td>-4.000000e+01</td>\n",
       "      <td>-3.000000e-01</td>\n",
       "      <td>-1.260300e+03</td>\n",
       "      <td>-2.500000e+00</td>\n",
       "    </tr>\n",
       "    <tr>\n",
       "      <th>25%</th>\n",
       "      <td>1.000000e+00</td>\n",
       "      <td>1.000000e+00</td>\n",
       "      <td>9.900000e-01</td>\n",
       "      <td>1.000000e+00</td>\n",
       "      <td>1.140000e+02</td>\n",
       "      <td>1.070000e+02</td>\n",
       "      <td>1.000000e+00</td>\n",
       "      <td>6.500000e+00</td>\n",
       "      <td>0.000000e+00</td>\n",
       "      <td>5.000000e-01</td>\n",
       "      <td>0.000000e+00</td>\n",
       "      <td>0.000000e+00</td>\n",
       "      <td>3.000000e-01</td>\n",
       "      <td>1.116000e+01</td>\n",
       "      <td>2.500000e+00</td>\n",
       "    </tr>\n",
       "    <tr>\n",
       "      <th>50%</th>\n",
       "      <td>2.000000e+00</td>\n",
       "      <td>1.000000e+00</td>\n",
       "      <td>1.650000e+00</td>\n",
       "      <td>1.000000e+00</td>\n",
       "      <td>1.620000e+02</td>\n",
       "      <td>1.620000e+02</td>\n",
       "      <td>1.000000e+00</td>\n",
       "      <td>9.000000e+00</td>\n",
       "      <td>5.000000e-01</td>\n",
       "      <td>5.000000e-01</td>\n",
       "      <td>1.920000e+00</td>\n",
       "      <td>0.000000e+00</td>\n",
       "      <td>3.000000e-01</td>\n",
       "      <td>1.430000e+01</td>\n",
       "      <td>2.500000e+00</td>\n",
       "    </tr>\n",
       "    <tr>\n",
       "      <th>75%</th>\n",
       "      <td>2.000000e+00</td>\n",
       "      <td>1.000000e+00</td>\n",
       "      <td>3.000000e+00</td>\n",
       "      <td>1.000000e+00</td>\n",
       "      <td>2.340000e+02</td>\n",
       "      <td>2.340000e+02</td>\n",
       "      <td>2.000000e+00</td>\n",
       "      <td>1.400000e+01</td>\n",
       "      <td>2.500000e+00</td>\n",
       "      <td>5.000000e-01</td>\n",
       "      <td>2.760000e+00</td>\n",
       "      <td>0.000000e+00</td>\n",
       "      <td>3.000000e-01</td>\n",
       "      <td>1.980000e+01</td>\n",
       "      <td>2.500000e+00</td>\n",
       "    </tr>\n",
       "    <tr>\n",
       "      <th>max</th>\n",
       "      <td>6.000000e+00</td>\n",
       "      <td>9.000000e+00</td>\n",
       "      <td>3.509149e+05</td>\n",
       "      <td>9.900000e+01</td>\n",
       "      <td>2.650000e+02</td>\n",
       "      <td>2.650000e+02</td>\n",
       "      <td>5.000000e+00</td>\n",
       "      <td>9.983100e+05</td>\n",
       "      <td>5.000008e+05</td>\n",
       "      <td>5.000005e+05</td>\n",
       "      <td>1.393560e+03</td>\n",
       "      <td>9.255000e+02</td>\n",
       "      <td>3.000000e-01</td>\n",
       "      <td>1.000004e+06</td>\n",
       "      <td>3.000000e+00</td>\n",
       "    </tr>\n",
       "  </tbody>\n",
       "</table>\n",
       "</div>"
      ],
      "text/plain": [
       "           VendorID  passenger_count  trip_distance    RatecodeID  PULocationID  DOLocationID  payment_type   fare_amount         extra       mta_tax    tip_amount  tolls_amount  improvement_surcharge  total_amount  congestion_surcharge\n",
       "count  2.462862e+07     2.383849e+07   2.462862e+07  2.383849e+07  2.462862e+07  2.462862e+07  2.462862e+07  2.462862e+07  2.462862e+07  2.462862e+07  2.462862e+07  2.462862e+07           2.462862e+07  2.462862e+07          2.383849e+07\n",
       "mean   1.679106e+00     1.467979e+00   3.525521e+00  1.048556e+00  1.638896e+02  1.611976e+02  1.239321e+00  1.265831e+01  1.072686e+00  5.128094e-01  2.083705e+00  3.041013e-01           2.975546e-01  1.841622e+01          2.271175e+00\n",
       "std    4.883798e-01     1.112775e+00   3.251670e+02  7.610877e-01  6.671749e+01  7.094569e+01  5.272710e-01  2.742017e+02  1.007588e+02  1.007512e+02  2.611118e+00  1.605496e+00           3.746049e-02  3.403657e+02          7.473299e-01\n",
       "min    1.000000e+00     0.000000e+00  -3.062000e+01  1.000000e+00  1.000000e+00  1.000000e+00  0.000000e+00 -1.259000e+03 -2.700000e+01 -5.000000e-01 -4.932200e+02 -4.000000e+01          -3.000000e-01 -1.260300e+03         -2.500000e+00\n",
       "25%    1.000000e+00     1.000000e+00   9.900000e-01  1.000000e+00  1.140000e+02  1.070000e+02  1.000000e+00  6.500000e+00  0.000000e+00  5.000000e-01  0.000000e+00  0.000000e+00           3.000000e-01  1.116000e+01          2.500000e+00\n",
       "50%    2.000000e+00     1.000000e+00   1.650000e+00  1.000000e+00  1.620000e+02  1.620000e+02  1.000000e+00  9.000000e+00  5.000000e-01  5.000000e-01  1.920000e+00  0.000000e+00           3.000000e-01  1.430000e+01          2.500000e+00\n",
       "75%    2.000000e+00     1.000000e+00   3.000000e+00  1.000000e+00  2.340000e+02  2.340000e+02  2.000000e+00  1.400000e+01  2.500000e+00  5.000000e-01  2.760000e+00  0.000000e+00           3.000000e-01  1.980000e+01          2.500000e+00\n",
       "max    6.000000e+00     9.000000e+00   3.509149e+05  9.900000e+01  2.650000e+02  2.650000e+02  5.000000e+00  9.983100e+05  5.000008e+05  5.000005e+05  1.393560e+03  9.255000e+02           3.000000e-01  1.000004e+06          3.000000e+00"
      ]
     },
     "execution_count": 17,
     "metadata": {},
     "output_type": "execute_result"
    }
   ],
   "source": [
    "full_df.describe()"
   ]
  },
  {
   "cell_type": "code",
   "execution_count": 18,
   "id": "e6ea78be-0307-48a4-8e35-64a2858404ec",
   "metadata": {},
   "outputs": [],
   "source": [
    "# profile = ProfileReport(full_df, title=\"Pandas Profiling Report\")"
   ]
  },
  {
   "cell_type": "code",
   "execution_count": 19,
   "id": "27fe895c-543d-4961-b9cf-d75300aee539",
   "metadata": {},
   "outputs": [],
   "source": [
    "# profile.to_file(\"your_report.html\")"
   ]
  },
  {
   "cell_type": "code",
   "execution_count": 20,
   "id": "58737f50-5840-44dc-a712-acca00a6f8b2",
   "metadata": {},
   "outputs": [],
   "source": [
    "# profile.to_notebook_iframe()"
   ]
  },
  {
   "cell_type": "code",
   "execution_count": 21,
   "id": "ad02c95d-af55-4312-8bb7-20d2dbe94441",
   "metadata": {},
   "outputs": [
    {
     "data": {
      "text/plain": [
       "2    16598518\n",
       "1     8004691\n",
       "6       25283\n",
       "5         128\n",
       "Name: VendorID, dtype: int64"
      ]
     },
     "execution_count": 21,
     "metadata": {},
     "output_type": "execute_result"
    }
   ],
   "source": [
    "full_df['VendorID'].value_counts()"
   ]
  },
  {
   "cell_type": "code",
   "execution_count": null,
   "id": "d263776c-de2e-4064-810d-dfe3b8e685ba",
   "metadata": {},
   "outputs": [],
   "source": []
  },
  {
   "cell_type": "markdown",
   "id": "a2e1ddc8-3536-42c0-af17-6720931275af",
   "metadata": {},
   "source": [
    "## Regiones donde más suben y bajan pasajeros"
   ]
  },
  {
   "cell_type": "code",
   "execution_count": 22,
   "id": "aad07dd5-90b4-4f91-8ce4-2ec1f531072f",
   "metadata": {},
   "outputs": [],
   "source": [
    "df_pickup = pd.DataFrame(\n",
    "    full_df['PULocationID'].value_counts().reset_index().values, columns=['LocationID', 'count_pickup'])"
   ]
  },
  {
   "cell_type": "code",
   "execution_count": 23,
   "id": "9999d0a2-3e3b-4a08-a4f1-3f3002e186eb",
   "metadata": {},
   "outputs": [],
   "source": [
    "df_dropoff = pd.DataFrame(\n",
    "    full_df['DOLocationID'].value_counts().reset_index().values, columns=['LocationID', 'count_df_dropoff'])"
   ]
  },
  {
   "cell_type": "code",
   "execution_count": 24,
   "id": "17fe237b-9677-4802-8ae2-3e82734a6b31",
   "metadata": {},
   "outputs": [],
   "source": [
    "pickup_dropoff = pd.merge(df_pickup, df_dropoff, on='LocationID', how='inner')"
   ]
  },
  {
   "cell_type": "code",
   "execution_count": 25,
   "id": "38ff2608-ad53-4b2c-b9b6-5681e3bf9aa9",
   "metadata": {},
   "outputs": [],
   "source": [
    "pickup_dropoff['total'] = pickup_dropoff['count_pickup'] + pickup_dropoff['count_pickup']"
   ]
  },
  {
   "cell_type": "code",
   "execution_count": 26,
   "id": "5ad37487-5b90-493d-956b-c9419a82695f",
   "metadata": {},
   "outputs": [],
   "source": [
    "df_geom_ny = pd.read_csv('data/taxi_zones.csv')"
   ]
  },
  {
   "cell_type": "code",
   "execution_count": null,
   "id": "7deea8ee-2656-45c8-81e7-feb10cbf4194",
   "metadata": {},
   "outputs": [],
   "source": []
  },
  {
   "cell_type": "code",
   "execution_count": 27,
   "id": "a6ff9282-1405-47d5-9203-a95014f47be3",
   "metadata": {},
   "outputs": [],
   "source": [
    "pickup_dropoff = pd.merge(pickup_dropoff, df_geom_ny, on='LocationID', how='inner')"
   ]
  },
  {
   "cell_type": "code",
   "execution_count": null,
   "id": "342c3498-ec8b-4f52-8ba1-2d8c370e56b0",
   "metadata": {},
   "outputs": [],
   "source": []
  },
  {
   "cell_type": "code",
   "execution_count": 28,
   "id": "83c5bd8f-a9b4-4cdc-bcd2-683f1cda0485",
   "metadata": {},
   "outputs": [
    {
     "data": {
      "text/html": [
       "<div>\n",
       "<style scoped>\n",
       "    .dataframe tbody tr th:only-of-type {\n",
       "        vertical-align: middle;\n",
       "    }\n",
       "\n",
       "    .dataframe tbody tr th {\n",
       "        vertical-align: top;\n",
       "    }\n",
       "\n",
       "    .dataframe thead th {\n",
       "        text-align: right;\n",
       "    }\n",
       "</style>\n",
       "<table border=\"1\" class=\"dataframe\">\n",
       "  <thead>\n",
       "    <tr style=\"text-align: right;\">\n",
       "      <th></th>\n",
       "      <th>LocationID</th>\n",
       "      <th>count_pickup</th>\n",
       "      <th>count_df_dropoff</th>\n",
       "      <th>total</th>\n",
       "      <th>zone</th>\n",
       "      <th>borough</th>\n",
       "      <th>the_geom</th>\n",
       "    </tr>\n",
       "  </thead>\n",
       "  <tbody>\n",
       "    <tr>\n",
       "      <th>0</th>\n",
       "      <td>237</td>\n",
       "      <td>1145392</td>\n",
       "      <td>1015417</td>\n",
       "      <td>2290784</td>\n",
       "      <td>Upper East Side South</td>\n",
       "      <td>Manhattan</td>\n",
       "      <td>MULTIPOLYGON (((-73.96612747299989 40.76217929...</td>\n",
       "    </tr>\n",
       "    <tr>\n",
       "      <th>1</th>\n",
       "      <td>236</td>\n",
       "      <td>1089568</td>\n",
       "      <td>1126305</td>\n",
       "      <td>2179136</td>\n",
       "      <td>Upper East Side North</td>\n",
       "      <td>Manhattan</td>\n",
       "      <td>MULTIPOLYGON (((-73.95779380499984 40.77359989...</td>\n",
       "    </tr>\n",
       "    <tr>\n",
       "      <th>2</th>\n",
       "      <td>161</td>\n",
       "      <td>946842</td>\n",
       "      <td>843669</td>\n",
       "      <td>1893684</td>\n",
       "      <td>Midtown Center</td>\n",
       "      <td>Manhattan</td>\n",
       "      <td>MULTIPOLYGON (((-73.97534377999993 40.75529969...</td>\n",
       "    </tr>\n",
       "    <tr>\n",
       "      <th>3</th>\n",
       "      <td>186</td>\n",
       "      <td>862304</td>\n",
       "      <td>553392</td>\n",
       "      <td>1724608</td>\n",
       "      <td>Penn Station/Madison Sq West</td>\n",
       "      <td>Manhattan</td>\n",
       "      <td>MULTIPOLYGON (((-73.99096832799995 40.74542088...</td>\n",
       "    </tr>\n",
       "    <tr>\n",
       "      <th>4</th>\n",
       "      <td>162</td>\n",
       "      <td>831580</td>\n",
       "      <td>666125</td>\n",
       "      <td>1663160</td>\n",
       "      <td>Midtown East</td>\n",
       "      <td>Manhattan</td>\n",
       "      <td>MULTIPOLYGON (((-73.9712170449999 40.755193323...</td>\n",
       "    </tr>\n",
       "  </tbody>\n",
       "</table>\n",
       "</div>"
      ],
      "text/plain": [
       "   LocationID  count_pickup  count_df_dropoff    total                          zone    borough                                           the_geom\n",
       "0         237       1145392           1015417  2290784         Upper East Side South  Manhattan  MULTIPOLYGON (((-73.96612747299989 40.76217929...\n",
       "1         236       1089568           1126305  2179136         Upper East Side North  Manhattan  MULTIPOLYGON (((-73.95779380499984 40.77359989...\n",
       "2         161        946842            843669  1893684                Midtown Center  Manhattan  MULTIPOLYGON (((-73.97534377999993 40.75529969...\n",
       "3         186        862304            553392  1724608  Penn Station/Madison Sq West  Manhattan  MULTIPOLYGON (((-73.99096832799995 40.74542088...\n",
       "4         162        831580            666125  1663160                  Midtown East  Manhattan  MULTIPOLYGON (((-73.9712170449999 40.755193323..."
      ]
     },
     "execution_count": 28,
     "metadata": {},
     "output_type": "execute_result"
    }
   ],
   "source": [
    "pickup_dropoff[[\n",
    "    'LocationID', 'count_pickup', 'count_df_dropoff', 'total', 'zone', 'borough', 'the_geom']].head()"
   ]
  },
  {
   "cell_type": "code",
   "execution_count": 29,
   "id": "b51849e2-0c66-44ee-b474-cbaf5c030f63",
   "metadata": {},
   "outputs": [],
   "source": [
    "# Map create\n",
    "# https://medium.com/analytics-vidhya/mapping-indonesias-village-border-with-plotly-from-long-lat-coordinates-to-wkt-strings-975fd002326e"
   ]
  },
  {
   "cell_type": "code",
   "execution_count": 30,
   "id": "c2cca05f-09d9-4298-83e9-463495966f6e",
   "metadata": {},
   "outputs": [],
   "source": [
    "pickup_dropoff['geometry'] = gpd.GeoSeries.from_wkt(pickup_dropoff['the_geom'])"
   ]
  },
  {
   "cell_type": "code",
   "execution_count": 31,
   "id": "7a6c10dd-8a1b-42b3-9c26-a797c86c2d9e",
   "metadata": {},
   "outputs": [],
   "source": [
    "pickup_dropoff = gpd.GeoDataFrame(pickup_dropoff)"
   ]
  },
  {
   "cell_type": "code",
   "execution_count": 32,
   "id": "c386f1e4-224a-4998-883f-6636e81670fd",
   "metadata": {},
   "outputs": [
    {
     "data": {
      "text/html": [
       "<div>\n",
       "<style scoped>\n",
       "    .dataframe tbody tr th:only-of-type {\n",
       "        vertical-align: middle;\n",
       "    }\n",
       "\n",
       "    .dataframe tbody tr th {\n",
       "        vertical-align: top;\n",
       "    }\n",
       "\n",
       "    .dataframe thead th {\n",
       "        text-align: right;\n",
       "    }\n",
       "</style>\n",
       "<table border=\"1\" class=\"dataframe\">\n",
       "  <thead>\n",
       "    <tr style=\"text-align: right;\">\n",
       "      <th></th>\n",
       "      <th>LocationID</th>\n",
       "      <th>count_pickup</th>\n",
       "      <th>count_df_dropoff</th>\n",
       "      <th>total</th>\n",
       "      <th>OBJECTID</th>\n",
       "      <th>Shape_Leng</th>\n",
       "      <th>the_geom</th>\n",
       "      <th>Shape_Area</th>\n",
       "      <th>zone</th>\n",
       "      <th>borough</th>\n",
       "      <th>geometry</th>\n",
       "    </tr>\n",
       "  </thead>\n",
       "  <tbody>\n",
       "    <tr>\n",
       "      <th>254</th>\n",
       "      <td>176</td>\n",
       "      <td>29</td>\n",
       "      <td>236</td>\n",
       "      <td>58</td>\n",
       "      <td>176</td>\n",
       "      <td>0.151995</td>\n",
       "      <td>MULTIPOLYGON (((-74.12187198599999 40.57510757...</td>\n",
       "      <td>0.000658</td>\n",
       "      <td>Oakwood</td>\n",
       "      <td>Staten Island</td>\n",
       "      <td>MULTIPOLYGON (((-74.12187 40.57511, -74.12187 ...</td>\n",
       "    </tr>\n",
       "    <tr>\n",
       "      <th>255</th>\n",
       "      <td>111</td>\n",
       "      <td>26</td>\n",
       "      <td>317</td>\n",
       "      <td>52</td>\n",
       "      <td>111</td>\n",
       "      <td>0.059931</td>\n",
       "      <td>MULTIPOLYGON (((-73.99516890099986 40.65966952...</td>\n",
       "      <td>0.000209</td>\n",
       "      <td>Green-Wood Cemetery</td>\n",
       "      <td>Brooklyn</td>\n",
       "      <td>MULTIPOLYGON (((-73.99517 40.65967, -73.99296 ...</td>\n",
       "    </tr>\n",
       "    <tr>\n",
       "      <th>256</th>\n",
       "      <td>2</td>\n",
       "      <td>25</td>\n",
       "      <td>45</td>\n",
       "      <td>50</td>\n",
       "      <td>2</td>\n",
       "      <td>0.433470</td>\n",
       "      <td>MULTIPOLYGON (((-73.82337597260663 40.63898704...</td>\n",
       "      <td>0.004866</td>\n",
       "      <td>Jamaica Bay</td>\n",
       "      <td>Queens</td>\n",
       "      <td>MULTIPOLYGON (((-73.82338 40.63899, -73.82277 ...</td>\n",
       "    </tr>\n",
       "    <tr>\n",
       "      <th>257</th>\n",
       "      <td>30</td>\n",
       "      <td>20</td>\n",
       "      <td>163</td>\n",
       "      <td>40</td>\n",
       "      <td>30</td>\n",
       "      <td>0.094510</td>\n",
       "      <td>MULTIPOLYGON (((-73.82075892499992 40.61523267...</td>\n",
       "      <td>0.000146</td>\n",
       "      <td>Broad Channel</td>\n",
       "      <td>Queens</td>\n",
       "      <td>MULTIPOLYGON (((-73.82076 40.61523, -73.81769 ...</td>\n",
       "    </tr>\n",
       "    <tr>\n",
       "      <th>258</th>\n",
       "      <td>199</td>\n",
       "      <td>11</td>\n",
       "      <td>2</td>\n",
       "      <td>22</td>\n",
       "      <td>199</td>\n",
       "      <td>0.077809</td>\n",
       "      <td>MULTIPOLYGON (((-73.88885148496313 40.79870632...</td>\n",
       "      <td>0.000289</td>\n",
       "      <td>Rikers Island</td>\n",
       "      <td>Bronx</td>\n",
       "      <td>MULTIPOLYGON (((-73.88885 40.79871, -73.88860 ...</td>\n",
       "    </tr>\n",
       "  </tbody>\n",
       "</table>\n",
       "</div>"
      ],
      "text/plain": [
       "     LocationID  count_pickup  count_df_dropoff  total  OBJECTID  Shape_Leng                                           the_geom  Shape_Area                 zone        borough                                           geometry\n",
       "254         176            29               236     58       176    0.151995  MULTIPOLYGON (((-74.12187198599999 40.57510757...    0.000658              Oakwood  Staten Island  MULTIPOLYGON (((-74.12187 40.57511, -74.12187 ...\n",
       "255         111            26               317     52       111    0.059931  MULTIPOLYGON (((-73.99516890099986 40.65966952...    0.000209  Green-Wood Cemetery       Brooklyn  MULTIPOLYGON (((-73.99517 40.65967, -73.99296 ...\n",
       "256           2            25                45     50         2    0.433470  MULTIPOLYGON (((-73.82337597260663 40.63898704...    0.004866          Jamaica Bay         Queens  MULTIPOLYGON (((-73.82338 40.63899, -73.82277 ...\n",
       "257          30            20               163     40        30    0.094510  MULTIPOLYGON (((-73.82075892499992 40.61523267...    0.000146        Broad Channel         Queens  MULTIPOLYGON (((-73.82076 40.61523, -73.81769 ...\n",
       "258         199            11                 2     22       199    0.077809  MULTIPOLYGON (((-73.88885148496313 40.79870632...    0.000289        Rikers Island          Bronx  MULTIPOLYGON (((-73.88885 40.79871, -73.88860 ..."
      ]
     },
     "execution_count": 32,
     "metadata": {},
     "output_type": "execute_result"
    }
   ],
   "source": [
    "pickup_dropoff.tail()"
   ]
  },
  {
   "cell_type": "code",
   "execution_count": 33,
   "id": "7c368c4a-7816-47cc-a9bf-6c3187611dbf",
   "metadata": {},
   "outputs": [
    {
     "data": {
      "text/plain": [
       "(-74.28337047811293, -73.67222994897456, 40.47514452607875, 40.936503646094195)"
      ]
     },
     "execution_count": 33,
     "metadata": {},
     "output_type": "execute_result"
    },
    {
     "data": {
      "image/png": "[encoded data removed]",
      "text/plain": [
       "<Figure size 720x1440 with 2 Axes>"
      ]
     },
     "metadata": {
      "needs_background": "light"
     },
     "output_type": "display_data"
    }
   ],
   "source": [
    "fig, ax = plt.subplots(1,1, figsize=(10,20))\n",
    "divider = make_axes_locatable(ax)\n",
    "tmpx = pickup_dropoff.copy()\n",
    "\n",
    "#To display values\n",
    "tmpx['total'] = tmpx['total'] \n",
    "\n",
    "#resize the colorbar\n",
    "cax = divider.append_axes(\"left\", size=\"3%\", pad=0) \n",
    "tmpx.plot(column='total', ax=ax,cax=cax,  legend=True, \n",
    "         legend_kwds={'label': \"Quantity pickups and dropoff\"})\n",
    "\n",
    "#Add some borders to the geometries\n",
    "tmpx['geometry'].boundary.plot(color='#BABABA', ax=ax, linewidth=0.3) \n",
    "ax.axis('off')"
   ]
  },
  {
   "cell_type": "code",
   "execution_count": null,
   "id": "5ced70ec-21b6-4cb3-9411-84bc4d9d7c32",
   "metadata": {},
   "outputs": [],
   "source": []
  },
  {
   "cell_type": "markdown",
   "id": "1431824f-d5d4-42cf-aa49-9323cd1493ce",
   "metadata": {
    "tags": []
   },
   "source": [
    "# Cuales son las horas y dias pico"
   ]
  },
  {
   "cell_type": "code",
   "execution_count": 34,
   "id": "6bd52550-4590-4c8b-898a-8e9ed0607b72",
   "metadata": {},
   "outputs": [],
   "source": [
    "full_df['pickup_hour'] = full_df['tpep_pickup_datetime'].map(lambda x: x.hour)\n",
    "full_df['dropoff_hour'] = full_df['tpep_dropoff_datetime'].map(lambda x: x.hour)"
   ]
  },
  {
   "cell_type": "code",
   "execution_count": 35,
   "id": "985cafd9-4f1e-4a77-92d7-f0fdbc9f081b",
   "metadata": {},
   "outputs": [],
   "source": [
    "df_pickup_hour = pd.DataFrame(\n",
    "    full_df['pickup_hour'].value_counts().reset_index().values, columns=['hour', 'count_pickup'])"
   ]
  },
  {
   "cell_type": "code",
   "execution_count": 36,
   "id": "3942aa0f-a604-4f6a-a2dc-2729127a00ca",
   "metadata": {},
   "outputs": [],
   "source": [
    "df_dropoff_hour = pd.DataFrame(\n",
    "    full_df['dropoff_hour'].value_counts().reset_index().values, columns=['hour', 'count_dropoff'])"
   ]
  },
  {
   "cell_type": "code",
   "execution_count": 37,
   "id": "ac1252f8-177e-42e4-8e0e-faae79efdcfa",
   "metadata": {},
   "outputs": [],
   "source": [
    "df_hour = pd.merge(df_pickup_hour, df_dropoff_hour, on='hour', how='inner')"
   ]
  },
  {
   "cell_type": "code",
   "execution_count": 38,
   "id": "e214c9d5-46eb-4037-8ff9-80f8638e5793",
   "metadata": {},
   "outputs": [],
   "source": [
    "df_hour = df_hour.sort_values(by='hour').set_index('hour')"
   ]
  },
  {
   "cell_type": "code",
   "execution_count": 39,
   "id": "ad78d714-14a2-47ba-867a-b8f299ffc93f",
   "metadata": {},
   "outputs": [
    {
     "data": {
      "text/html": [
       "<div>\n",
       "<style scoped>\n",
       "    .dataframe tbody tr th:only-of-type {\n",
       "        vertical-align: middle;\n",
       "    }\n",
       "\n",
       "    .dataframe tbody tr th {\n",
       "        vertical-align: top;\n",
       "    }\n",
       "\n",
       "    .dataframe thead th {\n",
       "        text-align: right;\n",
       "    }\n",
       "</style>\n",
       "<table border=\"1\" class=\"dataframe\">\n",
       "  <thead>\n",
       "    <tr style=\"text-align: right;\">\n",
       "      <th></th>\n",
       "      <th>count_pickup</th>\n",
       "      <th>count_dropoff</th>\n",
       "    </tr>\n",
       "    <tr>\n",
       "      <th>hour</th>\n",
       "      <th></th>\n",
       "      <th></th>\n",
       "    </tr>\n",
       "  </thead>\n",
       "  <tbody>\n",
       "    <tr>\n",
       "      <th>0</th>\n",
       "      <td>537662</td>\n",
       "      <td>588399</td>\n",
       "    </tr>\n",
       "    <tr>\n",
       "      <th>1</th>\n",
       "      <td>372349</td>\n",
       "      <td>400944</td>\n",
       "    </tr>\n",
       "    <tr>\n",
       "      <th>2</th>\n",
       "      <td>253285</td>\n",
       "      <td>272467</td>\n",
       "    </tr>\n",
       "    <tr>\n",
       "      <th>3</th>\n",
       "      <td>189600</td>\n",
       "      <td>197187</td>\n",
       "    </tr>\n",
       "    <tr>\n",
       "      <th>4</th>\n",
       "      <td>161326</td>\n",
       "      <td>164903</td>\n",
       "    </tr>\n",
       "  </tbody>\n",
       "</table>\n",
       "</div>"
      ],
      "text/plain": [
       "      count_pickup  count_dropoff\n",
       "hour                             \n",
       "0           537662         588399\n",
       "1           372349         400944\n",
       "2           253285         272467\n",
       "3           189600         197187\n",
       "4           161326         164903"
      ]
     },
     "execution_count": 39,
     "metadata": {},
     "output_type": "execute_result"
    }
   ],
   "source": [
    "df_hour.head()"
   ]
  },
  {
   "cell_type": "code",
   "execution_count": null,
   "id": "4abcd9dc-7b3c-4782-b18c-f842a10047b4",
   "metadata": {},
   "outputs": [],
   "source": []
  },
  {
   "cell_type": "code",
   "execution_count": 40,
   "id": "66ea4883-98b7-4345-9ef9-b273041689bc",
   "metadata": {},
   "outputs": [
    {
     "data": {
      "image/png": "[encoded data removed]",
      "text/plain": [
       "<Figure size 864x360 with 2 Axes>"
      ]
     },
     "metadata": {
      "needs_background": "light"
     },
     "output_type": "display_data"
    }
   ],
   "source": [
    "plt.figure(figsize=(12,5))\n",
    "plt.xlabel('hour')\n",
    "\n",
    "ax1 = df_hour.count_pickup.plot(color='blue', grid=True, label='count_pickup')\n",
    "ax2 = df_hour.count_dropoff.plot(color='red', grid=True, secondary_y=True, label='count_dropoff')\n",
    "\n",
    "h1, l1 = ax1.get_legend_handles_labels()\n",
    "h2, l2 = ax2.get_legend_handles_labels()\n",
    "\n",
    "\n",
    "plt.legend(h1+h2, l1+l2, loc=2)\n",
    "plt.show()"
   ]
  },
  {
   "cell_type": "code",
   "execution_count": null,
   "id": "e1136969-fd23-4e33-bf55-e971414243ca",
   "metadata": {},
   "outputs": [],
   "source": []
  },
  {
   "cell_type": "code",
   "execution_count": 41,
   "id": "0de93857-a5ac-4d2e-9b8c-02c8619d4ba5",
   "metadata": {},
   "outputs": [],
   "source": [
    "full_df['pickup_day'] = full_df['tpep_pickup_datetime'].map(lambda x: x.day)\n",
    "full_df['dropoff_day'] = full_df['tpep_dropoff_datetime'].map(lambda x: x.day)"
   ]
  },
  {
   "cell_type": "code",
   "execution_count": 42,
   "id": "222a1983-1ef3-48b4-ab32-12f967ffd615",
   "metadata": {},
   "outputs": [],
   "source": [
    "df_pickup_day = pd.DataFrame(\n",
    "    full_df['pickup_day'].value_counts().reset_index().values, columns=['day', 'count_pickup'])"
   ]
  },
  {
   "cell_type": "code",
   "execution_count": 43,
   "id": "b0c76949-3395-4a11-b6bb-80fbefb5690e",
   "metadata": {},
   "outputs": [],
   "source": [
    "df_dropoff_day = pd.DataFrame(\n",
    "    full_df['dropoff_day'].value_counts().reset_index().values, columns=['day', 'count_dropoff'])"
   ]
  },
  {
   "cell_type": "code",
   "execution_count": 44,
   "id": "19ebe980-4d9f-43ba-9fa5-fbb690c9fde6",
   "metadata": {},
   "outputs": [],
   "source": [
    "df_day = pd.merge(df_pickup_day, df_dropoff_day, on='day', how='inner')"
   ]
  },
  {
   "cell_type": "code",
   "execution_count": 45,
   "id": "0a7bc935-0b80-45fc-b5d3-cc262e5d0d5b",
   "metadata": {},
   "outputs": [],
   "source": [
    "df_day = df_day.sort_values(by='day').set_index('day')"
   ]
  },
  {
   "cell_type": "code",
   "execution_count": 46,
   "id": "45ade0ef-c39e-480e-b406-f8ebfdd7e379",
   "metadata": {},
   "outputs": [
    {
     "data": {
      "image/png": "[encoded data removed]",
      "text/plain": [
       "<Figure size 864x360 with 2 Axes>"
      ]
     },
     "metadata": {
      "needs_background": "light"
     },
     "output_type": "display_data"
    }
   ],
   "source": [
    "plt.figure(figsize=(12,5))\n",
    "plt.xlabel('day')\n",
    "\n",
    "ax1 = df_day.count_pickup.plot(color='blue', grid=True, label='count_pickup')\n",
    "ax2 = df_day.count_dropoff.plot(color='red', grid=True, secondary_y=True, label='count_dropoff')\n",
    "\n",
    "h1, l1 = ax1.get_legend_handles_labels()\n",
    "h2, l2 = ax2.get_legend_handles_labels()\n",
    "\n",
    "\n",
    "plt.legend(h1+h2, l1+l2, loc=2)\n",
    "plt.show()"
   ]
  },
  {
   "cell_type": "code",
   "execution_count": null,
   "id": "76982ef8-8b16-42e8-bcea-2cfee9bdceb4",
   "metadata": {},
   "outputs": [],
   "source": []
  },
  {
   "cell_type": "code",
   "execution_count": 47,
   "id": "3a805e1d-8bfa-44bb-9be8-4c6e6873d067",
   "metadata": {},
   "outputs": [],
   "source": [
    "full_df['pickup_date'] = full_df['tpep_pickup_datetime'].dt.date\n",
    "full_df['dropoff_date'] = full_df['tpep_dropoff_datetime'].dt.date"
   ]
  },
  {
   "cell_type": "code",
   "execution_count": 48,
   "id": "55584d77-ba93-46a8-bece-81b21a05bd16",
   "metadata": {},
   "outputs": [
    {
     "data": {
      "text/plain": [
       "Timestamp('2020-01-01 00:00:00')"
      ]
     },
     "execution_count": 48,
     "metadata": {},
     "output_type": "execute_result"
    }
   ],
   "source": [
    "full_df['tpep_pickup_datetime'].min()"
   ]
  },
  {
   "cell_type": "code",
   "execution_count": 49,
   "id": "ba5c6d95-f23b-45c3-9c0c-11aa9a4d0a2d",
   "metadata": {},
   "outputs": [
    {
     "data": {
      "text/plain": [
       "Timestamp('2020-12-31 23:55:34')"
      ]
     },
     "execution_count": 49,
     "metadata": {},
     "output_type": "execute_result"
    }
   ],
   "source": [
    "full_df['tpep_pickup_datetime'].max()"
   ]
  },
  {
   "cell_type": "code",
   "execution_count": 50,
   "id": "3364a7c0-e433-4140-af14-8f9b173ac9e3",
   "metadata": {},
   "outputs": [],
   "source": [
    "df_pickup_date = pd.DataFrame(\n",
    "    full_df['pickup_date'].value_counts().reset_index().values, columns=['date', 'count_pickup'])"
   ]
  },
  {
   "cell_type": "code",
   "execution_count": 51,
   "id": "a2394b31-d9a3-45b9-afcf-7be3a777b8e5",
   "metadata": {},
   "outputs": [],
   "source": [
    "df_dropoff_date = pd.DataFrame(\n",
    "    full_df['dropoff_date'].value_counts().reset_index().values, columns=['date', 'count_dropoff'])"
   ]
  },
  {
   "cell_type": "code",
   "execution_count": 52,
   "id": "f98c9b8d-eaf5-4be5-a318-e05996a83a08",
   "metadata": {},
   "outputs": [],
   "source": [
    "df_date = pd.merge(df_pickup_date, df_dropoff_date, on='date', how='inner')"
   ]
  },
  {
   "cell_type": "code",
   "execution_count": 53,
   "id": "82180a95-9d29-4d99-9c65-65a0bbf6393c",
   "metadata": {},
   "outputs": [],
   "source": [
    "df_date = df_date.sort_values(by='date').set_index('date')"
   ]
  },
  {
   "cell_type": "code",
   "execution_count": 54,
   "id": "f3ca4fae-3290-42cd-8281-be65df83bc1f",
   "metadata": {},
   "outputs": [
    {
     "data": {
      "image/png": "[encoded data removed]",
      "text/plain": [
       "<Figure size 864x360 with 2 Axes>"
      ]
     },
     "metadata": {
      "needs_background": "light"
     },
     "output_type": "display_data"
    }
   ],
   "source": [
    "plt.figure(figsize=(12,5))\n",
    "plt.xlabel('date')\n",
    "\n",
    "ax1 = df_date.count_pickup.plot(color='blue', grid=True, label='count_pickup')\n",
    "ax2 = df_date.count_dropoff.plot(color='red', grid=True, secondary_y=True, label='count_dropoff')\n",
    "\n",
    "h1, l1 = ax1.get_legend_handles_labels()\n",
    "h2, l2 = ax2.get_legend_handles_labels()\n",
    "\n",
    "\n",
    "plt.legend(h1+h2, l1+l2, loc=2)\n",
    "plt.show()"
   ]
  },
  {
   "cell_type": "code",
   "execution_count": null,
   "id": "07408612-400d-48da-9de6-7e0b95f17373",
   "metadata": {},
   "outputs": [],
   "source": []
  },
  {
   "cell_type": "markdown",
   "id": "f1de86c4-8dcd-486b-8e24-2e3be1abdbe0",
   "metadata": {},
   "source": [
    "# Missings"
   ]
  },
  {
   "cell_type": "code",
   "execution_count": 55,
   "id": "7b1f1bba-5dbb-46b8-ad31-f45531a165e0",
   "metadata": {},
   "outputs": [
    {
     "data": {
      "text/plain": [
       "1.0    17510926\n",
       "2.0     3349053\n",
       "3.0      872626\n",
       "         790134\n",
       "5.0      751700\n",
       "0.0      489380\n",
       "6.0      474515\n",
       "4.0      390086\n",
       "7.0          91\n",
       "8.0          58\n",
       "9.0          51\n",
       "Name: passenger_count, dtype: int64"
      ]
     },
     "execution_count": 55,
     "metadata": {},
     "output_type": "execute_result"
    }
   ],
   "source": [
    "full_df['passenger_count'].fillna('').value_counts()"
   ]
  },
  {
   "cell_type": "code",
   "execution_count": null,
   "id": "7b47cec2-a69d-46fc-b69b-745d607b64ac",
   "metadata": {},
   "outputs": [],
   "source": []
  },
  {
   "cell_type": "code",
   "execution_count": 56,
   "id": "8a58db45-7fd8-4bae-bdf4-e2871580deda",
   "metadata": {},
   "outputs": [
    {
     "data": {
      "text/plain": [
       "0    1.0\n",
       "dtype: float64"
      ]
     },
     "execution_count": 56,
     "metadata": {},
     "output_type": "execute_result"
    }
   ],
   "source": [
    "full_df['passenger_count'].mode()"
   ]
  },
  {
   "cell_type": "code",
   "execution_count": 57,
   "id": "3933e352-6f55-4d50-969e-e1ac082282f2",
   "metadata": {},
   "outputs": [
    {
     "data": {
      "text/plain": [
       "1.0     23231050\n",
       "          790134\n",
       "2.0       428154\n",
       "5.0       119953\n",
       "3.0        39437\n",
       "4.0        18577\n",
       "99.0        1165\n",
       "6.0          150\n",
       "Name: RatecodeID, dtype: int64"
      ]
     },
     "execution_count": 57,
     "metadata": {},
     "output_type": "execute_result"
    }
   ],
   "source": [
    "full_df['RatecodeID'].fillna('').value_counts()"
   ]
  },
  {
   "cell_type": "code",
   "execution_count": 58,
   "id": "e2feece0-e90c-4014-92e2-2c5e0a7cf1bc",
   "metadata": {},
   "outputs": [
    {
     "data": {
      "text/plain": [
       "N    23593154\n",
       "       790134\n",
       "Y      245332\n",
       "Name: store_and_fwd_flag, dtype: int64"
      ]
     },
     "execution_count": 58,
     "metadata": {},
     "output_type": "execute_result"
    }
   ],
   "source": [
    "full_df['store_and_fwd_flag'].fillna('').value_counts()"
   ]
  },
  {
   "cell_type": "code",
   "execution_count": 59,
   "id": "3df08005-5881-480a-af30-29fbc3e0b870",
   "metadata": {},
   "outputs": [
    {
     "data": {
      "text/plain": [
       "2.5      21730357\n",
       "0.0       2033811\n",
       "           790134\n",
       "-2.5        74006\n",
       "0.75          160\n",
       "2.75          134\n",
       "0.5             5\n",
       "1.0             4\n",
       "-0.75           4\n",
       "1.5             2\n",
       "3.0             1\n",
       "2.0             1\n",
       "0.8             1\n",
       "Name: congestion_surcharge, dtype: int64"
      ]
     },
     "execution_count": 59,
     "metadata": {},
     "output_type": "execute_result"
    }
   ],
   "source": [
    "full_df['congestion_surcharge'].fillna('').value_counts()"
   ]
  },
  {
   "cell_type": "code",
   "execution_count": 60,
   "id": "29f7958d-0acf-474d-bdaf-455295a07a9a",
   "metadata": {},
   "outputs": [
    {
     "data": {
      "text/plain": [
       "2.271175203827961"
      ]
     },
     "execution_count": 60,
     "metadata": {},
     "output_type": "execute_result"
    }
   ],
   "source": [
    "full_df['congestion_surcharge'].mean()"
   ]
  },
  {
   "cell_type": "markdown",
   "id": "8332dc31-481c-4637-90bf-4bc7bc52b624",
   "metadata": {},
   "source": [
    "### airport_fee"
   ]
  },
  {
   "cell_type": "code",
   "execution_count": 61,
   "id": "e1f8496b-350b-4cc3-b645-aec6a0b8cd45",
   "metadata": {},
   "outputs": [
    {
     "data": {
      "text/plain": [
       "       24628599\n",
       "0.0          21\n",
       "Name: airport_fee, dtype: int64"
      ]
     },
     "execution_count": 61,
     "metadata": {},
     "output_type": "execute_result"
    }
   ],
   "source": [
    "full_df['airport_fee'].fillna('').value_counts()"
   ]
  },
  {
   "cell_type": "code",
   "execution_count": 62,
   "id": "fef686ab-4dfb-4b4d-ab01-d17db01d307a",
   "metadata": {},
   "outputs": [
    {
     "data": {
      "text/html": [
       "<div>\n",
       "<style scoped>\n",
       "    .dataframe tbody tr th:only-of-type {\n",
       "        vertical-align: middle;\n",
       "    }\n",
       "\n",
       "    .dataframe tbody tr th {\n",
       "        vertical-align: top;\n",
       "    }\n",
       "\n",
       "    .dataframe thead th {\n",
       "        text-align: right;\n",
       "    }\n",
       "</style>\n",
       "<table border=\"1\" class=\"dataframe\">\n",
       "  <thead>\n",
       "    <tr style=\"text-align: right;\">\n",
       "      <th></th>\n",
       "      <th>OBJECTID</th>\n",
       "      <th>Shape_Leng</th>\n",
       "      <th>the_geom</th>\n",
       "      <th>Shape_Area</th>\n",
       "      <th>zone</th>\n",
       "      <th>LocationID</th>\n",
       "      <th>borough</th>\n",
       "    </tr>\n",
       "  </thead>\n",
       "  <tbody>\n",
       "    <tr>\n",
       "      <th>0</th>\n",
       "      <td>1</td>\n",
       "      <td>0.116357</td>\n",
       "      <td>MULTIPOLYGON (((-74.18445299999996 40.69499599...</td>\n",
       "      <td>0.000782</td>\n",
       "      <td>Newark Airport</td>\n",
       "      <td>1</td>\n",
       "      <td>EWR</td>\n",
       "    </tr>\n",
       "    <tr>\n",
       "      <th>136</th>\n",
       "      <td>132</td>\n",
       "      <td>0.245479</td>\n",
       "      <td>MULTIPOLYGON (((-73.8250346749999 40.663580133...</td>\n",
       "      <td>0.002038</td>\n",
       "      <td>JFK Airport</td>\n",
       "      <td>132</td>\n",
       "      <td>Queens</td>\n",
       "    </tr>\n",
       "    <tr>\n",
       "      <th>145</th>\n",
       "      <td>138</td>\n",
       "      <td>0.107467</td>\n",
       "      <td>MULTIPOLYGON (((-73.8712485624251 40.786038151...</td>\n",
       "      <td>0.000537</td>\n",
       "      <td>LaGuardia Airport</td>\n",
       "      <td>138</td>\n",
       "      <td>Queens</td>\n",
       "    </tr>\n",
       "  </tbody>\n",
       "</table>\n",
       "</div>"
      ],
      "text/plain": [
       "     OBJECTID  Shape_Leng                                           the_geom  Shape_Area               zone  LocationID borough\n",
       "0           1    0.116357  MULTIPOLYGON (((-74.18445299999996 40.69499599...    0.000782     Newark Airport           1     EWR\n",
       "136       132    0.245479  MULTIPOLYGON (((-73.8250346749999 40.663580133...    0.002038        JFK Airport         132  Queens\n",
       "145       138    0.107467  MULTIPOLYGON (((-73.8712485624251 40.786038151...    0.000537  LaGuardia Airport         138  Queens"
      ]
     },
     "execution_count": 62,
     "metadata": {},
     "output_type": "execute_result"
    }
   ],
   "source": [
    "df_geom_ny[df_geom_ny['zone'].str.contains('Airport')]"
   ]
  },
  {
   "cell_type": "code",
   "execution_count": 63,
   "id": "8c20751f-c626-40b3-8e26-cbb8bed2c0f2",
   "metadata": {},
   "outputs": [],
   "source": [
    "full_df.loc[(full_df['PULocationID'].isin([1, 132, 138])), 'airport_fee'] = 1"
   ]
  },
  {
   "cell_type": "code",
   "execution_count": 64,
   "id": "ffc59932-989b-40f5-bd51-cd5147d2246a",
   "metadata": {},
   "outputs": [],
   "source": [
    "full_df.loc[full_df['RatecodeID'] == 2, 'airport_fee'] = 1"
   ]
  },
  {
   "cell_type": "code",
   "execution_count": 65,
   "id": "78db61da-8a98-4290-b6b6-ddf84d5a71cd",
   "metadata": {},
   "outputs": [],
   "source": [
    "full_df['airport_fee'].fillna(0, inplace=True)"
   ]
  },
  {
   "cell_type": "code",
   "execution_count": 66,
   "id": "b974cf74-4120-48dd-9c49-4420dd73179a",
   "metadata": {},
   "outputs": [
    {
     "data": {
      "text/plain": [
       "0.0    23409675\n",
       "1.0     1218945\n",
       "Name: airport_fee, dtype: int64"
      ]
     },
     "execution_count": 66,
     "metadata": {},
     "output_type": "execute_result"
    }
   ],
   "source": [
    "full_df['airport_fee'].fillna('').value_counts()"
   ]
  },
  {
   "cell_type": "code",
   "execution_count": null,
   "id": "81e5ca10-e746-4357-bc2b-5e068c4dcf26",
   "metadata": {},
   "outputs": [],
   "source": []
  },
  {
   "cell_type": "markdown",
   "id": "ced1a655-2912-4f33-b49f-4eb311407df5",
   "metadata": {},
   "source": [
    "# Trip distance"
   ]
  },
  {
   "cell_type": "code",
   "execution_count": 67,
   "id": "73bfd8a6-8f4e-419e-a4a9-62f2a81c4b2a",
   "metadata": {},
   "outputs": [
    {
     "data": {
      "text/plain": [
       "(24613383, 25)"
      ]
     },
     "execution_count": 67,
     "metadata": {},
     "output_type": "execute_result"
    }
   ],
   "source": [
    "full_df[full_df['trip_distance'] < 30].shape"
   ]
  },
  {
   "cell_type": "code",
   "execution_count": 68,
   "id": "9ccb7fc4-9153-4eb0-a942-7d7a29b66274",
   "metadata": {},
   "outputs": [
    {
     "data": {
      "text/plain": [
       "(15237, 25)"
      ]
     },
     "execution_count": 68,
     "metadata": {},
     "output_type": "execute_result"
    }
   ],
   "source": [
    "full_df[full_df['trip_distance'] >= 30].shape"
   ]
  },
  {
   "cell_type": "code",
   "execution_count": 69,
   "id": "2b387a3a-fe7a-4845-bc40-b7cc81359a6d",
   "metadata": {},
   "outputs": [
    {
     "data": {
      "text/plain": [
       "<AxesSubplot:>"
      ]
     },
     "execution_count": 69,
     "metadata": {},
     "output_type": "execute_result"
    },
    {
     "data": {
      "image/png": "[encoded data removed]",
      "text/plain": [
       "<Figure size 432x288 with 1 Axes>"
      ]
     },
     "metadata": {
      "needs_background": "light"
     },
     "output_type": "display_data"
    }
   ],
   "source": [
    "full_df['trip_distance'].hist()"
   ]
  },
  {
   "cell_type": "code",
   "execution_count": null,
   "id": "9fbdae48-eee8-43e4-9c73-acf3abc19f91",
   "metadata": {},
   "outputs": [],
   "source": []
  },
  {
   "cell_type": "code",
   "execution_count": 70,
   "id": "ac654d32-9729-4073-b8e5-5dae4202f550",
   "metadata": {},
   "outputs": [
    {
     "data": {
      "text/plain": [
       "count    2.462862e+07\n",
       "mean     3.525521e+00\n",
       "std      3.251670e+02\n",
       "min     -3.062000e+01\n",
       "25%      9.900000e-01\n",
       "50%      1.650000e+00\n",
       "75%      3.000000e+00\n",
       "max      3.509149e+05\n",
       "Name: trip_distance, dtype: float64"
      ]
     },
     "execution_count": 70,
     "metadata": {},
     "output_type": "execute_result"
    }
   ],
   "source": [
    "full_df['trip_distance'].describe()"
   ]
  },
  {
   "cell_type": "code",
   "execution_count": null,
   "id": "54e9f719-3f17-4b22-90ef-5783095ce360",
   "metadata": {},
   "outputs": [],
   "source": []
  },
  {
   "cell_type": "code",
   "execution_count": 71,
   "id": "c7d48cbd-0102-4ff4-9945-414af880bf68",
   "metadata": {},
   "outputs": [],
   "source": [
    "full_df['pickup_drop_of'] = full_df['PULocationID'].astype(str) + '_' + full_df['DOLocationID'].astype(str)"
   ]
  },
  {
   "cell_type": "code",
   "execution_count": 72,
   "id": "b926c63a-bdf8-4f6e-9f62-1d5d840a87a4",
   "metadata": {},
   "outputs": [
    {
     "data": {
      "text/plain": [
       "237_236    173169\n",
       "236_237    146998\n",
       "236_236    143236\n",
       "237_237    126756\n",
       "264_264    104218\n",
       "            ...  \n",
       "123_142         1\n",
       "101_89          1\n",
       "155_174         1\n",
       "108_212         1\n",
       "239_19          1\n",
       "Name: pickup_drop_of, Length: 48964, dtype: int64"
      ]
     },
     "execution_count": 72,
     "metadata": {},
     "output_type": "execute_result"
    }
   ],
   "source": [
    "full_df['pickup_drop_of'].value_counts()"
   ]
  },
  {
   "cell_type": "code",
   "execution_count": null,
   "id": "5c98d1c3-8180-4eb5-ad77-699dc92b3db0",
   "metadata": {},
   "outputs": [],
   "source": []
  },
  {
   "cell_type": "code",
   "execution_count": 73,
   "id": "4569ad42-7f26-4f01-8d76-75e9e8974212",
   "metadata": {},
   "outputs": [],
   "source": [
    "median_pu_do = full_df.groupby('pickup_drop_of')['trip_distance'].median().rename('median_trip_distance').reset_index()"
   ]
  },
  {
   "cell_type": "code",
   "execution_count": 74,
   "id": "ae29c4bb-2246-495b-bc92-0f1ed4961a6d",
   "metadata": {},
   "outputs": [],
   "source": [
    "full_df = pd.merge(full_df, median_pu_do, how='inner', on='pickup_drop_of')"
   ]
  },
  {
   "cell_type": "code",
   "execution_count": 75,
   "id": "6f19f7c8-b547-4c1e-ac03-695611bcf0ed",
   "metadata": {},
   "outputs": [],
   "source": [
    "full_df['trip_distance'] = full_df.apply(\n",
    "    lambda row: row.trip_distance if row.trip_distance <= 4 * row.median_trip_distance else row.median_trip_distance, axis=1)"
   ]
  },
  {
   "cell_type": "code",
   "execution_count": 76,
   "id": "cc103bf5-21c6-4a5d-b027-00fecad49d4f",
   "metadata": {},
   "outputs": [],
   "source": [
    "full_df = full_df[(full_df['trip_distance'] > 0) & (full_df['trip_distance'] < 1000)]"
   ]
  },
  {
   "cell_type": "code",
   "execution_count": 77,
   "id": "e59c9bf7-752f-4943-8310-fc885ed56d93",
   "metadata": {},
   "outputs": [
    {
     "data": {
      "text/plain": [
       "<AxesSubplot:>"
      ]
     },
     "execution_count": 77,
     "metadata": {},
     "output_type": "execute_result"
    },
    {
     "data": {
      "image/png": "[encoded data removed]",
      "text/plain": [
       "<Figure size 432x288 with 1 Axes>"
      ]
     },
     "metadata": {
      "needs_background": "light"
     },
     "output_type": "display_data"
    }
   ],
   "source": [
    "full_df['trip_distance'].hist()"
   ]
  },
  {
   "cell_type": "markdown",
   "id": "fd7563a9-9271-4ba6-8802-51d039107ddf",
   "metadata": {},
   "source": [
    "## Amount "
   ]
  },
  {
   "cell_type": "code",
   "execution_count": 78,
   "id": "776154c0-a699-4a87-a58e-513c1a59c2e5",
   "metadata": {},
   "outputs": [
    {
     "data": {
      "text/plain": [
       "410.7065015999973"
      ]
     },
     "execution_count": 78,
     "metadata": {},
     "output_type": "execute_result"
    }
   ],
   "source": [
    "full_df['total_amount'].quantile(.99999) "
   ]
  },
  {
   "cell_type": "code",
   "execution_count": 79,
   "id": "ad555455-1be6-4f5d-8991-3fe6e18b47d2",
   "metadata": {},
   "outputs": [
    {
     "data": {
      "text/plain": [
       "(126, 27)"
      ]
     },
     "execution_count": 79,
     "metadata": {},
     "output_type": "execute_result"
    }
   ],
   "source": [
    "full_df[full_df['total_amount'] > 500].shape"
   ]
  },
  {
   "cell_type": "code",
   "execution_count": null,
   "id": "9fab1a3b-3628-4bb2-80db-96844abb29ad",
   "metadata": {},
   "outputs": [],
   "source": []
  },
  {
   "cell_type": "code",
   "execution_count": 80,
   "id": "be91b999-1a9a-4020-b9c0-253a8ac0ed42",
   "metadata": {},
   "outputs": [
    {
     "data": {
      "text/plain": [
       "<AxesSubplot:>"
      ]
     },
     "execution_count": 80,
     "metadata": {},
     "output_type": "execute_result"
    },
    {
     "data": {
      "image/png": "[encoded data removed]",
      "text/plain": [
       "<Figure size 432x288 with 1 Axes>"
      ]
     },
     "metadata": {
      "needs_background": "light"
     },
     "output_type": "display_data"
    }
   ],
   "source": [
    "full_df[(full_df.total_amount >= 0) & (full_df.total_amount<= 500)].total_amount.hist()"
   ]
  },
  {
   "cell_type": "code",
   "execution_count": 81,
   "id": "849dbfac-2986-4620-add5-3a3cc526edaf",
   "metadata": {},
   "outputs": [],
   "source": [
    "full_df = full_df[full_df['total_amount'] < 500].reset_index(drop=True)"
   ]
  },
  {
   "cell_type": "code",
   "execution_count": 82,
   "id": "2cf76ef5-84fc-48fc-9a31-6840bade45c6",
   "metadata": {},
   "outputs": [
    {
     "data": {
      "text/html": [
       "<div>\n",
       "<style scoped>\n",
       "    .dataframe tbody tr th:only-of-type {\n",
       "        vertical-align: middle;\n",
       "    }\n",
       "\n",
       "    .dataframe tbody tr th {\n",
       "        vertical-align: top;\n",
       "    }\n",
       "\n",
       "    .dataframe thead th {\n",
       "        text-align: right;\n",
       "    }\n",
       "</style>\n",
       "<table border=\"1\" class=\"dataframe\">\n",
       "  <thead>\n",
       "    <tr style=\"text-align: right;\">\n",
       "      <th></th>\n",
       "      <th>PULocationID</th>\n",
       "      <th>DOLocationID</th>\n",
       "      <th>tpep_pickup_datetime</th>\n",
       "      <th>tpep_dropoff_datetime</th>\n",
       "      <th>trip_distance</th>\n",
       "      <th>payment_type</th>\n",
       "      <th>fare_amount</th>\n",
       "      <th>extra</th>\n",
       "      <th>mta_tax</th>\n",
       "      <th>tip_amount</th>\n",
       "      <th>tolls_amount</th>\n",
       "      <th>improvement_surcharge</th>\n",
       "      <th>total_amount</th>\n",
       "    </tr>\n",
       "  </thead>\n",
       "  <tbody>\n",
       "    <tr>\n",
       "      <th>0</th>\n",
       "      <td>88</td>\n",
       "      <td>255</td>\n",
       "      <td>2020-03-01 00:31:13</td>\n",
       "      <td>2020-03-01 01:01:42</td>\n",
       "      <td>4.70</td>\n",
       "      <td>1</td>\n",
       "      <td>22.00</td>\n",
       "      <td>3.0</td>\n",
       "      <td>0.5</td>\n",
       "      <td>2.00</td>\n",
       "      <td>0.00</td>\n",
       "      <td>0.3</td>\n",
       "      <td>27.80</td>\n",
       "    </tr>\n",
       "    <tr>\n",
       "      <th>1</th>\n",
       "      <td>88</td>\n",
       "      <td>255</td>\n",
       "      <td>2020-03-01 01:06:21</td>\n",
       "      <td>2020-03-01 01:33:20</td>\n",
       "      <td>6.51</td>\n",
       "      <td>1</td>\n",
       "      <td>23.50</td>\n",
       "      <td>0.5</td>\n",
       "      <td>0.5</td>\n",
       "      <td>0.00</td>\n",
       "      <td>0.00</td>\n",
       "      <td>0.3</td>\n",
       "      <td>27.30</td>\n",
       "    </tr>\n",
       "    <tr>\n",
       "      <th>2</th>\n",
       "      <td>88</td>\n",
       "      <td>255</td>\n",
       "      <td>2020-03-01 19:07:20</td>\n",
       "      <td>2020-03-01 19:26:55</td>\n",
       "      <td>5.89</td>\n",
       "      <td>1</td>\n",
       "      <td>19.50</td>\n",
       "      <td>0.0</td>\n",
       "      <td>0.5</td>\n",
       "      <td>4.56</td>\n",
       "      <td>0.00</td>\n",
       "      <td>0.3</td>\n",
       "      <td>27.36</td>\n",
       "    </tr>\n",
       "    <tr>\n",
       "      <th>3</th>\n",
       "      <td>88</td>\n",
       "      <td>255</td>\n",
       "      <td>2020-03-02 15:33:53</td>\n",
       "      <td>2020-03-02 16:14:23</td>\n",
       "      <td>7.30</td>\n",
       "      <td>1</td>\n",
       "      <td>31.50</td>\n",
       "      <td>2.5</td>\n",
       "      <td>0.5</td>\n",
       "      <td>8.65</td>\n",
       "      <td>0.00</td>\n",
       "      <td>0.3</td>\n",
       "      <td>43.45</td>\n",
       "    </tr>\n",
       "    <tr>\n",
       "      <th>4</th>\n",
       "      <td>88</td>\n",
       "      <td>255</td>\n",
       "      <td>2020-03-02 19:47:15</td>\n",
       "      <td>2020-03-02 20:07:43</td>\n",
       "      <td>4.81</td>\n",
       "      <td>1</td>\n",
       "      <td>18.00</td>\n",
       "      <td>1.0</td>\n",
       "      <td>0.5</td>\n",
       "      <td>4.46</td>\n",
       "      <td>0.00</td>\n",
       "      <td>0.3</td>\n",
       "      <td>26.76</td>\n",
       "    </tr>\n",
       "    <tr>\n",
       "      <th>...</th>\n",
       "      <td>...</td>\n",
       "      <td>...</td>\n",
       "      <td>...</td>\n",
       "      <td>...</td>\n",
       "      <td>...</td>\n",
       "      <td>...</td>\n",
       "      <td>...</td>\n",
       "      <td>...</td>\n",
       "      <td>...</td>\n",
       "      <td>...</td>\n",
       "      <td>...</td>\n",
       "      <td>...</td>\n",
       "      <td>...</td>\n",
       "    </tr>\n",
       "    <tr>\n",
       "      <th>24269452</th>\n",
       "      <td>127</td>\n",
       "      <td>257</td>\n",
       "      <td>2020-06-30 04:33:00</td>\n",
       "      <td>2020-06-30 04:59:00</td>\n",
       "      <td>19.38</td>\n",
       "      <td>0</td>\n",
       "      <td>75.20</td>\n",
       "      <td>0.0</td>\n",
       "      <td>0.5</td>\n",
       "      <td>0.00</td>\n",
       "      <td>0.00</td>\n",
       "      <td>0.3</td>\n",
       "      <td>76.00</td>\n",
       "    </tr>\n",
       "    <tr>\n",
       "      <th>24269453</th>\n",
       "      <td>220</td>\n",
       "      <td>260</td>\n",
       "      <td>2020-06-30 04:56:23</td>\n",
       "      <td>2020-06-30 05:16:36</td>\n",
       "      <td>12.87</td>\n",
       "      <td>0</td>\n",
       "      <td>53.08</td>\n",
       "      <td>0.0</td>\n",
       "      <td>0.5</td>\n",
       "      <td>0.00</td>\n",
       "      <td>6.12</td>\n",
       "      <td>0.3</td>\n",
       "      <td>60.00</td>\n",
       "    </tr>\n",
       "    <tr>\n",
       "      <th>24269454</th>\n",
       "      <td>171</td>\n",
       "      <td>249</td>\n",
       "      <td>2020-06-30 08:38:55</td>\n",
       "      <td>2020-06-30 09:19:54</td>\n",
       "      <td>15.24</td>\n",
       "      <td>0</td>\n",
       "      <td>40.96</td>\n",
       "      <td>0.0</td>\n",
       "      <td>0.5</td>\n",
       "      <td>2.75</td>\n",
       "      <td>6.12</td>\n",
       "      <td>0.3</td>\n",
       "      <td>50.63</td>\n",
       "    </tr>\n",
       "    <tr>\n",
       "      <th>24269455</th>\n",
       "      <td>212</td>\n",
       "      <td>153</td>\n",
       "      <td>2020-06-30 16:15:00</td>\n",
       "      <td>2020-06-30 16:42:00</td>\n",
       "      <td>6.79</td>\n",
       "      <td>0</td>\n",
       "      <td>17.88</td>\n",
       "      <td>0.0</td>\n",
       "      <td>0.5</td>\n",
       "      <td>4.24</td>\n",
       "      <td>0.00</td>\n",
       "      <td>0.3</td>\n",
       "      <td>22.92</td>\n",
       "    </tr>\n",
       "    <tr>\n",
       "      <th>24269456</th>\n",
       "      <td>101</td>\n",
       "      <td>84</td>\n",
       "      <td>2020-06-30 22:04:12</td>\n",
       "      <td>2020-06-30 22:55:36</td>\n",
       "      <td>47.86</td>\n",
       "      <td>0</td>\n",
       "      <td>129.46</td>\n",
       "      <td>0.0</td>\n",
       "      <td>0.5</td>\n",
       "      <td>2.75</td>\n",
       "      <td>12.24</td>\n",
       "      <td>0.3</td>\n",
       "      <td>145.25</td>\n",
       "    </tr>\n",
       "  </tbody>\n",
       "</table>\n",
       "<p>24269457 rows × 13 columns</p>\n",
       "</div>"
      ],
      "text/plain": [
       "          PULocationID  DOLocationID tpep_pickup_datetime tpep_dropoff_datetime  trip_distance  payment_type  fare_amount  extra  mta_tax  tip_amount  tolls_amount  improvement_surcharge  total_amount\n",
       "0                   88           255  2020-03-01 00:31:13   2020-03-01 01:01:42           4.70             1        22.00    3.0      0.5        2.00          0.00                    0.3         27.80\n",
       "1                   88           255  2020-03-01 01:06:21   2020-03-01 01:33:20           6.51             1        23.50    0.5      0.5        0.00          0.00                    0.3         27.30\n",
       "2                   88           255  2020-03-01 19:07:20   2020-03-01 19:26:55           5.89             1        19.50    0.0      0.5        4.56          0.00                    0.3         27.36\n",
       "3                   88           255  2020-03-02 15:33:53   2020-03-02 16:14:23           7.30             1        31.50    2.5      0.5        8.65          0.00                    0.3         43.45\n",
       "4                   88           255  2020-03-02 19:47:15   2020-03-02 20:07:43           4.81             1        18.00    1.0      0.5        4.46          0.00                    0.3         26.76\n",
       "...                ...           ...                  ...                   ...            ...           ...          ...    ...      ...         ...           ...                    ...           ...\n",
       "24269452           127           257  2020-06-30 04:33:00   2020-06-30 04:59:00          19.38             0        75.20    0.0      0.5        0.00          0.00                    0.3         76.00\n",
       "24269453           220           260  2020-06-30 04:56:23   2020-06-30 05:16:36          12.87             0        53.08    0.0      0.5        0.00          6.12                    0.3         60.00\n",
       "24269454           171           249  2020-06-30 08:38:55   2020-06-30 09:19:54          15.24             0        40.96    0.0      0.5        2.75          6.12                    0.3         50.63\n",
       "24269455           212           153  2020-06-30 16:15:00   2020-06-30 16:42:00           6.79             0        17.88    0.0      0.5        4.24          0.00                    0.3         22.92\n",
       "24269456           101            84  2020-06-30 22:04:12   2020-06-30 22:55:36          47.86             0       129.46    0.0      0.5        2.75         12.24                    0.3        145.25\n",
       "\n",
       "[24269457 rows x 13 columns]"
      ]
     },
     "execution_count": 82,
     "metadata": {},
     "output_type": "execute_result"
    }
   ],
   "source": [
    "full_df[\n",
    "    ['PULocationID', 'DOLocationID',\n",
    "     'tpep_pickup_datetime', 'tpep_dropoff_datetime', 'trip_distance',\n",
    "     'payment_type', 'fare_amount', 'extra', 'mta_tax', 'tip_amount', 'tolls_amount', 'improvement_surcharge', 'total_amount']]"
   ]
  },
  {
   "cell_type": "code",
   "execution_count": null,
   "id": "62c04061-0ac8-4d29-afeb-eacc8cd070a8",
   "metadata": {},
   "outputs": [],
   "source": []
  },
  {
   "cell_type": "code",
   "execution_count": 84,
   "id": "2ec07a68-0c64-4e8e-8eee-979d520d6269",
   "metadata": {},
   "outputs": [],
   "source": [
    "full_df['long_trip'] = full_df['trip_distance'].map(lambda x: 1 if x >= 30 else 0)"
   ]
  },
  {
   "cell_type": "code",
   "execution_count": null,
   "id": "a6dc8dd8-3006-403e-8114-3550233265c6",
   "metadata": {},
   "outputs": [],
   "source": []
  },
  {
   "cell_type": "markdown",
   "id": "a9ba4ed2-c9e2-454a-aa40-08fc794b8694",
   "metadata": {},
   "source": [
    "## RatecodeID "
   ]
  },
  {
   "cell_type": "code",
   "execution_count": 85,
   "id": "f0a09a15-1f1f-415b-899e-0006eedb6ad5",
   "metadata": {},
   "outputs": [
    {
     "data": {
      "text/plain": [
       "1.0     22982849\n",
       "          773378\n",
       "2.0       406626\n",
       "5.0        51222\n",
       "3.0        36749\n",
       "4.0        18114\n",
       "99.0         467\n",
       "6.0           52\n",
       "Name: RatecodeID, dtype: int64"
      ]
     },
     "execution_count": 85,
     "metadata": {},
     "output_type": "execute_result"
    }
   ],
   "source": [
    "full_df.RatecodeID.fillna('').value_counts()"
   ]
  },
  {
   "cell_type": "code",
   "execution_count": null,
   "id": "8a2c880d-b4df-4faa-977a-eb799944ca19",
   "metadata": {},
   "outputs": [],
   "source": []
  },
  {
   "cell_type": "code",
   "execution_count": 86,
   "id": "012d048b-d50c-49a5-8fc7-6c986f6825b9",
   "metadata": {},
   "outputs": [],
   "source": [
    "full_df.loc[full_df.RatecodeID.isna(), 'RatecodeID'] = 1"
   ]
  },
  {
   "cell_type": "code",
   "execution_count": null,
   "id": "5eddf164-ebf5-4482-a447-bfd23b678d94",
   "metadata": {},
   "outputs": [],
   "source": []
  },
  {
   "cell_type": "markdown",
   "id": "23df848f-ab15-4a71-b6b9-6be034707a13",
   "metadata": {},
   "source": [
    "# Save Processed Data"
   ]
  },
  {
   "cell_type": "code",
   "execution_count": 87,
   "id": "40bde67d-dfa3-44e3-b63e-f2de18f44fa6",
   "metadata": {},
   "outputs": [],
   "source": [
    "full_df.to_parquet('processed_data.parquet', index=False)"
   ]
  },
  {
   "cell_type": "code",
   "execution_count": null,
   "id": "ba8eeae2-f445-4143-9551-4c15d765267d",
   "metadata": {},
   "outputs": [],
   "source": []
  }
 ],
 "metadata": {
  "kernelspec": {
   "display_name": "Python 3 (ipykernel)",
   "language": "python",
   "name": "python3"
  },
  "language_info": {
   "codemirror_mode": {
    "name": "ipython",
    "version": 3
   },
   "file_extension": ".py",
   "mimetype": "text/x-python",
   "name": "python",
   "nbconvert_exporter": "python",
   "pygments_lexer": "ipython3",
   "version": "3.7.13"
  }
 },
 "nbformat": 4,
 "nbformat_minor": 5
}

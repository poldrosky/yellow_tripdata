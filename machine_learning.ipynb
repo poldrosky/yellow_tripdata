{
 "cells": [
  {
   "cell_type": "code",
   "execution_count": 1,
   "metadata": {},
   "outputs": [],
   "source": [
    "from pathlib import Path\n",
    "\n",
    "import numpy as np\n",
    "import pandas as pd\n",
    "from pandas_profiling import ProfileReport\n",
    "\n",
    "import geopandas as gpd\n",
    "import matplotlib\n",
    "import matplotlib.pyplot as plt\n",
    "from mpl_toolkits.axes_grid1 import make_axes_locatable\n",
    "import plotly.graph_objects as go\n",
    "\n",
    "import pandas as pd\n",
    "import numpy as np\n",
    "import sklearn\n",
    "import seaborn as sns\n",
    "from sklearn.model_selection import train_test_split\n",
    "from sklearn.ensemble import RandomForestRegressor, RandomForestClassifier\n",
    "from sklearn.linear_model import LogisticRegressionCV\n",
    "from sklearn.metrics import confusion_matrix\n",
    "from math import floor\n",
    "from sklearn.preprocessing import StandardScaler, OneHotEncoder\n",
    "from sklearn.metrics import accuracy_score,plot_confusion_matrix,roc_auc_score, classification_report, confusion_matrix, precision_recall_curve, auc\n",
    "import pandas as pd\n",
    "import numpy as np\n",
    "import seaborn as sns\n",
    "from sklearn.model_selection import train_test_split\n",
    "from sklearn.ensemble import RandomForestClassifier\n",
    "from sklearn.linear_model import LogisticRegressionCV\n",
    "from sklearn.preprocessing import StandardScaler\n",
    "from sklearn.metrics import accuracy_score,plot_confusion_matrix, classification_report, confusion_matrix\n",
    "from sklearn.base import clone\n",
    "from sklearn.preprocessing import StandardScaler\n",
    "from sklearn.svm import SVC \n",
    "from sklearn.svm import LinearSVC\n",
    "import matplotlib.pyplot as plt\n",
    "from imblearn.over_sampling import SMOTE\n",
    "from collections import Counter\n",
    "from sklearn.tree import DecisionTreeRegressor\n",
    "from matplotlib import pyplot\n",
    "from sklearn import svm\n",
    "from sklearn.linear_model import LinearRegression\n",
    "from sklearn.metrics import mean_squared_error\n",
    "from sklearn.neighbors import KNeighborsRegressor\n",
    "\n",
    "import numpy as np\n",
    "import matplotlib.pyplot as plt\n",
    "from matplotlib.colors import ListedColormap\n",
    "from sklearn.model_selection import train_test_split\n",
    "from sklearn.preprocessing import StandardScaler\n",
    "from sklearn.neural_network import MLPClassifier\n",
    "from sklearn.neighbors import KNeighborsClassifier\n",
    "from sklearn.svm import SVC\n",
    "from sklearn.gaussian_process import GaussianProcessClassifier\n",
    "from sklearn.gaussian_process.kernels import RBF\n",
    "from sklearn.tree import DecisionTreeClassifier\n",
    "from sklearn.ensemble import RandomForestClassifier, AdaBoostClassifier\n",
    "from sklearn.naive_bayes import GaussianNB\n",
    "from sklearn.discriminant_analysis import QuadraticDiscriminantAnalysis\n",
    "from sklearn.linear_model import LogisticRegression"
   ]
  },
  {
   "cell_type": "markdown",
   "metadata": {},
   "source": [
    "Lectura de datos"
   ]
  },
  {
   "cell_type": "code",
   "execution_count": 2,
   "metadata": {},
   "outputs": [],
   "source": [
    "data_dir = Path('')\n",
    "full_df = pd.concat(\n",
    "    pd.read_parquet(parquet_file)\n",
    "    for parquet_file in data_dir.glob('processed_data.parquet')\n",
    ")\n"
   ]
  },
  {
   "cell_type": "code",
   "execution_count": 3,
   "metadata": {},
   "outputs": [
    {
     "data": {
      "text/plain": [
       "(23837724, 30)"
      ]
     },
     "execution_count": 3,
     "metadata": {},
     "output_type": "execute_result"
    }
   ],
   "source": [
    "full_df.shape"
   ]
  },
  {
   "cell_type": "code",
   "execution_count": 3,
   "metadata": {},
   "outputs": [],
   "source": [
    "full_df = full_df[full_df['payment_type_1'] == 1]"
   ]
  },
  {
   "cell_type": "code",
   "execution_count": 4,
   "metadata": {},
   "outputs": [
    {
     "data": {
      "text/plain": [
       "(17463300, 30)"
      ]
     },
     "execution_count": 4,
     "metadata": {},
     "output_type": "execute_result"
    }
   ],
   "source": [
    "full_df.shape"
   ]
  },
  {
   "cell_type": "markdown",
   "metadata": {},
   "source": [
    "Consideraremos casos en los que se pagó con tarjeta de crédito"
   ]
  },
  {
   "cell_type": "code",
   "execution_count": 4,
   "metadata": {},
   "outputs": [],
   "source": [
    "reduced_df = full_df[['airport_fee', 'PULocationID', 'DOLocationID', 'trip_distance', 'congestion_surcharge', 'pickup_day', 'pickup_month', 'pickup_hour']]"
   ]
  },
  {
   "cell_type": "code",
   "execution_count": 5,
   "metadata": {},
   "outputs": [
    {
     "data": {
      "text/plain": [
       "((12224310, 8), (5238990, 8))"
      ]
     },
     "execution_count": 5,
     "metadata": {},
     "output_type": "execute_result"
    }
   ],
   "source": [
    "X_train, X_test, y_train, y_test = train_test_split(\n",
    "    reduced_df, \n",
    "    full_df['total_amount'],  \n",
    "    test_size=0.3,\n",
    "    random_state=42)\n",
    "\n",
    "X_train.shape, X_test.shape"
   ]
  },
  {
   "cell_type": "code",
   "execution_count": 6,
   "metadata": {},
   "outputs": [
    {
     "data": {
      "text/plain": [
       "881825"
      ]
     },
     "execution_count": 6,
     "metadata": {},
     "output_type": "execute_result"
    }
   ],
   "source": [
    "cant = full_df[full_df['cost_caterogy'] == 'expensive'].count()[0]\n",
    "cant"
   ]
  },
  {
   "cell_type": "code",
   "execution_count": 7,
   "metadata": {},
   "outputs": [
    {
     "name": "stderr",
     "output_type": "stream",
     "text": [
      "/var/folders/s5/5nbwzy4127vdzvv2wpcsr6hj4mpngl/T/ipykernel_60463/4216908341.py:1: FutureWarning: The frame.append method is deprecated and will be removed from pandas in a future version. Use pandas.concat instead.\n",
      "  balanced_df = full_df[full_df['cost_caterogy'] == 'expensive'].append(full_df[full_df['cost_caterogy'] == 'cheap'][:cant])\n",
      "/var/folders/s5/5nbwzy4127vdzvv2wpcsr6hj4mpngl/T/ipykernel_60463/4216908341.py:2: FutureWarning: The frame.append method is deprecated and will be removed from pandas in a future version. Use pandas.concat instead.\n",
      "  balanced_df = balanced_df.append(full_df[full_df['cost_caterogy'] == 'medium'][:cant])\n"
     ]
    },
    {
     "data": {
      "text/plain": [
       "(2645475, 30)"
      ]
     },
     "execution_count": 7,
     "metadata": {},
     "output_type": "execute_result"
    }
   ],
   "source": [
    "balanced_df = full_df[full_df['cost_caterogy'] == 'expensive'].append(full_df[full_df['cost_caterogy'] == 'cheap'][:cant])\n",
    "balanced_df = balanced_df.append(full_df[full_df['cost_caterogy'] == 'medium'][:cant])\n",
    "balanced_df.shape"
   ]
  },
  {
   "cell_type": "code",
   "execution_count": 8,
   "metadata": {},
   "outputs": [],
   "source": [
    "balanced_reduced_df = balanced_df[['airport_fee', 'PULocationID', 'DOLocationID', 'trip_distance', 'congestion_surcharge', 'pickup_day', 'pickup_month', 'pickup_hour']]"
   ]
  },
  {
   "cell_type": "code",
   "execution_count": 9,
   "metadata": {},
   "outputs": [],
   "source": [
    "X_train_classification, X_test_classification, y_train_classification, y_test_classification = train_test_split(\n",
    "    balanced_reduced_df, \n",
    "    balanced_df['cost_caterogy'],  \n",
    "    test_size=0.3,\n",
    "    random_state=42)"
   ]
  },
  {
   "cell_type": "code",
   "execution_count": 10,
   "metadata": {},
   "outputs": [],
   "source": [
    "balanced_df_is_cheap = balanced_df.copy(deep=True)\n",
    "balanced_df_is_cheap['cost_caterogy'] = balanced_df_is_cheap['cost_caterogy'].map(lambda x: x if x == 'cheap' else 'no_cheap')\n",
    "\n",
    "balanced_df_is_expensive = balanced_df.copy(deep=True)\n",
    "balanced_df_is_expensive['cost_caterogy'] = balanced_df_is_expensive['cost_caterogy'].map(lambda x: x if x == 'expensive' else 'no_expensive')"
   ]
  },
  {
   "cell_type": "code",
   "execution_count": 11,
   "metadata": {},
   "outputs": [],
   "source": [
    "cheap_reduced_df = balanced_df_is_cheap[['airport_fee', 'PULocationID', 'DOLocationID', 'trip_distance', 'congestion_surcharge', 'pickup_day', 'pickup_month', 'pickup_hour']]\n",
    "expensive_reduced_df = balanced_df_is_expensive[['airport_fee', 'PULocationID', 'DOLocationID', 'trip_distance', 'congestion_surcharge', 'pickup_day', 'pickup_month', 'pickup_hour']]"
   ]
  },
  {
   "cell_type": "code",
   "execution_count": 12,
   "metadata": {},
   "outputs": [],
   "source": [
    "y_cheap = balanced_df_is_cheap['cost_caterogy']"
   ]
  },
  {
   "cell_type": "code",
   "execution_count": 13,
   "metadata": {},
   "outputs": [],
   "source": [
    "X_train_cheap, X_test_cheap, y_train_cheap, y_test_cheap = train_test_split(\n",
    "    cheap_reduced_df, \n",
    "    y_cheap,  \n",
    "    test_size=0.3,\n",
    "    random_state=42,\n",
    "    stratify=y_cheap)"
   ]
  },
  {
   "cell_type": "code",
   "execution_count": 14,
   "metadata": {},
   "outputs": [],
   "source": [
    "y = balanced_df_is_expensive['cost_caterogy']"
   ]
  },
  {
   "cell_type": "code",
   "execution_count": 15,
   "metadata": {},
   "outputs": [],
   "source": [
    "X_train_expensive, X_test_expensive, y_train_expensive, y_test_expensive = train_test_split(\n",
    "    expensive_reduced_df, \n",
    "    y,  \n",
    "    test_size=0.3,\n",
    "    random_state=42,\n",
    "    stratify=y)"
   ]
  },
  {
   "cell_type": "code",
   "execution_count": 16,
   "metadata": {},
   "outputs": [
    {
     "name": "stdout",
     "output_type": "stream",
     "text": [
      "RandomForest\n",
      "amount\n",
      "              amount_err  amountscore\n",
      "RandomForest    5.249348     0.851132\n",
      "DecisionTreeClassifier\n",
      "classification\n"
     ]
    },
    {
     "data": {
      "image/png": "[encoded data removed]",
      "text/plain": [
       "<Figure size 432x288 with 2 Axes>"
      ]
     },
     "metadata": {
      "needs_background": "light"
     },
     "output_type": "display_data"
    },
    {
     "name": "stdout",
     "output_type": "stream",
     "text": [
      "DecisionTreeClassifier\n",
      "cheap\n"
     ]
    },
    {
     "data": {
      "image/png": "[encoded data removed]",
      "text/plain": [
       "<Figure size 432x288 with 2 Axes>"
      ]
     },
     "metadata": {
      "needs_background": "light"
     },
     "output_type": "display_data"
    },
    {
     "name": "stdout",
     "output_type": "stream",
     "text": [
      "DecisionTreeClassifier\n",
      "expensive\n"
     ]
    },
    {
     "data": {
      "image/png": "[encoded data removed]",
      "text/plain": [
       "<Figure size 432x288 with 2 Axes>"
      ]
     },
     "metadata": {
      "needs_background": "light"
     },
     "output_type": "display_data"
    },
    {
     "name": "stdout",
     "output_type": "stream",
     "text": [
      "LogisticRegressionCV\n",
      "classification\n"
     ]
    },
    {
     "data": {
      "image/png": "[encoded data removed]",
      "text/plain": [
       "<Figure size 432x288 with 2 Axes>"
      ]
     },
     "metadata": {
      "needs_background": "light"
     },
     "output_type": "display_data"
    },
    {
     "name": "stdout",
     "output_type": "stream",
     "text": [
      "LogisticRegressionCV\n",
      "cheap\n"
     ]
    },
    {
     "name": "stderr",
     "output_type": "stream",
     "text": [
      "/Users/ezefernandez/opt/anaconda3/lib/python3.9/site-packages/sklearn/linear_model/_logistic.py:444: ConvergenceWarning: lbfgs failed to converge (status=1):\n",
      "STOP: TOTAL NO. of ITERATIONS REACHED LIMIT.\n",
      "\n",
      "Increase the number of iterations (max_iter) or scale the data as shown in:\n",
      "    https://scikit-learn.org/stable/modules/preprocessing.html\n",
      "Please also refer to the documentation for alternative solver options:\n",
      "    https://scikit-learn.org/stable/modules/linear_model.html#logistic-regression\n",
      "  n_iter_i = _check_optimize_result(\n",
      "/Users/ezefernandez/opt/anaconda3/lib/python3.9/site-packages/sklearn/linear_model/_logistic.py:444: ConvergenceWarning: lbfgs failed to converge (status=1):\n",
      "STOP: TOTAL NO. of ITERATIONS REACHED LIMIT.\n",
      "\n",
      "Increase the number of iterations (max_iter) or scale the data as shown in:\n",
      "    https://scikit-learn.org/stable/modules/preprocessing.html\n",
      "Please also refer to the documentation for alternative solver options:\n",
      "    https://scikit-learn.org/stable/modules/linear_model.html#logistic-regression\n",
      "  n_iter_i = _check_optimize_result(\n",
      "/Users/ezefernandez/opt/anaconda3/lib/python3.9/site-packages/sklearn/linear_model/_logistic.py:444: ConvergenceWarning: lbfgs failed to converge (status=1):\n",
      "STOP: TOTAL NO. of ITERATIONS REACHED LIMIT.\n",
      "\n",
      "Increase the number of iterations (max_iter) or scale the data as shown in:\n",
      "    https://scikit-learn.org/stable/modules/preprocessing.html\n",
      "Please also refer to the documentation for alternative solver options:\n",
      "    https://scikit-learn.org/stable/modules/linear_model.html#logistic-regression\n",
      "  n_iter_i = _check_optimize_result(\n",
      "/Users/ezefernandez/opt/anaconda3/lib/python3.9/site-packages/sklearn/linear_model/_logistic.py:444: ConvergenceWarning: lbfgs failed to converge (status=1):\n",
      "STOP: TOTAL NO. of ITERATIONS REACHED LIMIT.\n",
      "\n",
      "Increase the number of iterations (max_iter) or scale the data as shown in:\n",
      "    https://scikit-learn.org/stable/modules/preprocessing.html\n",
      "Please also refer to the documentation for alternative solver options:\n",
      "    https://scikit-learn.org/stable/modules/linear_model.html#logistic-regression\n",
      "  n_iter_i = _check_optimize_result(\n",
      "/Users/ezefernandez/opt/anaconda3/lib/python3.9/site-packages/sklearn/linear_model/_logistic.py:444: ConvergenceWarning: lbfgs failed to converge (status=1):\n",
      "STOP: TOTAL NO. of ITERATIONS REACHED LIMIT.\n",
      "\n",
      "Increase the number of iterations (max_iter) or scale the data as shown in:\n",
      "    https://scikit-learn.org/stable/modules/preprocessing.html\n",
      "Please also refer to the documentation for alternative solver options:\n",
      "    https://scikit-learn.org/stable/modules/linear_model.html#logistic-regression\n",
      "  n_iter_i = _check_optimize_result(\n"
     ]
    },
    {
     "data": {
      "image/png": "[encoded data removed]",
      "text/plain": [
       "<Figure size 432x288 with 2 Axes>"
      ]
     },
     "metadata": {
      "needs_background": "light"
     },
     "output_type": "display_data"
    },
    {
     "name": "stdout",
     "output_type": "stream",
     "text": [
      "LogisticRegressionCV\n",
      "expensive\n"
     ]
    },
    {
     "name": "stderr",
     "output_type": "stream",
     "text": [
      "/Users/ezefernandez/opt/anaconda3/lib/python3.9/site-packages/sklearn/linear_model/_logistic.py:444: ConvergenceWarning: lbfgs failed to converge (status=1):\n",
      "STOP: TOTAL NO. of ITERATIONS REACHED LIMIT.\n",
      "\n",
      "Increase the number of iterations (max_iter) or scale the data as shown in:\n",
      "    https://scikit-learn.org/stable/modules/preprocessing.html\n",
      "Please also refer to the documentation for alternative solver options:\n",
      "    https://scikit-learn.org/stable/modules/linear_model.html#logistic-regression\n",
      "  n_iter_i = _check_optimize_result(\n",
      "/Users/ezefernandez/opt/anaconda3/lib/python3.9/site-packages/sklearn/linear_model/_logistic.py:444: ConvergenceWarning: lbfgs failed to converge (status=1):\n",
      "STOP: TOTAL NO. of ITERATIONS REACHED LIMIT.\n",
      "\n",
      "Increase the number of iterations (max_iter) or scale the data as shown in:\n",
      "    https://scikit-learn.org/stable/modules/preprocessing.html\n",
      "Please also refer to the documentation for alternative solver options:\n",
      "    https://scikit-learn.org/stable/modules/linear_model.html#logistic-regression\n",
      "  n_iter_i = _check_optimize_result(\n",
      "/Users/ezefernandez/opt/anaconda3/lib/python3.9/site-packages/sklearn/linear_model/_logistic.py:444: ConvergenceWarning: lbfgs failed to converge (status=1):\n",
      "STOP: TOTAL NO. of ITERATIONS REACHED LIMIT.\n",
      "\n",
      "Increase the number of iterations (max_iter) or scale the data as shown in:\n",
      "    https://scikit-learn.org/stable/modules/preprocessing.html\n",
      "Please also refer to the documentation for alternative solver options:\n",
      "    https://scikit-learn.org/stable/modules/linear_model.html#logistic-regression\n",
      "  n_iter_i = _check_optimize_result(\n",
      "/Users/ezefernandez/opt/anaconda3/lib/python3.9/site-packages/sklearn/linear_model/_logistic.py:444: ConvergenceWarning: lbfgs failed to converge (status=1):\n",
      "STOP: TOTAL NO. of ITERATIONS REACHED LIMIT.\n",
      "\n",
      "Increase the number of iterations (max_iter) or scale the data as shown in:\n",
      "    https://scikit-learn.org/stable/modules/preprocessing.html\n",
      "Please also refer to the documentation for alternative solver options:\n",
      "    https://scikit-learn.org/stable/modules/linear_model.html#logistic-regression\n",
      "  n_iter_i = _check_optimize_result(\n",
      "/Users/ezefernandez/opt/anaconda3/lib/python3.9/site-packages/sklearn/linear_model/_logistic.py:444: ConvergenceWarning: lbfgs failed to converge (status=1):\n",
      "STOP: TOTAL NO. of ITERATIONS REACHED LIMIT.\n",
      "\n",
      "Increase the number of iterations (max_iter) or scale the data as shown in:\n",
      "    https://scikit-learn.org/stable/modules/preprocessing.html\n",
      "Please also refer to the documentation for alternative solver options:\n",
      "    https://scikit-learn.org/stable/modules/linear_model.html#logistic-regression\n",
      "  n_iter_i = _check_optimize_result(\n",
      "/Users/ezefernandez/opt/anaconda3/lib/python3.9/site-packages/sklearn/linear_model/_logistic.py:444: ConvergenceWarning: lbfgs failed to converge (status=1):\n",
      "STOP: TOTAL NO. of ITERATIONS REACHED LIMIT.\n",
      "\n",
      "Increase the number of iterations (max_iter) or scale the data as shown in:\n",
      "    https://scikit-learn.org/stable/modules/preprocessing.html\n",
      "Please also refer to the documentation for alternative solver options:\n",
      "    https://scikit-learn.org/stable/modules/linear_model.html#logistic-regression\n",
      "  n_iter_i = _check_optimize_result(\n"
     ]
    },
    {
     "data": {
      "image/png": "[encoded data removed]",
      "text/plain": [
       "<Figure size 432x288 with 2 Axes>"
      ]
     },
     "metadata": {
      "needs_background": "light"
     },
     "output_type": "display_data"
    },
    {
     "name": "stdout",
     "output_type": "stream",
     "text": [
      "RandomForest\n",
      "classification\n"
     ]
    },
    {
     "data": {
      "image/png": "[encoded data removed]",
      "text/plain": [
       "<Figure size 432x288 with 2 Axes>"
      ]
     },
     "metadata": {
      "needs_background": "light"
     },
     "output_type": "display_data"
    },
    {
     "name": "stdout",
     "output_type": "stream",
     "text": [
      "RandomForest\n",
      "cheap\n"
     ]
    },
    {
     "data": {
      "image/png": "[encoded data removed]",
      "text/plain": [
       "<Figure size 432x288 with 2 Axes>"
      ]
     },
     "metadata": {
      "needs_background": "light"
     },
     "output_type": "display_data"
    },
    {
     "name": "stdout",
     "output_type": "stream",
     "text": [
      "RandomForest\n",
      "expensive\n"
     ]
    },
    {
     "data": {
      "image/png": "[encoded data removed]",
      "text/plain": [
       "<Figure size 432x288 with 2 Axes>"
      ]
     },
     "metadata": {
      "needs_background": "light"
     },
     "output_type": "display_data"
    },
    {
     "name": "stdout",
     "output_type": "stream",
     "text": [
      "              amount_err  amountscore\n",
      "RandomForest    5.249348     0.851132\n"
     ]
    }
   ],
   "source": [
    "# Modelos a ensayar.\n",
    "models_scaled = [\n",
    "  #  (\"LinearSVC\", svm.SVR(max_iter=5)),\n",
    "  #  (\"KNeighborsRegressor\", KNeighborsRegressor()),\n",
    "  #  (\"LinearRegression\", LinearRegression()),\n",
    "  (\"RandomForest\", RandomForestRegressor(n_estimators=20, random_state=42)),\n",
    "]\n",
    "\n",
    "scaler = StandardScaler()\n",
    "X_train_scaled = scaler.fit_transform(X_train)\n",
    "X_test_scaled = scaler.fit_transform(X_test)\n",
    "\n",
    "# Aquí almacenaremos los resultados.\n",
    "results_svc_regression = {}\n",
    "models_trained_svc_regression = {}\n",
    "\n",
    "# Etrenamos cada modelo svc y almacenamos los resultados.\n",
    "for m in models_scaled:\n",
    "    model_name = m[0]\n",
    "    results_svc_regression[model_name] = {}\n",
    "    models_trained_svc_regression[model_name] = {}\n",
    "    model = clone(m[1])\n",
    "    \n",
    "    scenario = \"amount\"\n",
    "    print(model_name)\n",
    "    print(scenario)\n",
    "    model.fit(X_train_scaled[:100000], y_train[:100000])\n",
    "    predictions = model.predict(X_test_scaled)\n",
    "    err = mean_squared_error(y_test, predictions, squared=False)\n",
    "    results_svc_regression[model_name][scenario + \"_err\"] = err\n",
    "    results_svc_regression[model_name][scenario + \"score\"] = model.score(X_test_scaled,y_test)\n",
    "    models_trained_svc_regression[model_name][scenario] = model\n",
    "\n",
    "df_results_svc = pd.DataFrame(results_svc_regression).T\n",
    "print(df_results_svc)\n",
    "\n",
    "\n",
    "# Modelos a ensayar en clasificacion.\n",
    "models_svc = [\n",
    "  #  (\"SVC_linear\",  SVC(kernel=\"linear\", C=0.025)),\n",
    "    (\"DecisionTreeClassifier\", LogisticRegression(multi_class='ovr')),\n",
    "    (\"LogisticRegressionCV\", LogisticRegressionCV(random_state=42, solver='lbfgs', max_iter=50)),\n",
    "    (\"RandomForest\", RandomForestClassifier(n_estimators=50, random_state=42)),\n",
    "]\n",
    "\n",
    "scaler = StandardScaler()\n",
    "X_train_scaled = scaler.fit_transform(X_train)\n",
    "X_test_scaled = scaler.fit_transform(X_test)\n",
    "\n",
    "X_train_scaled_classification = scaler.fit_transform(X_train_classification)\n",
    "X_test_scaled_classification = scaler.fit_transform(X_test_classification)\n",
    "\n",
    "# Aquí almacenaremos los resultados.\n",
    "results = {}\n",
    "models_trained = {}\n",
    "results_svc = {}\n",
    "models_trained_svc = {}\n",
    "\n",
    "# Etrenamos cada modelo svc y almacenamos los resultados.\n",
    "for m in models_svc:\n",
    "    model_name = m[0]\n",
    "    results_svc[model_name] = {}\n",
    "    models_trained_svc[model_name] = {}\n",
    "    model = clone(m[1])\n",
    "    \n",
    "    scenario = \"classification\"\n",
    "    print(model_name)\n",
    "    print(scenario)\n",
    "    model.fit(X_train_scaled_classification, y_train_classification)\n",
    "    predictions = model.predict(X_test_scaled_classification)\n",
    "    acc = accuracy_score(y_test_classification, predictions)\n",
    "    results_svc[model_name][scenario + \"_accuracy_score\"] = accuracy_score(y_test_classification, predictions)\n",
    "    results_svc[model_name][scenario + \"score\"] = model.score(X_test_scaled_classification, y_test_classification)\n",
    "    models_trained_svc[model_name][scenario] = model\n",
    "    results_svc[model_name][scenario + \"confusion_matrix\"] = confusion_matrix(y_test_classification, predictions)\n",
    "    sns.heatmap(confusion_matrix(y_test_classification, predictions), annot=True)\n",
    "    plt.ylabel('Verdaderos')\n",
    "    plt.xlabel('Predichos')\n",
    "    plt.show()\n",
    "    \n",
    "    model = clone(m[1])\n",
    "    scenario = \"cheap\"\n",
    "    print(model_name)\n",
    "    print(scenario)\n",
    "    model.fit(X_train_cheap, y_train_cheap)\n",
    "    predictions = model.predict(X_test_cheap)\n",
    "    acc = accuracy_score(y_test_cheap, predictions)\n",
    "    results_svc[model_name][scenario + \"_accuracy_score\"] = accuracy_score(y_test_cheap, predictions)\n",
    "    results_svc[model_name][scenario + \"score\"] = model.score(X_test_cheap, y_test_cheap)\n",
    "    models_trained_svc[model_name][scenario] = model\n",
    "    results_svc[model_name][scenario + \"confusion_matrix\"] = confusion_matrix(y_test_cheap, predictions)\n",
    "    sns.heatmap(confusion_matrix(y_test_cheap, predictions), annot=True)\n",
    "    plt.ylabel('Verdaderos')\n",
    "    plt.xlabel('Predichos')\n",
    "    plt.show()\n",
    "\n",
    "    model = clone(m[1])\n",
    "    scenario = \"expensive\"\n",
    "    print(model_name)\n",
    "    print(scenario)\n",
    "    model.fit(X_train_expensive, y_train_expensive)\n",
    "    predictions = model.predict(X_test_expensive)\n",
    "    acc = accuracy_score(y_test_expensive, predictions)\n",
    "    results_svc[model_name][scenario + \"_accuracy_score\"] = accuracy_score(y_test_expensive, predictions)\n",
    "    results_svc[model_name][scenario + \"score\"] = model.score(X_test_expensive, y_test_expensive)\n",
    "    models_trained_svc[model_name][scenario] = model\n",
    "    results_svc[model_name][scenario + \"confusion_matrix\"] = confusion_matrix(y_test_expensive, predictions)\n",
    "    sns.heatmap(confusion_matrix(y_test_expensive, predictions), annot=True)\n",
    "    plt.ylabel('Verdaderos')\n",
    "    plt.xlabel('Predichos')\n",
    "    plt.show()\n",
    "   \n",
    "df_results_svc_classification = pd.DataFrame(results_svc).T\n",
    "print(df_results_svc)"
   ]
  },
  {
   "cell_type": "code",
   "execution_count": 17,
   "metadata": {},
   "outputs": [
    {
     "data": {
      "text/html": [
       "<div>\n",
       "<style scoped>\n",
       "    .dataframe tbody tr th:only-of-type {\n",
       "        vertical-align: middle;\n",
       "    }\n",
       "\n",
       "    .dataframe tbody tr th {\n",
       "        vertical-align: top;\n",
       "    }\n",
       "\n",
       "    .dataframe thead th {\n",
       "        text-align: right;\n",
       "    }\n",
       "</style>\n",
       "<table border=\"1\" class=\"dataframe\">\n",
       "  <thead>\n",
       "    <tr style=\"text-align: right;\">\n",
       "      <th></th>\n",
       "      <th>classification_accuracy_score</th>\n",
       "      <th>classificationscore</th>\n",
       "      <th>classificationconfusion_matrix</th>\n",
       "      <th>cheap_accuracy_score</th>\n",
       "      <th>cheapscore</th>\n",
       "      <th>cheapconfusion_matrix</th>\n",
       "      <th>expensive_accuracy_score</th>\n",
       "      <th>expensivescore</th>\n",
       "      <th>expensiveconfusion_matrix</th>\n",
       "    </tr>\n",
       "  </thead>\n",
       "  <tbody>\n",
       "    <tr>\n",
       "      <th>DecisionTreeClassifier</th>\n",
       "      <td>0.902656</td>\n",
       "      <td>0.902656</td>\n",
       "      <td>[[224806, 2656, 37352], [19286, 238426, 6506],...</td>\n",
       "      <td>0.916699</td>\n",
       "      <td>0.916699</td>\n",
       "      <td>[[232710, 31838], [34273, 494822]]</td>\n",
       "      <td>0.953453</td>\n",
       "      <td>0.953453</td>\n",
       "      <td>[[239661, 24887], [12055, 517040]]</td>\n",
       "    </tr>\n",
       "    <tr>\n",
       "      <th>LogisticRegressionCV</th>\n",
       "      <td>0.906918</td>\n",
       "      <td>0.906918</td>\n",
       "      <td>[[231733, 6244, 26837], [19398, 235929, 8891],...</td>\n",
       "      <td>0.916678</td>\n",
       "      <td>0.916678</td>\n",
       "      <td>[[232302, 32246], [33882, 495213]]</td>\n",
       "      <td>0.953383</td>\n",
       "      <td>0.953383</td>\n",
       "      <td>[[239646, 24902], [12095, 517000]]</td>\n",
       "    </tr>\n",
       "    <tr>\n",
       "      <th>RandomForest</th>\n",
       "      <td>0.968879</td>\n",
       "      <td>0.968879</td>\n",
       "      <td>[[253241, 1430, 10143], [1929, 260655, 1634], ...</td>\n",
       "      <td>0.972974</td>\n",
       "      <td>0.972974</td>\n",
       "      <td>[[252888, 11660], [9789, 519306]]</td>\n",
       "      <td>0.991736</td>\n",
       "      <td>0.991736</td>\n",
       "      <td>[[260937, 3611], [2948, 526147]]</td>\n",
       "    </tr>\n",
       "  </tbody>\n",
       "</table>\n",
       "</div>"
      ],
      "text/plain": [
       "                       classification_accuracy_score classificationscore  \\\n",
       "DecisionTreeClassifier                      0.902656            0.902656   \n",
       "LogisticRegressionCV                        0.906918            0.906918   \n",
       "RandomForest                                0.968879            0.968879   \n",
       "\n",
       "                                           classificationconfusion_matrix  \\\n",
       "DecisionTreeClassifier  [[224806, 2656, 37352], [19286, 238426, 6506],...   \n",
       "LogisticRegressionCV    [[231733, 6244, 26837], [19398, 235929, 8891],...   \n",
       "RandomForest            [[253241, 1430, 10143], [1929, 260655, 1634], ...   \n",
       "\n",
       "                       cheap_accuracy_score cheapscore  \\\n",
       "DecisionTreeClassifier             0.916699   0.916699   \n",
       "LogisticRegressionCV               0.916678   0.916678   \n",
       "RandomForest                       0.972974   0.972974   \n",
       "\n",
       "                                     cheapconfusion_matrix  \\\n",
       "DecisionTreeClassifier  [[232710, 31838], [34273, 494822]]   \n",
       "LogisticRegressionCV    [[232302, 32246], [33882, 495213]]   \n",
       "RandomForest             [[252888, 11660], [9789, 519306]]   \n",
       "\n",
       "                       expensive_accuracy_score expensivescore  \\\n",
       "DecisionTreeClassifier                 0.953453       0.953453   \n",
       "LogisticRegressionCV                   0.953383       0.953383   \n",
       "RandomForest                           0.991736       0.991736   \n",
       "\n",
       "                                 expensiveconfusion_matrix  \n",
       "DecisionTreeClassifier  [[239661, 24887], [12055, 517040]]  \n",
       "LogisticRegressionCV    [[239646, 24902], [12095, 517000]]  \n",
       "RandomForest              [[260937, 3611], [2948, 526147]]  "
      ]
     },
     "execution_count": 17,
     "metadata": {},
     "output_type": "execute_result"
    }
   ],
   "source": [
    "df_results_svc_classification"
   ]
  },
  {
   "cell_type": "code",
   "execution_count": 17,
   "metadata": {},
   "outputs": [
    {
     "name": "stdout",
     "output_type": "stream",
     "text": [
      "Feature: airport_fee, Score: 0.00000\n",
      "Feature: PULocationID, Score: 0.04317\n",
      "Feature: DOLocationID, Score: 0.04783\n",
      "Feature: trip_distance, Score: 0.83257\n",
      "Feature: congestion_surcharge, Score: 0.00815\n",
      "Feature: pickup_day, Score: 0.02497\n",
      "Feature: pickup_month, Score: 0.01786\n",
      "Feature: pickup_hour, Score: 0.02546\n"
     ]
    },
    {
     "data": {
      "image/png": "[encoded data removed]",
      "text/plain": [
       "<Figure size 432x288 with 1 Axes>"
      ]
     },
     "metadata": {
      "needs_background": "light"
     },
     "output_type": "display_data"
    }
   ],
   "source": [
    "importance = balanced_df_is_expensive['RandomForest']['amount'].feature_importances_\n",
    "for i,v in zip(X_train.columns, importance):\n",
    "\tprint('Feature: %s, Score: %.5f' % (i,v))\n",
    "# plot feature importance\n",
    "pyplot.bar(list(X_train.columns), list(importance))\n",
    "pyplot.show()"
   ]
  },
  {
   "cell_type": "code",
   "execution_count": 34,
   "metadata": {},
   "outputs": [
    {
     "name": "stdout",
     "output_type": "stream",
     "text": [
      "Feature: airport_fee, Score: 0.00000\n",
      "Feature: PULocationID, Score: 0.06645\n",
      "Feature: DOLocationID, Score: 0.04590\n",
      "Feature: trip_distance, Score: 0.44866\n",
      "Feature: congestion_surcharge, Score: 0.02463\n",
      "Feature: pickup_day, Score: 0.20470\n",
      "Feature: pickup_month, Score: 0.18709\n",
      "Feature: pickup_hour, Score: 0.02257\n"
     ]
    },
    {
     "data": {
      "image/png": "[encoded data removed]",
      "text/plain": [
       "<Figure size 432x288 with 1 Axes>"
      ]
     },
     "metadata": {
      "needs_background": "light"
     },
     "output_type": "display_data"
    }
   ],
   "source": [
    "importance = models_trained['RandomForest']['classification'].feature_importances_\n",
    "for i,v in zip(X_train.columns, importance):\n",
    "\tprint('Feature: %s, Score: %.5f' % (i,v))\n",
    "# plot feature importance\n",
    "pyplot.bar(list(X_train.columns), list(importance))\n",
    "pyplot.show()"
   ]
  },
  {
   "cell_type": "code",
   "execution_count": null,
   "metadata": {},
   "outputs": [],
   "source": []
  },
  {
   "cell_type": "code",
   "execution_count": null,
   "metadata": {},
   "outputs": [],
   "source": []
  },
  {
   "cell_type": "markdown",
   "metadata": {},
   "source": [
    "Consideramos PCA"
   ]
  },
  {
   "cell_type": "code",
   "execution_count": 35,
   "metadata": {},
   "outputs": [],
   "source": [
    "from sklearn.decomposition import PCA\n",
    "pca = PCA(n_components=5)\n",
    "principalComponents = pca.fit_transform(X_train)\n",
    "principalDf = pd.DataFrame(data = principalComponents\n",
    "             , columns = ['principal_component1', 'principal_component2','principal_component3','principal_component4','principal_component5'])\n",
    "plt.plot(np.cumsum(pca.explained_variance_ratio_)); plt.grid(True);\n",
    "plt.plot(pca.explained_variance_ratio_); plt.grid(True);"
   ]
  },
  {
   "cell_type": "code",
   "execution_count": null,
   "metadata": {},
   "outputs": [],
   "source": []
  }
 ],
 "metadata": {
  "kernelspec": {
   "display_name": "Python 3.9.12 ('base')",
   "language": "python",
   "name": "python3"
  },
  "language_info": {
   "codemirror_mode": {
    "name": "ipython",
    "version": 3
   },
   "file_extension": ".py",
   "mimetype": "text/x-python",
   "name": "python",
   "nbconvert_exporter": "python",
   "pygments_lexer": "ipython3",
   "version": "3.9.12"
  },
  "orig_nbformat": 4,
  "vscode": {
   "interpreter": {
    "hash": "2694cdbf4718a5ec247b545273d596d40a2acbca35541806ef80a95b7d0be348"
   }
  }
 },
 "nbformat": 4,
 "nbformat_minor": 2
}
